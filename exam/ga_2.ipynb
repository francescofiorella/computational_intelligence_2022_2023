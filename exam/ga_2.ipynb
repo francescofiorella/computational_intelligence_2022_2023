{
 "cells": [
  {
   "attachments": {},
   "cell_type": "markdown",
   "metadata": {},
   "source": [
    "# Quarto"
   ]
  },
  {
   "cell_type": "code",
   "execution_count": 1,
   "metadata": {},
   "outputs": [],
   "source": [
    "import logging\n",
    "import argparse\n",
    "import random\n",
    "import quarto\n",
    "from collections import namedtuple\n",
    "import matplotlib.pyplot as plt"
   ]
  },
  {
   "cell_type": "code",
   "execution_count": 10,
   "metadata": {},
   "outputs": [],
   "source": [
    "logging.basicConfig(format=\"%(message)s\", level=logging.INFO)"
   ]
  },
  {
   "attachments": {},
   "cell_type": "markdown",
   "metadata": {},
   "source": [
    "## An agent using fixed rules"
   ]
  },
  {
   "attachments": {},
   "cell_type": "markdown",
   "metadata": {},
   "source": [
    "### The random player"
   ]
  },
  {
   "cell_type": "code",
   "execution_count": 11,
   "metadata": {},
   "outputs": [],
   "source": [
    "class RandomPlayer(quarto.Player):\n",
    "    \"\"\"Random player\"\"\"\n",
    "\n",
    "    def __init__(self, quarto: quarto.Quarto) -> None:\n",
    "        super().__init__(quarto)\n",
    "\n",
    "    def choose_piece(self) -> int:\n",
    "        return random.randint(0, 15)\n",
    "\n",
    "    def place_piece(self) -> tuple[int, int]:\n",
    "        return random.randint(0, 3), random.randint(0, 3)"
   ]
  },
  {
   "attachments": {},
   "cell_type": "markdown",
   "metadata": {},
   "source": [
    "### Some hardcoded strategies"
   ]
  },
  {
   "cell_type": "code",
   "execution_count": 12,
   "metadata": {},
   "outputs": [],
   "source": [
    "def get_lowest_row(game: quarto.Quarto, action=None) -> tuple[int, int]:\n",
    "    board = game.get_board_status()\n",
    "    for x in range(game.BOARD_SIDE):\n",
    "        for y in range(game.BOARD_SIDE):\n",
    "            if board[y, x] == -1: return x, y\n",
    "    return None, None\n",
    "\n",
    "def get_highest_row(game: quarto.Quarto, action=None) -> tuple[int, int]:\n",
    "    board = game.get_board_status()\n",
    "    for x in reversed(range(game.BOARD_SIDE)):\n",
    "        for y in range(game.BOARD_SIDE):\n",
    "            if board[y, x] == -1: return x, y\n",
    "    return None, None\n",
    "\n",
    "def get_middle_row(game: quarto.Quarto, action=None) -> tuple[int, int]:\n",
    "    board = game.get_board_status()\n",
    "    for x in [1, 2, 0, 3]:\n",
    "        for y in range(game.BOARD_SIDE):\n",
    "            if board[y, x] == -1: return x, y\n",
    "    return None, None\n",
    "\n",
    "def get_lowest_column(game: quarto.Quarto, action=None) -> tuple[int, int]:\n",
    "    board = game.get_board_status()\n",
    "    for y in range(game.BOARD_SIDE):\n",
    "        for x in range(game.BOARD_SIDE):\n",
    "            if board[y, x] == -1: return x, y\n",
    "    return None, None\n",
    "\n",
    "def get_highest_column(game: quarto.Quarto, action=None) -> tuple[int, int]:\n",
    "    board = game.get_board_status()\n",
    "    for y in reversed(range(game.BOARD_SIDE)):\n",
    "        for x in range(game.BOARD_SIDE):\n",
    "            if board[y, x] == -1: return x, y\n",
    "    return None, None\n",
    "\n",
    "def get_middle_column(game: quarto.Quarto, action=None) -> tuple[int, int]:\n",
    "    board = game.get_board_status()\n",
    "    for y in [1, 2, 0, 3]:\n",
    "        for x in range(game.BOARD_SIDE):\n",
    "            if board[y, x] == -1: return x, y\n",
    "    return None, None\n",
    "\n",
    "def get_lowest_coordinates(game: quarto.Quarto, action=None) -> tuple[int, int]:\n",
    "    board = game.get_board_status()\n",
    "    sum = game.BOARD_SIDE**2\n",
    "    coordinates = None, None\n",
    "    for y in range(game.BOARD_SIDE):\n",
    "        for x in range(game.BOARD_SIDE):\n",
    "            if board[y, x] == -1:\n",
    "                if sum > x + y:\n",
    "                    sum = x + y\n",
    "                    coordinates = x, y\n",
    "    return coordinates\n",
    "\n",
    "def get_highest_coordinates(game: quarto.Quarto, action=None) -> tuple[int, int]:\n",
    "    board = game.get_board_status()\n",
    "    sum = -1\n",
    "    coordinates = None, None\n",
    "    for y in reversed(range(game.BOARD_SIDE)):\n",
    "        for x in reversed(range(game.BOARD_SIDE)):\n",
    "            if board[y, x] == -1:\n",
    "                if sum < x + y:\n",
    "                    sum = x + y\n",
    "                    coordinates = x, y\n",
    "    return coordinates\n",
    "\n",
    "def get_middle_coordinates(game: quarto.Quarto, action=None) -> tuple[int, int]:\n",
    "    board = game.get_board_status()\n",
    "    first_ring = [(1, 1), (1, 2), (2, 1), (2, 2)]\n",
    "    for x, y in first_ring:\n",
    "        if board[y, x] == -1: return x, y\n",
    "    second_ring = [(0, 0), (0, 1), (0, 2), (0, 3), (1, 0), (1, 3), (2, 0), (2, 3), (3, 0), (3, 1), (3, 2), (3, 3)]\n",
    "    for x, y in second_ring:\n",
    "        if board[y, x] == -1: return x, y\n",
    "    return None, None\n",
    "\n",
    "def get_fill_coordinates(game: quarto.Quarto, action=\"fill\") -> tuple[int, int]:\n",
    "    '''action can be \"fill\" or \"unfill\"'''\n",
    "    assert action == \"fill\" or action == \"unfill\"\n",
    "\n",
    "    min_or_max = min if action == \"unfill\" else max\n",
    "    board = game.get_board_status()\n",
    "    sum_rows = {}\n",
    "    sum_columns = {}\n",
    "    sum_first_diagonal = 4\n",
    "    sum_second_diagonal = 4\n",
    "    c_row = {}\n",
    "    c_column = {}\n",
    "    c_first_diagonal = None, None\n",
    "    c_second_diagonal = None, None\n",
    "    \n",
    "    for x in range(game.BOARD_SIDE):\n",
    "        for y in range(game.BOARD_SIDE):\n",
    "            if board[y, x] == -1:\n",
    "                if x not in sum_rows: sum_rows[x] = 4\n",
    "                if y not in sum_columns: sum_columns[y] = 4\n",
    "                sum_rows[x] -= 1\n",
    "                c_row[x] = x, y\n",
    "                sum_columns[y] -= 1\n",
    "                c_column[y] = x, y\n",
    "                if (x == 3 and y == 0) or (x == 2 and y == 1) or (x == 1 and y == 2) or (x == 0 and y == 3):\n",
    "                    sum_first_diagonal -= 1\n",
    "                    c_first_diagonal = x, y\n",
    "                elif x == y:\n",
    "                    sum_second_diagonal -= 1\n",
    "                    c_second_diagonal = x, y\n",
    "    max_row = min_or_max(sum_rows, key=sum_rows.get) if len(sum_rows) != 0 else None\n",
    "    max_column = min_or_max(sum_columns, key=sum_columns.get) if len(sum_columns) != 0 else None\n",
    "    dictionary = {}\n",
    "    if max_row != None: dictionary[0] = sum_rows[max_row]\n",
    "    if max_column != None: dictionary[1] = sum_columns[max_column]\n",
    "    if sum_first_diagonal != 4: dictionary[2] = sum_first_diagonal\n",
    "    if sum_second_diagonal != 4: dictionary[3] = sum_second_diagonal\n",
    "\n",
    "    max_ = min_or_max(dictionary, key=dictionary.get) if len(dictionary) != 0 else None\n",
    "    if max_ == 0: return c_row[max_row]\n",
    "    elif max_ == 1: return c_column[max_column]\n",
    "    elif max_ == 2: return c_first_diagonal\n",
    "    elif max_ == 3: return c_second_diagonal\n",
    "    else: \n",
    "        return None, None"
   ]
  },
  {
   "cell_type": "code",
   "execution_count": 13,
   "metadata": {},
   "outputs": [],
   "source": [
    "def get_most_common_piece(game: quarto.Quarto, action=\"common\") -> int:\n",
    "    '''action can be \"common\" or \"uncommon\"'''\n",
    "    assert action == \"common\" or action == \"uncommon\"\n",
    "\n",
    "    high = 0\n",
    "    coloured = 0\n",
    "    solid = 0\n",
    "    square = 0\n",
    "    pieces = list(range(16))\n",
    "    board = game.get_board_status()\n",
    "    for x in range(game.BOARD_SIDE):\n",
    "        for y in range(game.BOARD_SIDE):\n",
    "            piece = board[y, x]\n",
    "            if piece != -1:\n",
    "                pieces.remove(piece)\n",
    "                if piece & 1 == 1: square += 1\n",
    "                if piece & 2 == 2: solid += 1\n",
    "                if piece & 4 == 4: coloured += 1\n",
    "                if piece & 8 == 8: high += 1\n",
    "    properties = {}\n",
    "    if high != 8: properties[8] = high\n",
    "    if coloured != 8: properties[4] = coloured\n",
    "    if solid != 8: properties[2] = solid\n",
    "    if square != 8: properties[1] = square\n",
    "    sorted_keys = sorted(properties, key=properties.get, reverse=(action==\"common\"))\n",
    "    for piece in pieces:\n",
    "        try:\n",
    "            if piece & sorted_keys[0] == sorted_keys[0]:\n",
    "                return piece\n",
    "        except:\n",
    "            # sorted_keys can have 0 length, this is due to the fact that piece 0 has False to all the properties\n",
    "            # This happens only if 0 is the last piece remaining\n",
    "            return piece\n",
    "    return pieces[0] if len(pieces) != 0 else None\n",
    "\n",
    "def get_most_similar_piece(game: quarto.Quarto, action=\"similar\"):\n",
    "    '''action can be \"similar\" or \"different\"'''\n",
    "    assert action == \"similar\" or action == \"different\"\n",
    "\n",
    "    board = game.get_board_status()\n",
    "    last_piece = game.get_selected_piece()\n",
    "    pieces = list(range(16))\n",
    "    for x in range(game.BOARD_SIDE):\n",
    "        for y in range(game.BOARD_SIDE):\n",
    "            piece = board[y, x]\n",
    "            if piece != -1:\n",
    "                pieces.remove(piece)\n",
    "    best = None\n",
    "    similarity = 0 if action == \"similar\" else game.BOARD_SIDE**2\n",
    "    for piece in pieces:\n",
    "        current = 1\n",
    "        if piece & 1 == last_piece & 1: current += 1\n",
    "        if piece & 2 == last_piece & 2: current += 1\n",
    "        if piece & 4 == last_piece & 4: current += 1\n",
    "        if piece & 8 == last_piece & 8: current += 1\n",
    "        if action == \"similar\" and current > similarity:\n",
    "            best = piece\n",
    "            similarity = current\n",
    "        if action == \"different\" and current < similarity:\n",
    "            best = piece\n",
    "            similarity = current\n",
    "    return best"
   ]
  },
  {
   "attachments": {},
   "cell_type": "markdown",
   "metadata": {},
   "source": [
    "### The hardcoded player"
   ]
  },
  {
   "cell_type": "code",
   "execution_count": 14,
   "metadata": {},
   "outputs": [],
   "source": [
    "class HardcodedPlayer(quarto.Player):\n",
    "    \"\"\"Random player\"\"\"\n",
    "\n",
    "    def __init__(self, quarto: quarto.Quarto, choose_strategy, place_strategy) -> None:\n",
    "        super().__init__(quarto)\n",
    "        self.choose_strategy = choose_strategy[0]\n",
    "        self.choose_action = choose_strategy[1]\n",
    "        self.place_strategy = place_strategy[0]\n",
    "        self.place_action = place_strategy[1]\n",
    "\n",
    "    def choose_piece(self) -> int:\n",
    "        return self.choose_strategy(self.get_game(), self.choose_action)\n",
    "\n",
    "    def place_piece(self) -> tuple[int, int]:\n",
    "        return self.place_strategy(self.get_game(), self.place_action)"
   ]
  },
  {
   "attachments": {},
   "cell_type": "markdown",
   "metadata": {},
   "source": [
    "## An agent using evolved rules"
   ]
  },
  {
   "attachments": {},
   "cell_type": "markdown",
   "metadata": {},
   "source": [
    "### Individual\n",
    "An individual is formed by two lists:\n",
    "- The first one contains four numbers that refer to the choosing phase.\n",
    "- The second one contains eleven numbers that refer to the placing phase.\n",
    "\n",
    "Each number represents the probability that a certain strategy will be chosen."
   ]
  },
  {
   "cell_type": "code",
   "execution_count": 17,
   "metadata": {},
   "outputs": [],
   "source": [
    "Individual = namedtuple(\"Individual\", [\"genome\", \"fitness\"])"
   ]
  },
  {
   "attachments": {},
   "cell_type": "markdown",
   "metadata": {},
   "source": [
    "### Evolved strategy\n",
    "It is a method that can be used both in the choosing and in the placing phase.<br>\n",
    "It takes as argument one of the two lists of the individual, then generate a random number, and uses it to return an appropriate result (coordinates or piece index) based on the chosen strategy."
   ]
  },
  {
   "cell_type": "code",
   "execution_count": 18,
   "metadata": {},
   "outputs": [],
   "source": [
    "def get_evolved_strategy(game: quarto.Quarto, half_individual, action=\"place\"):\n",
    "    '''action can be \"place\" or \"choose\"'''\n",
    "    # half_individual is made of probabilities in [0.0, 1.0] (with 1 decimal digit)\n",
    "    assert action == \"place\" or action == \"choose\"\n",
    "    assert len(half_individual) == (4 if action == \"choose\" else 11)\n",
    "\n",
    "    if action == \"choose\":\n",
    "        strategies = [get_most_common_piece, get_most_common_piece, get_most_similar_piece, get_most_similar_piece]\n",
    "        actions = [\"common\", \"uncommon\", \"similar\", \"different\"]\n",
    "    else:\n",
    "        strategies = [get_lowest_row, get_highest_row, get_middle_row, get_lowest_column, get_highest_column, get_middle_column, get_lowest_coordinates, get_highest_coordinates, get_middle_coordinates, get_fill_coordinates, get_fill_coordinates]\n",
    "        actions = [None, None, None, None, None, None, None, None, None, \"fill\", \"unfill\"]\n",
    "    \n",
    "    cumulated = list()\n",
    "    for index, prob in enumerate(half_individual):\n",
    "        if index == 0: cumulated.append(prob*10)\n",
    "        else: cumulated.append(cumulated[index-1] + prob*10)\n",
    "    \n",
    "    rand = random.randint(0, cumulated[3 if action == \"choose\" else 10])\n",
    "    for index, prob in enumerate(cumulated):\n",
    "        if rand <= prob: return strategies[index](game, action=actions[index])\n",
    "    max_ = cumulated[3 if action == \"choose\" else 10]\n",
    "    return None if action == \"choose\" else None, None"
   ]
  },
  {
   "attachments": {},
   "cell_type": "markdown",
   "metadata": {},
   "source": [
    "### The evolved player"
   ]
  },
  {
   "cell_type": "code",
   "execution_count": 19,
   "metadata": {},
   "outputs": [],
   "source": [
    "class EvolvedPlayer(quarto.Player):\n",
    "    \"\"\"Random player\"\"\"\n",
    "\n",
    "    def __init__(self, quarto: quarto.Quarto, individual) -> None:\n",
    "        super().__init__(quarto)\n",
    "        self.choose_individual = individual[0]\n",
    "        self.place_individual = individual[1]\n",
    "\n",
    "    def choose_piece(self) -> int:\n",
    "        return get_evolved_strategy(self.get_game(), self.choose_individual, \"choose\")\n",
    "\n",
    "    def place_piece(self) -> tuple[int, int]:\n",
    "        return get_evolved_strategy(self.get_game(), self.place_individual, \"place\")"
   ]
  },
  {
   "attachments": {},
   "cell_type": "markdown",
   "metadata": {},
   "source": [
    "### Cross-over\n",
    "Given two individual, merge them by taking a random $num$ of propabilities of the first one and $NUM\\_ROWS - num$ probabilities of the second one, twice (for both the lists in the individuals)."
   ]
  },
  {
   "cell_type": "code",
   "execution_count": 20,
   "metadata": {},
   "outputs": [],
   "source": [
    "# returns individuals with max fitness (the fittest) but still random\n",
    "def tournament(population, tournament_size=2):\n",
    "    return max(random.choices(population, k=tournament_size), key=lambda i: i.fitness)\n",
    "\n",
    "def cross_over(g1, g2):\n",
    "    cut_choose = random.randint(0, 3)\n",
    "    cut_place = random.randint(0, 10)\n",
    "    return [\n",
    "        g1[0][:cut_choose] + g2[0][cut_choose:],\n",
    "        g1[1][:cut_place] + g2[1][cut_place:]\n",
    "    ]"
   ]
  },
  {
   "attachments": {},
   "cell_type": "markdown",
   "metadata": {},
   "source": [
    "### Mutation\n",
    "Replace a random probability of the individual with another random probability, twice (for both the lists of the individuals)."
   ]
  },
  {
   "cell_type": "code",
   "execution_count": 21,
   "metadata": {},
   "outputs": [],
   "source": [
    "def mutation(g):\n",
    "    point_choose = random.randint(0, 3)\n",
    "    point_place = random.randint(0, 10)\n",
    "    new_choose = random.randint(0, 10) / 10\n",
    "    new_place = random.randint(0, 10) / 10\n",
    "    return [\n",
    "        g[0][:point_choose] + ([new_choose]) + g[0][point_choose + 1 :],\n",
    "        g[1][:point_place] + ([new_place]) + g[1][point_place + 1 :]\n",
    "    ]"
   ]
  },
  {
   "attachments": {},
   "cell_type": "markdown",
   "metadata": {},
   "source": [
    "### Fitness\n",
    "The fitness is the winning ratio of the individual against the random agent in 200 matches.<br>\n",
    "The evolved player makes the first move in half of the games."
   ]
  },
  {
   "cell_type": "code",
   "execution_count": 22,
   "metadata": {},
   "outputs": [],
   "source": [
    "def fitness(individual, num_matches=200):\n",
    "    won = 0\n",
    "    for match in range(num_matches):\n",
    "        game = quarto.Quarto()\n",
    "        if match % 2 == 0: game.set_players((EvolvedPlayer(game, individual), RandomPlayer(game)))\n",
    "        else: game.set_players((RandomPlayer(game), EvolvedPlayer(game, individual)))\n",
    "\n",
    "        if game.run() == match % 2: won += 1\n",
    "    return won/num_matches"
   ]
  },
  {
   "attachments": {},
   "cell_type": "markdown",
   "metadata": {},
   "source": [
    "### Initial Population"
   ]
  },
  {
   "cell_type": "code",
   "execution_count": 23,
   "metadata": {},
   "outputs": [],
   "source": [
    "POPULATION_SIZE = 50\n",
    "OFFSPRING_SIZE = 17\n",
    "\n",
    "NUM_GENERATIONS = 200\n",
    "FITNESS_PRECISION = 100"
   ]
  },
  {
   "cell_type": "code",
   "execution_count": 16,
   "metadata": {},
   "outputs": [
    {
     "name": "stderr",
     "output_type": "stream",
     "text": [
      "init: pop_size=50; max=0.63\n"
     ]
    }
   ],
   "source": [
    "population = list()\n",
    "for index in range(POPULATION_SIZE):\n",
    "    genome = [\n",
    "        [random.randint(0, 10) / 10 for _ in range(4)],\n",
    "        [random.randint(0, 10) / 10 for _ in range(11)]\n",
    "    ]\n",
    "    population.append(Individual(genome, fitness(genome, FITNESS_PRECISION)))\n",
    "\n",
    "logging.info(f\"init: pop_size={len(population)}; max={max(population, key=lambda i: i.fitness)[1]}\")"
   ]
  },
  {
   "attachments": {},
   "cell_type": "markdown",
   "metadata": {},
   "source": [
    "### Evolution Algorithm"
   ]
  },
  {
   "cell_type": "code",
   "execution_count": 17,
   "metadata": {},
   "outputs": [
    {
     "name": "stderr",
     "output_type": "stream",
     "text": [
      "Number of generations: 200\n",
      "Population size: 50\n",
      "Offspring size: 17\n",
      "\n",
      "Best individual\n",
      " Choose: [0.5, 0.3, 0.1, 0.7]\n",
      " Place: [0.0, 0.3, 0.4, 0.6, 0.2, 0.3, 0.1, 0.2, 0.6, 1.0, 0.4]\n",
      " Fitness: 0.715\n"
     ]
    }
   ],
   "source": [
    "fitness_log = [(0, i.fitness) for i in population]\n",
    "\n",
    "mutation_rate = 0.3\n",
    "for g in range(NUM_GENERATIONS):\n",
    "    if g % 50 == 49: mutation_rate -= 0.5\n",
    "    offspring = list()\n",
    "    for i in range(OFFSPRING_SIZE):\n",
    "        if random.random() < mutation_rate:\n",
    "            p = tournament(population)\n",
    "            o = mutation(p.genome)\n",
    "        else:\n",
    "            p1 = tournament(population)\n",
    "            p2 = tournament(population)\n",
    "            o = cross_over(p1.genome, p2.genome)\n",
    "        f = fitness(o, num_matches=FITNESS_PRECISION)\n",
    "        fitness_log.append((g + 1, f))\n",
    "        offspring.append(Individual(o, f))\n",
    "    for goff in offspring:\n",
    "        if goff not in population:\n",
    "            population.append(goff)\n",
    "    population = sorted(population, key=lambda i: i.fitness, reverse=True)[:POPULATION_SIZE]\n",
    "\n",
    "best_individual = max(population, key=lambda i: i.fitness)\n",
    "\n",
    "logging.info(f\"Number of generations: {NUM_GENERATIONS}\")\n",
    "logging.info(f\"Population size: {POPULATION_SIZE}\")\n",
    "logging.info(f\"Offspring size: {OFFSPRING_SIZE}\\n\")\n",
    "\n",
    "logging.info(f\"Best individual\")\n",
    "logging.info(f\" Choose: {best_individual.genome[0]}\")\n",
    "logging.info(f\" Place: {best_individual.genome[1]}\")\n",
    "logging.info(f\" Fitness: {best_individual.fitness}\")"
   ]
  },
  {
   "attachments": {},
   "cell_type": "markdown",
   "metadata": {},
   "source": [
    "### Performance Evaluation"
   ]
  },
  {
   "cell_type": "code",
   "execution_count": 18,
   "metadata": {},
   "outputs": [
    {
     "data": {
      "text/plain": [
       "[<matplotlib.lines.Line2D at 0x2d06b580850>]"
      ]
     },
     "execution_count": 18,
     "metadata": {},
     "output_type": "execute_result"
    },
    {
     "data": {
      "image/png": "[encoded data removed]",
      "text/plain": [
       "<Figure size 1500x600 with 1 Axes>"
      ]
     },
     "metadata": {},
     "output_type": "display_data"
    }
   ],
   "source": [
    "off_line = [max(f[1] for f in fitness_log if f[0] == x) / (x + 1) for x in range(NUM_GENERATIONS)]\n",
    "on_line = [max(f[1] for f in fitness_log if f[0] <= x) / (x + 1) for x in range(NUM_GENERATIONS)]\n",
    "gen_best = [max(f[1] for f in fitness_log if f[0] == x) for x in range(NUM_GENERATIONS)]\n",
    "\n",
    "plt.figure(figsize=(15, 6))\n",
    "plt.scatter([x for x, _ in fitness_log], [y for _, y in fitness_log], marker=\".\")\n",
    "plt.plot([x for x, _ in enumerate(gen_best)], [y for _, y in enumerate(gen_best)])\n",
    "plt.plot([x for x, _ in enumerate(on_line)], [y for _, y in enumerate(on_line)])\n",
    "plt.plot([x for x, _ in enumerate(off_line)], [y for _, y in enumerate(off_line)])"
   ]
  },
  {
   "attachments": {},
   "cell_type": "markdown",
   "metadata": {},
   "source": [
    "### Results\n",
    "\n",
    "| NUM_GENERATIONS | POPULATION_SIZE | OFFSPRING_SIZE | Mutation Rate | Best Fitness |   Time  |\n",
    "| :-------------: | :-------------: | :------------: | :-----------: | :----------: | :-----: |\n",
    "|       200       |        50       |       17       |      0.3      |     0.86     |  9m 3s  |\n",
    "|       200       |        50       |       17       |   0.3 -> 0.1  |     0.81     |  9m 1s  |\n",
    "|       200       |        50       |       17       |      0.4      |     0.78     |  9m 11s |\n",
    "|       200       |        50       |       17       |   0.4 -> 0.2  |     0.78     |  9m 29s |\n",
    "|       100       |        50       |       17       |      0.3      |     0.76     |  4m 34s |\n",
    "|       200       |        50       |       17       |   0.2 -> 0.4  |     0.76     |  9m 21s |\n",
    "|       200       |        50       |       17       |  0.25 -> 0.15 |     0.75     |  9m 39s |\n",
    "|       300       |        50       |       17       |      0.3      |     0.75     | 13m 38s |\n",
    "|       100       |        10       |        3       |      0.3      |     0.74     |   50s   |\n",
    "|       500       |        10       |        3       |      0.3      |     0.74     |  4m 13s |\n",
    "|       200       |        50       |       17       |   0.3 -> 0.5  |     0.73     |  9m 7s  |\n",
    "|       100       |        30       |       10       |      0.3      |     0.72     |  2m 46s |\n",
    "|       500       |        50       |       17       |      0.3      |     0.86     |  9m 3s  |\n",
    "\n",
    "N.B. The fitness refers to the approximated one."
   ]
  },
  {
   "attachments": {},
   "cell_type": "markdown",
   "metadata": {},
   "source": [
    "### Further evaluations"
   ]
  },
  {
   "attachments": {},
   "cell_type": "markdown",
   "metadata": {},
   "source": [
    "A more accurate fitness"
   ]
  },
  {
   "cell_type": "code",
   "execution_count": 41,
   "metadata": {},
   "outputs": [
    {
     "data": {
      "text/plain": [
       "0.5773"
      ]
     },
     "execution_count": 41,
     "metadata": {},
     "output_type": "execute_result"
    }
   ],
   "source": [
    "fitness(best_individual.genome, num_matches=10000)"
   ]
  },
  {
   "attachments": {},
   "cell_type": "markdown",
   "metadata": {},
   "source": [
    "A tournament against all the hardcoded strategies"
   ]
  },
  {
   "cell_type": "code",
   "execution_count": null,
   "metadata": {},
   "outputs": [],
   "source": [
    "choose_strategies = [get_most_common_piece, get_most_common_piece, get_most_similar_piece, get_most_similar_piece]\n",
    "choose_actions = [\"common\", \"uncommon\", \"similar\", \"different\"]\n",
    "place_strategies = [get_lowest_row, get_highest_row, get_middle_row, get_lowest_column, get_highest_column, get_middle_column, get_lowest_coordinates, get_highest_coordinates, get_middle_coordinates, get_fill_coordinates, get_fill_coordinates]\n",
    "place_actions = [None, None, None, None, None, None, None, None, None, \"fill\", \"unfill\"]"
   ]
  },
  {
   "cell_type": "code",
   "execution_count": 20,
   "metadata": {},
   "outputs": [
    {
     "name": "stderr",
     "output_type": "stream",
     "text": [
      "Win ratio: 0.44187777777777776\n"
     ]
    }
   ],
   "source": [
    "won = 0\n",
    "tot_matches = 0\n",
    "NUM_MATCHES = 2000\n",
    "for choose_index, choose_strategy in enumerate(choose_strategies):\n",
    "    for place_index, place_strategy in enumerate(place_strategies):\n",
    "        for match in range(NUM_MATCHES):\n",
    "            tot_matches += 1\n",
    "            game = quarto.Quarto()\n",
    "            hardcoded_player = HardcodedPlayer(\n",
    "                game,\n",
    "                [choose_strategy, choose_actions[choose_index]],\n",
    "                [place_strategy, place_actions[place_index]]\n",
    "            )\n",
    "            if match % 2 == 0: game.set_players((EvolvedPlayer(game, best_individual.genome), hardcoded_player))\n",
    "            else: game.set_players((hardcoded_player, EvolvedPlayer(game, best_individual.genome)))\n",
    "\n",
    "            if game.run() == match % 2: won += 1\n",
    "\n",
    "for match in range(NUM_MATCHES):\n",
    "    tot_matches += 1\n",
    "    game = quarto.Quarto()\n",
    "    if match % 2 == 0: game.set_players((EvolvedPlayer(game, best_individual.genome), RandomPlayer(game)))\n",
    "    else: game.set_players((RandomPlayer(game), EvolvedPlayer(game, best_individual.genome)))\n",
    "\n",
    "    if game.run() == match % 2: won += 1\n",
    "\n",
    "logging.info(f\"Win ratio: {won/tot_matches}\")"
   ]
  }
 ],
 "metadata": {
  "kernelspec": {
   "display_name": "Python 3",
   "language": "python",
   "name": "python3"
  },
  "language_info": {
   "codemirror_mode": {
    "name": "ipython",
    "version": 3
   },
   "file_extension": ".py",
   "mimetype": "text/x-python",
   "name": "python",
   "nbconvert_exporter": "python",
   "pygments_lexer": "ipython3",
   "version": "3.10.9 (tags/v3.10.9:1dd9be6, Dec  6 2022, 20:01:21) [MSC v.1934 64 bit (AMD64)]"
  },
  "orig_nbformat": 4,
  "vscode": {
   "interpreter": {
    "hash": "9aff9e50adfaa9e30c910fb3872ffdc72747acb5f50803ca0504f00e980f7c25"
   }
  }
 },
 "nbformat": 4,
 "nbformat_minor": 2
}
