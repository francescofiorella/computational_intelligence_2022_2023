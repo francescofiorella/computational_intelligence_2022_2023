{
 "cells": [
  {
   "attachments": {},
   "cell_type": "markdown",
   "metadata": {},
   "source": [
    "# Quarto"
   ]
  },
  {
   "cell_type": "code",
   "execution_count": 1,
   "metadata": {},
   "outputs": [],
   "source": [
    "import logging\n",
    "import argparse\n",
    "import random\n",
    "import quarto\n",
    "from collections import namedtuple\n",
    "import matplotlib.pyplot as plt\n",
    "from copy import deepcopy\n",
    "import numpy as np\n",
    "import pickle"
   ]
  },
  {
   "cell_type": "code",
   "execution_count": 2,
   "metadata": {},
   "outputs": [],
   "source": [
    "logging.basicConfig(format=\"%(message)s\", level=logging.INFO)"
   ]
  },
  {
   "attachments": {},
   "cell_type": "markdown",
   "metadata": {},
   "source": [
    "## An agent using fixed rules"
   ]
  },
  {
   "attachments": {},
   "cell_type": "markdown",
   "metadata": {},
   "source": [
    "### The random player"
   ]
  },
  {
   "cell_type": "code",
   "execution_count": 3,
   "metadata": {},
   "outputs": [],
   "source": [
    "class RandomPlayer(quarto.Player):\n",
    "    \"\"\"Random player\"\"\"\n",
    "\n",
    "    def __init__(self, quarto: quarto.Quarto) -> None:\n",
    "        super().__init__(quarto)\n",
    "\n",
    "    def choose_piece(self) -> int:\n",
    "        return random.randint(0, 15)\n",
    "\n",
    "    def place_piece(self) -> tuple[int, int]:\n",
    "        return random.randint(0, 3), random.randint(0, 3)"
   ]
  },
  {
   "attachments": {},
   "cell_type": "markdown",
   "metadata": {},
   "source": [
    "### Some hardcoded strategies\n",
    "\n",
    "We'll try to simulate some human behaviours."
   ]
  },
  {
   "attachments": {},
   "cell_type": "markdown",
   "metadata": {},
   "source": [
    "### Placing criteria\n",
    "The placing phase can be characterized by 11 different strategies:\n",
    "- Place in the lowest row\n",
    "- Place in the highest row\n",
    "- Place in the middle row\n",
    "- Place in the lowest column\n",
    "- Place in the highest column\n",
    "- Place in the middle column\n",
    "- Place in the lowest coordinates\n",
    "- Place in the highest coordinates\n",
    "- Place in the middle coordinates\n",
    "- Try to fill a row/column/diagonal\n",
    "- Try not to fill a row/column/diagonal"
   ]
  },
  {
   "cell_type": "code",
   "execution_count": 10,
   "metadata": {},
   "outputs": [],
   "source": [
    "def get_lowest_row(game: quarto.Quarto, action=None) -> tuple[int, int]:\n",
    "    board = game.get_board_status()\n",
    "    for x in range(game.BOARD_SIDE):\n",
    "        for y in range(game.BOARD_SIDE):\n",
    "            if board[y, x] == -1: return x, y\n",
    "    return None, None\n",
    "\n",
    "def get_highest_row(game: quarto.Quarto, action=None) -> tuple[int, int]:\n",
    "    board = game.get_board_status()\n",
    "    for x in reversed(range(game.BOARD_SIDE)):\n",
    "        for y in range(game.BOARD_SIDE):\n",
    "            if board[y, x] == -1: return x, y\n",
    "    return None, None\n",
    "\n",
    "def get_middle_row(game: quarto.Quarto, action=None) -> tuple[int, int]:\n",
    "    board = game.get_board_status()\n",
    "    for x in [1, 2, 0, 3]:\n",
    "        for y in range(game.BOARD_SIDE):\n",
    "            if board[y, x] == -1: return x, y\n",
    "    return None, None\n",
    "\n",
    "def get_lowest_column(game: quarto.Quarto, action=None) -> tuple[int, int]:\n",
    "    board = game.get_board_status()\n",
    "    for y in range(game.BOARD_SIDE):\n",
    "        for x in range(game.BOARD_SIDE):\n",
    "            if board[y, x] == -1: return x, y\n",
    "    return None, None\n",
    "\n",
    "def get_highest_column(game: quarto.Quarto, action=None) -> tuple[int, int]:\n",
    "    board = game.get_board_status()\n",
    "    for y in reversed(range(game.BOARD_SIDE)):\n",
    "        for x in range(game.BOARD_SIDE):\n",
    "            if board[y, x] == -1: return x, y\n",
    "    return None, None\n",
    "\n",
    "def get_middle_column(game: quarto.Quarto, action=None) -> tuple[int, int]:\n",
    "    board = game.get_board_status()\n",
    "    for y in [1, 2, 0, 3]:\n",
    "        for x in range(game.BOARD_SIDE):\n",
    "            if board[y, x] == -1: return x, y\n",
    "    return None, None\n",
    "\n",
    "def get_lowest_coordinates(game: quarto.Quarto, action=None) -> tuple[int, int]:\n",
    "    board = game.get_board_status()\n",
    "    sum = game.BOARD_SIDE**2\n",
    "    coordinates = None, None\n",
    "    for y in range(game.BOARD_SIDE):\n",
    "        for x in range(game.BOARD_SIDE):\n",
    "            if board[y, x] == -1:\n",
    "                if sum > x + y:\n",
    "                    sum = x + y\n",
    "                    coordinates = x, y\n",
    "    return coordinates\n",
    "\n",
    "def get_highest_coordinates(game: quarto.Quarto, action=None) -> tuple[int, int]:\n",
    "    board = game.get_board_status()\n",
    "    sum = -1\n",
    "    coordinates = None, None\n",
    "    for y in reversed(range(game.BOARD_SIDE)):\n",
    "        for x in reversed(range(game.BOARD_SIDE)):\n",
    "            if board[y, x] == -1:\n",
    "                if sum < x + y:\n",
    "                    sum = x + y\n",
    "                    coordinates = x, y\n",
    "    return coordinates\n",
    "\n",
    "def get_middle_coordinates(game: quarto.Quarto, action=None) -> tuple[int, int]:\n",
    "    board = game.get_board_status()\n",
    "    first_ring = [(1, 1), (1, 2), (2, 1), (2, 2)]\n",
    "    for x, y in first_ring:\n",
    "        if board[y, x] == -1: return x, y\n",
    "    second_ring = [(0, 0), (0, 1), (0, 2), (0, 3), (1, 0), (1, 3), (2, 0), (2, 3), (3, 0), (3, 1), (3, 2), (3, 3)]\n",
    "    for x, y in second_ring:\n",
    "        if board[y, x] == -1: return x, y\n",
    "    return None, None\n",
    "\n",
    "def get_fill_coordinates(game: quarto.Quarto, action=\"fill\") -> tuple[int, int]:\n",
    "    '''action can be \"fill\" or \"unfill\"'''\n",
    "    assert action == \"fill\" or action == \"unfill\"\n",
    "\n",
    "    min_or_max = min if action == \"unfill\" else max\n",
    "    board = game.get_board_status()\n",
    "    sum_rows = {}\n",
    "    sum_columns = {}\n",
    "    sum_first_diagonal = 4\n",
    "    sum_second_diagonal = 4\n",
    "    c_row = {}\n",
    "    c_column = {}\n",
    "    c_first_diagonal = None, None\n",
    "    c_second_diagonal = None, None\n",
    "    \n",
    "    for x in range(game.BOARD_SIDE):\n",
    "        for y in range(game.BOARD_SIDE):\n",
    "            if board[y, x] == -1:\n",
    "                if x not in sum_rows: sum_rows[x] = 4\n",
    "                if y not in sum_columns: sum_columns[y] = 4\n",
    "                sum_rows[x] -= 1\n",
    "                c_row[x] = x, y\n",
    "                sum_columns[y] -= 1\n",
    "                c_column[y] = x, y\n",
    "                if (x == 3 and y == 0) or (x == 2 and y == 1) or (x == 1 and y == 2) or (x == 0 and y == 3):\n",
    "                    sum_first_diagonal -= 1\n",
    "                    c_first_diagonal = x, y\n",
    "                elif x == y:\n",
    "                    sum_second_diagonal -= 1\n",
    "                    c_second_diagonal = x, y\n",
    "    max_row = min_or_max(sum_rows, key=sum_rows.get) if len(sum_rows) != 0 else None\n",
    "    max_column = min_or_max(sum_columns, key=sum_columns.get) if len(sum_columns) != 0 else None\n",
    "    dictionary = {}\n",
    "    if max_row != None: dictionary[0] = sum_rows[max_row]\n",
    "    if max_column != None: dictionary[1] = sum_columns[max_column]\n",
    "    if sum_first_diagonal != 4: dictionary[2] = sum_first_diagonal\n",
    "    if sum_second_diagonal != 4: dictionary[3] = sum_second_diagonal\n",
    "\n",
    "    max_ = min_or_max(dictionary, key=dictionary.get) if len(dictionary) != 0 else None\n",
    "    if max_ == 0: return c_row[max_row]\n",
    "    elif max_ == 1: return c_column[max_column]\n",
    "    elif max_ == 2: return c_first_diagonal\n",
    "    elif max_ == 3: return c_second_diagonal\n",
    "    else: \n",
    "        return None, None"
   ]
  },
  {
   "attachments": {},
   "cell_type": "markdown",
   "metadata": {},
   "source": [
    "### Choosing criteria\n",
    "The choosing phase can be characterized by 4 different strategies:\n",
    "- Choose a piece with the most uncommon properties\n",
    "- Choose a piece with the most common properties\n",
    "- Choose a piece with similar properties of the last chosen piece\n",
    "- Choose a piece with different properties of the last chosen piece"
   ]
  },
  {
   "cell_type": "code",
   "execution_count": 11,
   "metadata": {},
   "outputs": [],
   "source": [
    "def get_most_common_piece(game: quarto.Quarto, action=\"common\") -> int:\n",
    "    '''action can be \"common\" or \"uncommon\"'''\n",
    "    assert action == \"common\" or action == \"uncommon\"\n",
    "\n",
    "    high = 0\n",
    "    coloured = 0\n",
    "    solid = 0\n",
    "    square = 0\n",
    "    pieces = list(range(16))\n",
    "    board = game.get_board_status()\n",
    "    for x in range(game.BOARD_SIDE):\n",
    "        for y in range(game.BOARD_SIDE):\n",
    "            piece = board[y, x]\n",
    "            if piece != -1:\n",
    "                pieces.remove(piece)\n",
    "                if piece & 1 == 1: square += 1\n",
    "                if piece & 2 == 2: solid += 1\n",
    "                if piece & 4 == 4: coloured += 1\n",
    "                if piece & 8 == 8: high += 1\n",
    "    properties = {}\n",
    "    if high != 8: properties[8] = high\n",
    "    if coloured != 8: properties[4] = coloured\n",
    "    if solid != 8: properties[2] = solid\n",
    "    if square != 8: properties[1] = square\n",
    "    sorted_keys = sorted(properties, key=properties.get, reverse=(action==\"common\"))\n",
    "    for piece in pieces:\n",
    "        try:\n",
    "            if piece & sorted_keys[0] == sorted_keys[0]:\n",
    "                return piece\n",
    "        except:\n",
    "            # sorted_keys can have 0 length, this is due to the fact that piece 0 has False to all the properties\n",
    "            # This happens only if 0 is the last piece remaining\n",
    "            return piece\n",
    "    return pieces[0] if len(pieces) != 0 else None\n",
    "\n",
    "def get_most_similar_piece(game: quarto.Quarto, action=\"similar\"):\n",
    "    '''action can be \"similar\" or \"different\"'''\n",
    "    assert action == \"similar\" or action == \"different\"\n",
    "\n",
    "    board = game.get_board_status()\n",
    "    last_piece = game.get_selected_piece()\n",
    "    pieces = list(range(16))\n",
    "    for x in range(game.BOARD_SIDE):\n",
    "        for y in range(game.BOARD_SIDE):\n",
    "            piece = board[y, x]\n",
    "            if piece != -1:\n",
    "                pieces.remove(piece)\n",
    "    best = None\n",
    "    similarity = 0 if action == \"similar\" else game.BOARD_SIDE**2\n",
    "    for piece in pieces:\n",
    "        current = 1\n",
    "        if piece & 1 == last_piece & 1: current += 1\n",
    "        if piece & 2 == last_piece & 2: current += 1\n",
    "        if piece & 4 == last_piece & 4: current += 1\n",
    "        if piece & 8 == last_piece & 8: current += 1\n",
    "        if action == \"similar\" and current > similarity:\n",
    "            best = piece\n",
    "            similarity = current\n",
    "        if action == \"different\" and current < similarity:\n",
    "            best = piece\n",
    "            similarity = current\n",
    "    return best"
   ]
  },
  {
   "attachments": {},
   "cell_type": "markdown",
   "metadata": {},
   "source": [
    "### The hardcoded player"
   ]
  },
  {
   "cell_type": "code",
   "execution_count": 12,
   "metadata": {},
   "outputs": [],
   "source": [
    "class HardcodedPlayer(quarto.Player):\n",
    "    \"\"\"Hardcoded player\"\"\"\n",
    "\n",
    "    def __init__(self, quarto: quarto.Quarto, choose_strategy, place_strategy) -> None:\n",
    "        super().__init__(quarto)\n",
    "        self.choose_strategy = choose_strategy[0]\n",
    "        self.choose_action = choose_strategy[1]\n",
    "        self.place_strategy = place_strategy[0]\n",
    "        self.place_action = place_strategy[1]\n",
    "\n",
    "    def choose_piece(self) -> int:\n",
    "        return self.choose_strategy(self.get_game(), self.choose_action)\n",
    "\n",
    "    def place_piece(self) -> tuple[int, int]:\n",
    "        return self.place_strategy(self.get_game(), self.place_action)"
   ]
  },
  {
   "attachments": {},
   "cell_type": "markdown",
   "metadata": {},
   "source": [
    "### The tournament"
   ]
  },
  {
   "cell_type": "code",
   "execution_count": 7,
   "metadata": {},
   "outputs": [],
   "source": [
    "choose_strategies = [get_most_common_piece, get_most_common_piece, get_most_similar_piece, get_most_similar_piece]\n",
    "choose_actions = [\"common\", \"uncommon\", \"similar\", \"different\"]\n",
    "place_strategies = [get_lowest_row, get_highest_row, get_middle_row, get_lowest_column, get_highest_column, get_middle_column, get_lowest_coordinates, get_highest_coordinates, get_middle_coordinates, get_fill_coordinates, get_fill_coordinates]\n",
    "place_actions = [None, None, None, None, None, None, None, None, None, \"fill\", \"unfill\"]"
   ]
  },
  {
   "cell_type": "code",
   "execution_count": 8,
   "metadata": {},
   "outputs": [
    {
     "name": "stderr",
     "output_type": "stream",
     "text": [
      "Participant n° 1\n",
      "- Choose Strategy: get_most_similar_piece, different\n",
      "- Place Strategy: get_fill_coordinates, fill\n",
      "- Win ratio: 0.845\n",
      "\n",
      "Participant n° 2\n",
      "- Choose Strategy: get_most_common_piece, common\n",
      "- Place Strategy: get_fill_coordinates, fill\n",
      "- Win ratio: 0.82\n",
      "\n",
      "Participant n° 3\n",
      "- Choose Strategy: get_most_common_piece, uncommon\n",
      "- Place Strategy: get_fill_coordinates, fill\n",
      "- Win ratio: 0.81\n",
      "\n",
      "Participant n° 4\n",
      "- Choose Strategy: get_most_similar_piece, different\n",
      "- Place Strategy: get_lowest_column, None\n",
      "- Win ratio: 0.755\n",
      "\n",
      "Participant n° 5\n",
      "- Choose Strategy: get_most_similar_piece, similar\n",
      "- Place Strategy: get_fill_coordinates, fill\n",
      "- Win ratio: 0.74\n",
      "\n",
      "Participant n° 6\n",
      "- Choose Strategy: get_most_similar_piece, different\n",
      "- Place Strategy: get_highest_row, None\n",
      "- Win ratio: 0.74\n",
      "\n",
      "Participant n° 7\n",
      "- Choose Strategy: get_most_similar_piece, different\n",
      "- Place Strategy: get_highest_column, None\n",
      "- Win ratio: 0.735\n",
      "\n",
      "Participant n° 8\n",
      "- Choose Strategy: get_most_similar_piece, different\n",
      "- Place Strategy: get_middle_column, None\n",
      "- Win ratio: 0.735\n",
      "\n",
      "Participant n° 9\n",
      "- Choose Strategy: get_most_similar_piece, different\n",
      "- Place Strategy: get_lowest_row, None\n",
      "- Win ratio: 0.73\n",
      "\n",
      "Participant n° 10\n",
      "- Choose Strategy: get_most_common_piece, uncommon\n",
      "- Place Strategy: get_lowest_column, None\n",
      "- Win ratio: 0.71\n",
      "\n",
      "Participant n° 11\n",
      "- Choose Strategy: get_most_similar_piece, different\n",
      "- Place Strategy: get_middle_row, None\n",
      "- Win ratio: 0.71\n",
      "\n",
      "Participant n° 12\n",
      "- Choose Strategy: get_most_common_piece, uncommon\n",
      "- Place Strategy: get_highest_row, None\n",
      "- Win ratio: 0.685\n",
      "\n",
      "Participant n° 13\n",
      "- Choose Strategy: get_most_similar_piece, different\n",
      "- Place Strategy: get_lowest_coordinates, None\n",
      "- Win ratio: 0.675\n",
      "\n",
      "Participant n° 14\n",
      "- Choose Strategy: get_most_common_piece, uncommon\n",
      "- Place Strategy: get_lowest_row, None\n",
      "- Win ratio: 0.645\n",
      "\n",
      "Participant n° 15\n",
      "- Choose Strategy: get_most_common_piece, uncommon\n",
      "- Place Strategy: get_middle_row, None\n",
      "- Win ratio: 0.645\n",
      "\n",
      "Participant n° 16\n",
      "- Choose Strategy: get_most_common_piece, common\n",
      "- Place Strategy: get_highest_column, None\n",
      "- Win ratio: 0.64\n",
      "\n",
      "Participant n° 17\n",
      "- Choose Strategy: get_most_common_piece, uncommon\n",
      "- Place Strategy: get_lowest_coordinates, None\n",
      "- Win ratio: 0.635\n",
      "\n",
      "Participant n° 18\n",
      "- Choose Strategy: get_most_similar_piece, different\n",
      "- Place Strategy: get_highest_coordinates, None\n",
      "- Win ratio: 0.635\n",
      "\n",
      "Participant n° 19\n",
      "- Choose Strategy: get_most_similar_piece, similar\n",
      "- Place Strategy: get_lowest_row, None\n",
      "- Win ratio: 0.62\n",
      "\n",
      "Participant n° 20\n",
      "- Choose Strategy: get_most_common_piece, common\n",
      "- Place Strategy: get_middle_column, None\n",
      "- Win ratio: 0.615\n",
      "\n",
      "Participant n° 21\n",
      "- Choose Strategy: get_most_common_piece, uncommon\n",
      "- Place Strategy: get_highest_column, None\n",
      "- Win ratio: 0.61\n",
      "\n",
      "Participant n° 22\n",
      "- Choose Strategy: get_most_similar_piece, similar\n",
      "- Place Strategy: get_highest_row, None\n",
      "- Win ratio: 0.61\n",
      "\n",
      "Participant n° 23\n",
      "- Choose Strategy: get_most_common_piece, common\n",
      "- Place Strategy: get_lowest_column, None\n",
      "- Win ratio: 0.605\n",
      "\n",
      "Participant n° 24\n",
      "- Choose Strategy: get_most_common_piece, uncommon\n",
      "- Place Strategy: get_middle_column, None\n",
      "- Win ratio: 0.595\n",
      "\n",
      "Participant n° 25\n",
      "- Choose Strategy: get_most_similar_piece, similar\n",
      "- Place Strategy: get_middle_row, None\n",
      "- Win ratio: 0.595\n",
      "\n",
      "Participant n° 26\n",
      "- Choose Strategy: get_most_similar_piece, similar\n",
      "- Place Strategy: get_middle_column, None\n",
      "- Win ratio: 0.595\n",
      "\n",
      "Participant n° 27\n",
      "- Choose Strategy: get_most_common_piece, common\n",
      "- Place Strategy: get_highest_row, None\n",
      "- Win ratio: 0.585\n",
      "\n",
      "Participant n° 28\n",
      "- Choose Strategy: get_most_common_piece, uncommon\n",
      "- Place Strategy: get_middle_coordinates, None\n",
      "- Win ratio: 0.575\n",
      "\n",
      "Participant n° 29\n",
      "- Choose Strategy: get_most_similar_piece, different\n",
      "- Place Strategy: get_middle_coordinates, None\n",
      "- Win ratio: 0.575\n",
      "\n",
      "Participant n° 30\n",
      "- Choose Strategy: get_most_similar_piece, different\n",
      "- Place Strategy: get_fill_coordinates, unfill\n",
      "- Win ratio: 0.57\n",
      "\n",
      "Participant n° 31\n",
      "- Choose Strategy: get_most_similar_piece, similar\n",
      "- Place Strategy: get_lowest_column, None\n",
      "- Win ratio: 0.565\n",
      "\n",
      "Participant n° 32\n",
      "- Choose Strategy: get_most_common_piece, uncommon\n",
      "- Place Strategy: get_highest_coordinates, None\n",
      "- Win ratio: 0.56\n",
      "\n",
      "Participant n° 33\n",
      "- Choose Strategy: get_most_common_piece, uncommon\n",
      "- Place Strategy: get_fill_coordinates, unfill\n",
      "- Win ratio: 0.56\n",
      "\n",
      "Participant n° 34\n",
      "- Choose Strategy: get_most_common_piece, common\n",
      "- Place Strategy: get_lowest_row, None\n",
      "- Win ratio: 0.55\n",
      "\n",
      "Participant n° 35\n",
      "- Choose Strategy: get_most_common_piece, common\n",
      "- Place Strategy: get_middle_row, None\n",
      "- Win ratio: 0.545\n",
      "\n",
      "Participant n° 36\n",
      "- Choose Strategy: get_most_common_piece, common\n",
      "- Place Strategy: get_lowest_coordinates, None\n",
      "- Win ratio: 0.52\n",
      "\n",
      "Participant n° 37\n",
      "- Choose Strategy: get_most_similar_piece, similar\n",
      "- Place Strategy: get_highest_coordinates, None\n",
      "- Win ratio: 0.515\n",
      "\n",
      "Participant n° 38\n",
      "- Choose Strategy: get_most_similar_piece, similar\n",
      "- Place Strategy: get_lowest_coordinates, None\n",
      "- Win ratio: 0.51\n",
      "\n",
      "Participant n° 39\n",
      "- Choose Strategy: get_most_similar_piece, similar\n",
      "- Place Strategy: get_highest_column, None\n",
      "- Win ratio: 0.5\n",
      "\n",
      "Participant n° 40\n",
      "- Choose Strategy: get_most_similar_piece, similar\n",
      "- Place Strategy: get_fill_coordinates, unfill\n",
      "- Win ratio: 0.5\n",
      "\n",
      "Participant n° 41\n",
      "- Choose Strategy: get_most_common_piece, common\n",
      "- Place Strategy: get_fill_coordinates, unfill\n",
      "- Win ratio: 0.485\n",
      "\n",
      "Participant n° 42\n",
      "- Choose Strategy: get_most_similar_piece, similar\n",
      "- Place Strategy: get_middle_coordinates, None\n",
      "- Win ratio: 0.455\n",
      "\n",
      "Participant n° 43\n",
      "- Choose Strategy: get_most_common_piece, common\n",
      "- Place Strategy: get_highest_coordinates, None\n",
      "- Win ratio: 0.43\n",
      "\n",
      "Participant n° 44\n",
      "- Choose Strategy: get_most_common_piece, common\n",
      "- Place Strategy: get_middle_coordinates, None\n",
      "- Win ratio: 0.4\n",
      "\n"
     ]
    }
   ],
   "source": [
    "leaderboard = {}\n",
    "game = quarto.Quarto()\n",
    "random_player = RandomPlayer(game)\n",
    "for choose_index, choose_strategy in enumerate(choose_strategies):\n",
    "    for place_index, place_strategy in enumerate(place_strategies):\n",
    "        NUM_MATCHES = 200\n",
    "        won = 0\n",
    "        hardcoded_player = HardcodedPlayer(\n",
    "            game,\n",
    "            [choose_strategy, choose_actions[choose_index]],\n",
    "            [place_strategy, place_actions[place_index]]\n",
    "        )\n",
    "        for match in range(NUM_MATCHES):\n",
    "            game.reset()\n",
    "            if match % 2 == 0: game.set_players((hardcoded_player, random_player))\n",
    "            else: game.set_players((random_player, hardcoded_player))\n",
    "            if game.run() == match % 2: won += 1\n",
    "        leaderboard[\n",
    "            f\"- Choose Strategy: {choose_strategy.__name__}, {choose_actions[choose_index]}\\n- Place Strategy: {place_strategy.__name__}, {place_actions[place_index]}\"\n",
    "        ] = won/NUM_MATCHES\n",
    "for index, participant in enumerate(sorted(leaderboard, key=leaderboard.get, reverse=True)):\n",
    "    logging.info(f\"Participant n° {index+1}\")\n",
    "    logging.info(participant)\n",
    "    logging.info(f\"- Win ratio: {leaderboard[participant]}\\n\")"
   ]
  },
  {
   "attachments": {},
   "cell_type": "markdown",
   "metadata": {},
   "source": [
    "## An agent using evolved rules"
   ]
  },
  {
   "attachments": {},
   "cell_type": "markdown",
   "metadata": {},
   "source": [
    "### Individual\n",
    "An individual is formed by two lists:\n",
    "- The first one contains four numbers that refer to the choosing phase.\n",
    "- The second one contains four numbers that refer to the placing phase.\n",
    "\n",
    "Each number represents the index of the strategy to be used in one of the phases of the game, knowing that the game has been divided in four phases:\n",
    "- Less than a quarter of pieces placed on the board\n",
    "- Less than a half of pieces placed on the board\n",
    "- Less than three-quarters of pieces placed on the board\n",
    "- More than three-quarters of pieces placed on the board"
   ]
  },
  {
   "cell_type": "code",
   "execution_count": 9,
   "metadata": {},
   "outputs": [],
   "source": [
    "Individual = namedtuple(\"Individual\", [\"genome\", \"fitness\"])"
   ]
  },
  {
   "attachments": {},
   "cell_type": "markdown",
   "metadata": {},
   "source": [
    "### Evolved strategy\n",
    "It is a method that can be used both in the choosing and in the placing phase.<br>\n",
    "It takes as argument one of the two lists of the individual, then generate a random number, and uses it to return an appropriate result (coordinates or piece index) based on the chosen strategy."
   ]
  },
  {
   "cell_type": "code",
   "execution_count": 10,
   "metadata": {},
   "outputs": [],
   "source": [
    "def get_evolved_strategy(game: quarto.Quarto, half_individual, action=\"place\"):\n",
    "    '''action can be \"place\" or \"choose\"'''\n",
    "    # half_individual is made of probabilities in [0.0, 1.0] (with 1 decimal digit)\n",
    "    assert action == \"place\" or action == \"choose\"\n",
    "    assert len(half_individual) == 4\n",
    "\n",
    "    if action == \"choose\":\n",
    "        strategies = [get_most_common_piece, get_most_common_piece, get_most_similar_piece, get_most_similar_piece]\n",
    "        actions = [\"common\", \"uncommon\", \"similar\", \"different\"]\n",
    "    else:\n",
    "        strategies = [get_lowest_row, get_highest_row, get_middle_row, get_lowest_column, get_highest_column, get_middle_column, get_lowest_coordinates, get_highest_coordinates, get_middle_coordinates, get_fill_coordinates, get_fill_coordinates]\n",
    "        actions = [None, None, None, None, None, None, None, None, None, \"fill\", \"unfill\"]\n",
    "    \n",
    "    board = game.get_board_status()\n",
    "    pieces_num = 0\n",
    "    for x in range(game.BOARD_SIDE):\n",
    "        for y in range(game.BOARD_SIDE):\n",
    "            if board[y, x] != -1:\n",
    "                pieces_num += 1\n",
    "    \n",
    "    if pieces_num < game.BOARD_SIDE / 4: return strategies[half_individual[0]](game, action=actions[half_individual[0]])\n",
    "    elif pieces_num < game.BOARD_SIDE / 2: return strategies[half_individual[1]](game, action=actions[half_individual[1]])\n",
    "    elif pieces_num < game.BOARD_SIDE * 3 / 4: return strategies[half_individual[2]](game, action=actions[half_individual[2]])\n",
    "    else: return strategies[half_individual[3]](game, action=actions[half_individual[3]])"
   ]
  },
  {
   "attachments": {},
   "cell_type": "markdown",
   "metadata": {},
   "source": [
    "### The evolved player"
   ]
  },
  {
   "cell_type": "code",
   "execution_count": 11,
   "metadata": {},
   "outputs": [],
   "source": [
    "class EvolvedPlayer(quarto.Player):\n",
    "    \"\"\"Evolved player\"\"\"\n",
    "\n",
    "    def __init__(self, quarto: quarto.Quarto, individual) -> None:\n",
    "        super().__init__(quarto)\n",
    "        self.choose_individual = individual[0]\n",
    "        self.place_individual = individual[1]\n",
    "\n",
    "    def choose_piece(self) -> int:\n",
    "        return get_evolved_strategy(self.get_game(), self.choose_individual, \"choose\")\n",
    "\n",
    "    def place_piece(self) -> tuple[int, int]:\n",
    "        return get_evolved_strategy(self.get_game(), self.place_individual, \"place\")"
   ]
  },
  {
   "attachments": {},
   "cell_type": "markdown",
   "metadata": {},
   "source": [
    "### Cross-over\n",
    "Given two individual, merge them by taking a random $num$ of numbers of the first one and `NUM_ROWS - num` numbers of the second one, twice (for both the lists in the individuals)."
   ]
  },
  {
   "cell_type": "code",
   "execution_count": 12,
   "metadata": {},
   "outputs": [],
   "source": [
    "# returns individuals with max fitness (the fittest) but still random\n",
    "def tournament(population, tournament_size=2):\n",
    "    return max(random.choices(population, k=tournament_size), key=lambda i: i.fitness)\n",
    "\n",
    "def cross_over(g1, g2):\n",
    "    cut = random.randint(0, 3)\n",
    "    return [\n",
    "        g1[0][:cut] + g2[0][cut:],\n",
    "        g1[1][:cut] + g2[1][cut:]\n",
    "    ]"
   ]
  },
  {
   "attachments": {},
   "cell_type": "markdown",
   "metadata": {},
   "source": [
    "### Mutation\n",
    "Replace a random number of the individual with another random number, twice (for both the lists of the individuals)."
   ]
  },
  {
   "cell_type": "code",
   "execution_count": 13,
   "metadata": {},
   "outputs": [],
   "source": [
    "def mutation(g):\n",
    "    point = random.randint(0, 3)\n",
    "    new_choose = random.randint(0, 3)\n",
    "    new_place = random.randint(0, 10)\n",
    "    return [\n",
    "        g[0][:point] + ([new_choose]) + g[0][point + 1 :],\n",
    "        g[1][:point] + ([new_place]) + g[1][point + 1 :]\n",
    "    ]"
   ]
  },
  {
   "attachments": {},
   "cell_type": "markdown",
   "metadata": {},
   "source": [
    "### Fitness\n",
    "The fitness is the winning ratio of the individual against the random agent in a fixed number of matches.<br>\n",
    "The evolved player makes the first move in half of the games."
   ]
  },
  {
   "cell_type": "code",
   "execution_count": 14,
   "metadata": {},
   "outputs": [],
   "source": [
    "def fitness(individual, num_matches=200):\n",
    "    won = 0\n",
    "    game = quarto.Quarto()\n",
    "    evolved_player = EvolvedPlayer(game, individual)\n",
    "    random_player = RandomPlayer(game)\n",
    "    for match in range(num_matches):\n",
    "        game.reset()\n",
    "        if match % 2 == 0: game.set_players((evolved_player, random_player))\n",
    "        else: game.set_players((random_player, evolved_player))\n",
    "        if game.run() == match % 2: won += 1\n",
    "    return won/num_matches"
   ]
  },
  {
   "attachments": {},
   "cell_type": "markdown",
   "metadata": {},
   "source": [
    "### Initial Population"
   ]
  },
  {
   "cell_type": "code",
   "execution_count": 15,
   "metadata": {},
   "outputs": [],
   "source": [
    "POPULATION_SIZE = 10\n",
    "OFFSPRING_SIZE = 3\n",
    "\n",
    "NUM_GENERATIONS = 200\n",
    "FITNESS_PRECISION = 400"
   ]
  },
  {
   "cell_type": "code",
   "execution_count": 16,
   "metadata": {},
   "outputs": [
    {
     "name": "stderr",
     "output_type": "stream",
     "text": [
      "init: pop_size=10; max=0.6725\n"
     ]
    }
   ],
   "source": [
    "population = list()\n",
    "for index in range(POPULATION_SIZE):\n",
    "    genome = [\n",
    "        [random.randint(0, 3) for _ in range(4)],\n",
    "        [random.randint(0, 10) for _ in range(4)]\n",
    "    ]\n",
    "    population.append(Individual(genome, fitness(genome, FITNESS_PRECISION)))\n",
    "\n",
    "logging.info(f\"init: pop_size={len(population)}; max={max(population, key=lambda i: i.fitness)[1]}\")"
   ]
  },
  {
   "attachments": {},
   "cell_type": "markdown",
   "metadata": {},
   "source": [
    "### Evolution Algorithm"
   ]
  },
  {
   "cell_type": "code",
   "execution_count": 17,
   "metadata": {},
   "outputs": [
    {
     "name": "stderr",
     "output_type": "stream",
     "text": [
      "Number of generations: 200\n",
      "Population size: 10\n",
      "Offspring size: 3\n",
      "\n",
      "Best individual\n",
      " Choose: [0, 3, 0, 1]\n",
      " Place: [1, 6, 7, 9]\n",
      " Fitness: 0.86\n"
     ]
    }
   ],
   "source": [
    "fitness_log = [(0, i.fitness) for i in population]\n",
    "\n",
    "mutation_rate = 0.3\n",
    "for g in range(NUM_GENERATIONS):\n",
    "    #if g % 50 == 49: mutation_rate -= 0.5\n",
    "    offspring = list()\n",
    "    for i in range(OFFSPRING_SIZE):\n",
    "        if random.random() < mutation_rate:\n",
    "            p = tournament(population)\n",
    "            o = mutation(p.genome)\n",
    "        else:\n",
    "            p1 = tournament(population)\n",
    "            p2 = tournament(population)\n",
    "            o = cross_over(p1.genome, p2.genome)\n",
    "        f = fitness(o, num_matches=FITNESS_PRECISION)\n",
    "        fitness_log.append((g + 1, f))\n",
    "        offspring.append(Individual(o, f))\n",
    "    for goff in offspring:\n",
    "        if goff not in population:\n",
    "            population.append(goff)\n",
    "    population = sorted(population, key=lambda i: i.fitness, reverse=True)[:POPULATION_SIZE]\n",
    "\n",
    "best_individual = max(population, key=lambda i: i.fitness)\n",
    "\n",
    "logging.info(f\"Number of generations: {NUM_GENERATIONS}\")\n",
    "logging.info(f\"Population size: {POPULATION_SIZE}\")\n",
    "logging.info(f\"Offspring size: {OFFSPRING_SIZE}\\n\")\n",
    "\n",
    "logging.info(f\"Best individual\")\n",
    "logging.info(f\" Choose: {best_individual.genome[0]}\")\n",
    "logging.info(f\" Place: {best_individual.genome[1]}\")\n",
    "logging.info(f\" Fitness: {best_individual.fitness}\")"
   ]
  },
  {
   "attachments": {},
   "cell_type": "markdown",
   "metadata": {},
   "source": [
    "### Performance Evaluation"
   ]
  },
  {
   "cell_type": "code",
   "execution_count": 18,
   "metadata": {},
   "outputs": [
    {
     "data": {
      "text/plain": [
       "[<matplotlib.lines.Line2D at 0x24ad7400f70>]"
      ]
     },
     "execution_count": 18,
     "metadata": {},
     "output_type": "execute_result"
    },
    {
     "data": {
      "image/png": "[encoded data removed]",
      "text/plain": [
       "<Figure size 1500x600 with 1 Axes>"
      ]
     },
     "metadata": {},
     "output_type": "display_data"
    }
   ],
   "source": [
    "off_line = [max(f[1] for f in fitness_log if f[0] == x) / (x + 1) for x in range(NUM_GENERATIONS)]\n",
    "on_line = [max(f[1] for f in fitness_log if f[0] <= x) / (x + 1) for x in range(NUM_GENERATIONS)]\n",
    "gen_best = [max(f[1] for f in fitness_log if f[0] == x) for x in range(NUM_GENERATIONS)]\n",
    "\n",
    "plt.figure(figsize=(15, 6))\n",
    "plt.scatter([x for x, _ in fitness_log], [y for _, y in fitness_log], marker=\".\")\n",
    "plt.plot([x for x, _ in enumerate(gen_best)], [y for _, y in enumerate(gen_best)])\n",
    "plt.plot([x for x, _ in enumerate(on_line)], [y for _, y in enumerate(on_line)])\n",
    "plt.plot([x for x, _ in enumerate(off_line)], [y for _, y in enumerate(off_line)])"
   ]
  },
  {
   "attachments": {},
   "cell_type": "markdown",
   "metadata": {},
   "source": [
    "### Further evaluations"
   ]
  },
  {
   "attachments": {},
   "cell_type": "markdown",
   "metadata": {},
   "source": [
    "A more accurate fitness"
   ]
  },
  {
   "cell_type": "code",
   "execution_count": 19,
   "metadata": {},
   "outputs": [
    {
     "data": {
      "text/plain": [
       "0.8214"
      ]
     },
     "execution_count": 19,
     "metadata": {},
     "output_type": "execute_result"
    }
   ],
   "source": [
    "fitness(best_individual.genome, num_matches=10000)"
   ]
  },
  {
   "attachments": {},
   "cell_type": "markdown",
   "metadata": {},
   "source": [
    "A tournament against all the hardcoded strategies"
   ]
  },
  {
   "cell_type": "code",
   "execution_count": 20,
   "metadata": {},
   "outputs": [
    {
     "name": "stderr",
     "output_type": "stream",
     "text": [
      "Win ratio: 0.6404111111111112\n"
     ]
    }
   ],
   "source": [
    "won = 0\n",
    "tot_matches = 0\n",
    "NUM_MATCHES = 2000\n",
    "game = quarto.Quarto()\n",
    "evolved_player = EvolvedPlayer(game, best_individual.genome)\n",
    "for choose_index, choose_strategy in enumerate(choose_strategies):\n",
    "    for place_index, place_strategy in enumerate(place_strategies):\n",
    "        hardcoded_player = HardcodedPlayer(\n",
    "            game,\n",
    "            [choose_strategy, choose_actions[choose_index]],\n",
    "            [place_strategy, place_actions[place_index]]\n",
    "        )\n",
    "        for match in range(NUM_MATCHES):\n",
    "            tot_matches += 1\n",
    "            game.reset()\n",
    "            if match % 2 == 0: game.set_players((evolved_player, hardcoded_player))\n",
    "            else: game.set_players((hardcoded_player, evolved_player))\n",
    "\n",
    "            if game.run() == match % 2: won += 1\n",
    "\n",
    "random_player = RandomPlayer(game)\n",
    "for match in range(NUM_MATCHES):\n",
    "    tot_matches += 1\n",
    "    game.reset()\n",
    "    if match % 2 == 0: game.set_players((evolved_player, random_player))\n",
    "    else: game.set_players((random_player, evolved_player))\n",
    "\n",
    "    if game.run() == match % 2: won += 1\n",
    "\n",
    "logging.info(f\"Win ratio: {won/tot_matches}\")"
   ]
  },
  {
   "attachments": {},
   "cell_type": "markdown",
   "metadata": {},
   "source": [
    "### Match"
   ]
  },
  {
   "cell_type": "code",
   "execution_count": 47,
   "metadata": {},
   "outputs": [
    {
     "name": "stderr",
     "output_type": "stream",
     "text": [
      "Winner: player 1\n"
     ]
    }
   ],
   "source": [
    "game = quarto.Quarto()\n",
    "game.set_players((EvolvedPlayer(game, best_individual.genome), RandomPlayer(game)))\n",
    "winner = game.run()\n",
    "logging.warning(f\"Winner: player {winner}\")"
   ]
  },
  {
   "attachments": {},
   "cell_type": "markdown",
   "metadata": {},
   "source": [
    "## An agent using minmax"
   ]
  },
  {
   "attachments": {},
   "cell_type": "markdown",
   "metadata": {},
   "source": [
    "Minmax is a simple algorithm that simulates all the possible moves and choose the best one.\n",
    "\n",
    "The function can be called in four modes:\n",
    "- Mode 0: the 1st player is placing a piece\n",
    "- Mode 1: the 1st player is choosing a piece\n",
    "- Mode 2: the 2nd player is placing a piece\n",
    "- Mode 3: the 2bd player is choosing a piece\n",
    "\n",
    "The 1st player is trying to minimize the reward, while the 2nd player s trying to maximize it.\n",
    "\n",
    "The alpha-beta pruning strategy has been implemented, in order to decrease the number of calculations."
   ]
  },
  {
   "cell_type": "code",
   "execution_count": 13,
   "metadata": {},
   "outputs": [],
   "source": [
    "def get_available_vectors(board, side):\n",
    "    available_coordinates = list()\n",
    "    available_pieces = list(range(16))\n",
    "    for x in range(side):\n",
    "        for y in range(side):\n",
    "            piece = board[y, x]\n",
    "            if piece == -1:\n",
    "                available_coordinates.append((x, y))\n",
    "            else:\n",
    "                available_pieces.remove(piece)\n",
    "    return available_coordinates, available_pieces"
   ]
  },
  {
   "cell_type": "code",
   "execution_count": 14,
   "metadata": {},
   "outputs": [],
   "source": [
    "def board_to_tuple(board):\n",
    "    return tuple(tuple(row) for row in board)"
   ]
  },
  {
   "cell_type": "code",
   "execution_count": 15,
   "metadata": {},
   "outputs": [],
   "source": [
    "cache = {}\n",
    "cache['hit'] = 0\n",
    "def minmax(game: quarto.Quarto, alpha = -1, beta = 1, mode = 0, depth = 0, max_depth = None):\n",
    "    # mode:\n",
    "    # 0 - placing - 1st player\n",
    "    # 1 - choosing - 1st player\n",
    "    # 2 - placing - 2nd player\n",
    "    # 3 - choosing - 2nd player\n",
    "    if max_depth != None and depth > max_depth or game.check_finished():\n",
    "        # return None, random.choice((-1, 1))\n",
    "        return None, 0 if game.check_finished() else 1 if mode < 2 else -1\n",
    "    if game.check_winner() != -1:\n",
    "        return None, -1 if mode < 2 else 1\n",
    "    \n",
    "    board = game.get_board_status()\n",
    "    key_ = f\"{board_to_tuple(board)} {mode}\"\n",
    "    if key_ in cache.keys():\n",
    "        cache['hit'] += 1\n",
    "        return cache[key_]\n",
    "    \n",
    "    evaluations = list()\n",
    "\n",
    "    available_coordinates, available_pieces = get_available_vectors(board, game.BOARD_SIDE)\n",
    "    \n",
    "    for ply in available_coordinates if mode % 2 == 0 else available_pieces:\n",
    "        board = deepcopy(game)\n",
    "        if mode % 2 == 0: # placing phase\n",
    "            board.place(*ply)\n",
    "        else: # choosing phase\n",
    "            board.select(ply)\n",
    "        _, val = minmax(board, alpha=alpha, beta=beta, mode=(mode+1)%4, depth=depth+1, max_depth=max_depth)\n",
    "        evaluations.append((ply, val))\n",
    "        if mode < 2: # 1st player -> minimizing\n",
    "            beta = min(beta, val)\n",
    "        else: #2nd player -> maximizing\n",
    "            alpha = max(alpha, val)\n",
    "        if beta <= alpha:\n",
    "            break\n",
    "    if mode < 2:\n",
    "        val = min(evaluations, key=lambda k: k[1])\n",
    "    else:\n",
    "        val = max(evaluations, key=lambda k: k[1])\n",
    "    cache[key_] = val\n",
    "    return val"
   ]
  },
  {
   "attachments": {},
   "cell_type": "markdown",
   "metadata": {},
   "source": [
    "### The Minmax Agent\n",
    "\n",
    "It uses exclusively the minmax strategy to compute the next move; the maximum depth is customizable."
   ]
  },
  {
   "cell_type": "code",
   "execution_count": 16,
   "metadata": {},
   "outputs": [],
   "source": [
    "class MinmaxPlayer(quarto.Player):\n",
    "    \"\"\"Minmax player\"\"\"\n",
    "\n",
    "    def __init__(self, quarto: quarto.Quarto, max_depth=None) -> None:\n",
    "        super().__init__(quarto)\n",
    "        self.max_depth = max_depth\n",
    "\n",
    "    def choose_piece(self) -> int:\n",
    "        return minmax(self.get_game(), mode=1, max_depth=self.max_depth)[0]\n",
    "\n",
    "    def place_piece(self) -> tuple[int, int]:\n",
    "        return minmax(self.get_game(), mode=0, max_depth=self.max_depth)[0]"
   ]
  },
  {
   "attachments": {},
   "cell_type": "markdown",
   "metadata": {},
   "source": [
    "#### The evaluation\n",
    "\n",
    "The agent is evaluated by setting up some matches against the random agent, the hardcoded agent with the best strategies from the tournament (most different piece, fill coordinates), and the evolved agent."
   ]
  },
  {
   "cell_type": "code",
   "execution_count": 17,
   "metadata": {},
   "outputs": [],
   "source": [
    "def evaluate(game: quarto.Quarto, first_player: quarto.Player, second_player: quarto.Player, num_matches=1000):\n",
    "    won = 0\n",
    "    for match in range(num_matches):\n",
    "        game.reset()\n",
    "        winner = game.run()\n",
    "        if winner == 0:\n",
    "            won += 1\n",
    "        #     logging.info(f\"Game {match+1} won\")\n",
    "        # elif winner == -1:\n",
    "        #     logging.info(f\"Game {match+1} drew\")\n",
    "        # else:\n",
    "        #     logging.info(f\"Game {match+1} lost\")\n",
    "    logging.info(f\"Win ratio: {won/num_matches}\")"
   ]
  },
  {
   "attachments": {},
   "cell_type": "markdown",
   "metadata": {},
   "source": [
    "##### Match against random player"
   ]
  },
  {
   "cell_type": "code",
   "execution_count": 90,
   "metadata": {},
   "outputs": [],
   "source": [
    "cache={}\n",
    "cache['hit'] = 0\n",
    "game = quarto.Quarto()\n",
    "minmax_player = MinmaxPlayer(game, 11)\n",
    "random_player = RandomPlayer(game)\n",
    "game.set_players((minmax_player, random_player))"
   ]
  },
  {
   "cell_type": "code",
   "execution_count": 91,
   "metadata": {},
   "outputs": [
    {
     "name": "stderr",
     "output_type": "stream",
     "text": [
      "Cache length: 0\n",
      "Win ratio: 0.9\n",
      "Cache hit: 474723\n",
      "Cache length: 166000\n"
     ]
    }
   ],
   "source": [
    "logging.info(f\"Cache length: {len(cache) - 1}\")\n",
    "evaluate(game, minmax_player, random_player, num_matches=10)\n",
    "logging.info(f\"Cache hit: {cache['hit']}\")\n",
    "logging.info(f\"Cache length: {len(cache) - 1}\")"
   ]
  },
  {
   "attachments": {},
   "cell_type": "markdown",
   "metadata": {},
   "source": [
    "##### Match against hardcoded player"
   ]
  },
  {
   "cell_type": "code",
   "execution_count": 88,
   "metadata": {},
   "outputs": [],
   "source": [
    "cache={}\n",
    "cache['hit'] = 0\n",
    "game = quarto.Quarto()\n",
    "minmax_player = MinmaxPlayer(game, 15)\n",
    "hardcoded_player = HardcodedPlayer(game, (get_most_similar_piece, \"different\"), (get_fill_coordinates, \"fill\"))\n",
    "game.set_players((minmax_player, hardcoded_player))"
   ]
  },
  {
   "cell_type": "code",
   "execution_count": 89,
   "metadata": {},
   "outputs": [
    {
     "name": "stderr",
     "output_type": "stream",
     "text": [
      "Cache length: 0\n",
      "Win ratio: 1.0\n",
      "Cache hit: 379186\n",
      "Cache length: 139427\n"
     ]
    }
   ],
   "source": [
    "logging.info(f\"Cache length: {len(cache) - 1}\")\n",
    "evaluate(game, minmax_player, hardcoded_player, num_matches=10)\n",
    "logging.info(f\"Cache hit: {cache['hit']}\")\n",
    "logging.info(f\"Cache length: {len(cache) - 1}\")"
   ]
  },
  {
   "attachments": {},
   "cell_type": "markdown",
   "metadata": {},
   "source": [
    "##### Match against evolved player"
   ]
  },
  {
   "cell_type": "code",
   "execution_count": 92,
   "metadata": {},
   "outputs": [],
   "source": [
    "cache={}\n",
    "cache['hit'] = 0\n",
    "game = quarto.Quarto()\n",
    "minmax_player = MinmaxPlayer(game, 11)\n",
    "evolved_player = EvolvedPlayer(game, best_individual.genome)\n",
    "game.set_players((minmax_player, evolved_player))"
   ]
  },
  {
   "cell_type": "code",
   "execution_count": 93,
   "metadata": {},
   "outputs": [
    {
     "name": "stderr",
     "output_type": "stream",
     "text": [
      "Cache length: 0\n",
      "Win ratio: 1.0\n",
      "Cache hit: 177238\n",
      "Cache length: 70361\n"
     ]
    }
   ],
   "source": [
    "logging.info(f\"Cache length: {len(cache) - 1}\")\n",
    "evaluate(game, minmax_player, evolved_player, num_matches=10)\n",
    "logging.info(f\"Cache hit: {cache['hit']}\")\n",
    "logging.info(f\"Cache length: {len(cache) - 1}\")"
   ]
  },
  {
   "attachments": {},
   "cell_type": "markdown",
   "metadata": {},
   "source": [
    "### The Random-Minmax Agent\n",
    "\n",
    "It performs random moves util 4 pieces are placed on the board, then uses minmax to calculate the next moves.<br>\n",
    "In this way it's much faster and the maximum depth can be increased (it is customizable)."
   ]
  },
  {
   "cell_type": "code",
   "execution_count": 18,
   "metadata": {},
   "outputs": [],
   "source": [
    "class RandomMinmaxPlayer(quarto.Player):\n",
    "    \"\"\"Random-Minmax player\"\"\"\n",
    "\n",
    "    def __init__(self, quarto: quarto.Quarto, max_depth=None) -> None:\n",
    "        super().__init__(quarto)\n",
    "        self.max_depth = max_depth\n",
    "\n",
    "    def choose_piece(self) -> int:\n",
    "        board = self.get_game().get_board_status()\n",
    "        piece_count = len([element for row in board for element in row if element == -1])\n",
    "        if piece_count > 12:\n",
    "            while True:\n",
    "                piece = random.randint(0, 15)\n",
    "                if piece not in board: break\n",
    "            return piece\n",
    "        return minmax(self.get_game(), mode=1, max_depth=self.max_depth)[0]\n",
    "\n",
    "    def place_piece(self) -> tuple[int, int]:\n",
    "        board = self.get_game().get_board_status()\n",
    "        piece_count = len([element for row in board for element in row if element == -1])\n",
    "        if piece_count > 12:\n",
    "            while True:\n",
    "                x, y = random.randint(0, 3), random.randint(0, 3)\n",
    "                if board[y, x] == -1: break\n",
    "            return x, y\n",
    "        return minmax(self.get_game(), mode=0, max_depth=self.max_depth)[0]"
   ]
  },
  {
   "attachments": {},
   "cell_type": "markdown",
   "metadata": {},
   "source": [
    "#### The evaluation"
   ]
  },
  {
   "attachments": {},
   "cell_type": "markdown",
   "metadata": {},
   "source": [
    "##### Match against random player"
   ]
  },
  {
   "cell_type": "code",
   "execution_count": 19,
   "metadata": {},
   "outputs": [],
   "source": [
    "cache={}\n",
    "cache['hit'] = 0\n",
    "game = quarto.Quarto()\n",
    "random_minmax_player = RandomMinmaxPlayer(game, 12)\n",
    "random_player = RandomPlayer(game)\n",
    "game.set_players((random_minmax_player, random_player))"
   ]
  },
  {
   "cell_type": "code",
   "execution_count": 118,
   "metadata": {},
   "outputs": [
    {
     "name": "stderr",
     "output_type": "stream",
     "text": [
      "Cache length: 0\n",
      "Win ratio: 1.0\n",
      "Cache hit: 250382\n",
      "Cache length: 113324\n"
     ]
    }
   ],
   "source": [
    "logging.info(f\"Cache length: {len(cache) - 1}\")\n",
    "evaluate(game, random_minmax_player, random_player, num_matches=10)\n",
    "logging.info(f\"Cache hit: {cache['hit']}\")\n",
    "logging.info(f\"Cache length: {len(cache) - 1}\")"
   ]
  },
  {
   "attachments": {},
   "cell_type": "markdown",
   "metadata": {},
   "source": [
    "##### Match against hardcoded player"
   ]
  },
  {
   "cell_type": "code",
   "execution_count": 170,
   "metadata": {},
   "outputs": [],
   "source": [
    "cache={}\n",
    "cache['hit'] = 0\n",
    "game = quarto.Quarto()\n",
    "random_minmax_player = RandomMinmaxPlayer(game, 12)\n",
    "hardcoded_player = HardcodedPlayer(game, (get_most_similar_piece, \"different\"), (get_fill_coordinates, \"fill\"))\n",
    "game.set_players((random_minmax_player, hardcoded_player))"
   ]
  },
  {
   "cell_type": "code",
   "execution_count": 171,
   "metadata": {},
   "outputs": [
    {
     "name": "stderr",
     "output_type": "stream",
     "text": [
      "Cache length: 0\n",
      "Win ratio: 0.7\n",
      "Cache hit: 173891\n",
      "Cache length: 78557\n"
     ]
    }
   ],
   "source": [
    "logging.info(f\"Cache length: {len(cache) - 1}\")\n",
    "evaluate(game, random_minmax_player, hardcoded_player, num_matches=10)\n",
    "logging.info(f\"Cache hit: {cache['hit']}\")\n",
    "logging.info(f\"Cache length: {len(cache) - 1}\")"
   ]
  },
  {
   "attachments": {},
   "cell_type": "markdown",
   "metadata": {},
   "source": [
    "##### Match against evolved player"
   ]
  },
  {
   "cell_type": "code",
   "execution_count": 121,
   "metadata": {},
   "outputs": [],
   "source": [
    "cache={}\n",
    "cache['hit'] = 0\n",
    "game = quarto.Quarto()\n",
    "random_minmax_player = RandomMinmaxPlayer(game, 12)\n",
    "evolved_player = EvolvedPlayer(game, best_individual.genome)\n",
    "game.set_players((random_minmax_player, evolved_player))"
   ]
  },
  {
   "cell_type": "code",
   "execution_count": 122,
   "metadata": {},
   "outputs": [
    {
     "name": "stderr",
     "output_type": "stream",
     "text": [
      "Cache length: 0\n",
      "Win ratio: 0.8\n",
      "Cache hit: 207170\n",
      "Cache length: 89264\n"
     ]
    }
   ],
   "source": [
    "logging.info(f\"Cache length: {len(cache) - 1}\")\n",
    "evaluate(game, random_minmax_player, evolved_player, num_matches=10)\n",
    "logging.info(f\"Cache hit: {cache['hit']}\")\n",
    "logging.info(f\"Cache length: {len(cache) - 1}\")"
   ]
  },
  {
   "attachments": {},
   "cell_type": "markdown",
   "metadata": {},
   "source": [
    "##### Match against minmax player"
   ]
  },
  {
   "cell_type": "code",
   "execution_count": 127,
   "metadata": {},
   "outputs": [],
   "source": [
    "cache={}\n",
    "cache['hit'] = 0\n",
    "game = quarto.Quarto()\n",
    "random_minmax_player = RandomMinmaxPlayer(game, 12)\n",
    "minmax_player = MinmaxPlayer(game, 11)\n",
    "game.set_players((random_minmax_player, minmax_player))"
   ]
  },
  {
   "cell_type": "code",
   "execution_count": 128,
   "metadata": {},
   "outputs": [
    {
     "name": "stderr",
     "output_type": "stream",
     "text": [
      "Cache length: 0\n",
      "Win ratio: 0.6\n",
      "Cache hit: 463239\n",
      "Cache length: 166718\n"
     ]
    }
   ],
   "source": [
    "logging.info(f\"Cache length: {len(cache) - 1}\")\n",
    "evaluate(game, random_minmax_player, minmax_player, num_matches=10)\n",
    "logging.info(f\"Cache hit: {cache['hit']}\")\n",
    "logging.info(f\"Cache length: {len(cache) - 1}\")"
   ]
  },
  {
   "attachments": {},
   "cell_type": "markdown",
   "metadata": {},
   "source": [
    "## An agent using reinforcement learning"
   ]
  },
  {
   "attachments": {},
   "cell_type": "markdown",
   "metadata": {},
   "source": [
    "### Pickle"
   ]
  },
  {
   "cell_type": "code",
   "execution_count": 20,
   "metadata": {},
   "outputs": [],
   "source": [
    "def dump_pickle(G_choose, G_place):\n",
    "    pickle_out = open(\"db/G_choose.pickle\",\"wb\")\n",
    "    pickle.dump(G_choose, pickle_out)\n",
    "    pickle_out.close()\n",
    "    pickle_out = open(\"db/G_place.pickle\",\"wb\")\n",
    "    pickle.dump(G_place, pickle_out)\n",
    "    pickle_out.close()\n",
    "\n",
    "\n",
    "def open_pickle():\n",
    "    try:\n",
    "        pickle_in = open(\"db/G_choose.pickle\",\"rb\")\n",
    "        G_choose = pickle.load(pickle_in)\n",
    "        pickle_in = open(\"db/G_place.pickle\",\"rb\")\n",
    "        G_place = pickle.load(pickle_in)\n",
    "    except:\n",
    "        G_choose = {}\n",
    "        G_place = {}\n",
    "        dump_pickle(G_choose, G_place)\n",
    "    #logging.info(len(G_choose))\n",
    "    #logging.info(len(G_place))\n",
    "    return G_choose, G_place"
   ]
  },
  {
   "cell_type": "code",
   "execution_count": 33,
   "metadata": {},
   "outputs": [],
   "source": [
    "def rl_run(game: quarto.Quarto, players) -> int:\n",
    "    winner = -1\n",
    "    current_player = 0\n",
    "    while winner < 0 and not game.check_finished():\n",
    "        piece_ok = False\n",
    "        while not piece_ok:\n",
    "            piece_ok = game.select(players[current_player].choose_piece())\n",
    "        piece_ok = False\n",
    "\n",
    "        current_player = 1 - current_player\n",
    "\n",
    "        while not piece_ok:\n",
    "            piece_ok = game.place(*players[current_player].place_piece())\n",
    "\n",
    "        # assume that player 0 is RLPlayer\n",
    "        reward = players[0].get_reward()\n",
    "        if current_player == 0:\n",
    "            # update after placing a piece\n",
    "            players[0].update_state_history_place(board_to_tuple(game.get_board_status()), reward)\n",
    "        else:\n",
    "            # update after choosing a piece\n",
    "            players[0].update_state_history_choose(board_to_tuple(game.get_board_status()), reward)\n",
    "        \n",
    "        winner = current_player if game.check_winner() != -1 else -1\n",
    "    \n",
    "    return winner"
   ]
  },
  {
   "cell_type": "code",
   "execution_count": 40,
   "metadata": {},
   "outputs": [],
   "source": [
    "class RLPlayer(quarto.Player):\n",
    "    \"\"\"Reinforcement learning player\"\"\"\n",
    "\n",
    "    def __init__(self, quarto: quarto.Quarto, alpha=0.15, random_factor=0.1) -> None:\n",
    "        super().__init__(quarto)\n",
    "        board = quarto.get_board_status()\n",
    "        self.state_history_choose = [(board_to_tuple(board), 0)]  # state, reward\n",
    "        self.state_history_place = [(board_to_tuple(board), 0)]\n",
    "        self.alpha = alpha\n",
    "        self.random_factor = random_factor\n",
    "        self.G_choose = {}\n",
    "        self.G_place = {}\n",
    "\n",
    "    def choose_piece(self) -> int:\n",
    "        maxG = -10e15\n",
    "        next_move = None\n",
    "        randomN = np.random.random()\n",
    "        board = self.get_game().get_board_status()\n",
    "        available_coordinates, available_pieces = get_available_vectors(board, self.get_game().BOARD_SIDE)\n",
    "        if randomN < self.random_factor:\n",
    "            # if random number below random factor, choose random action\n",
    "            next_move = random.choice(available_pieces)\n",
    "        else:\n",
    "            # if exploiting, gather all possible actions and choose one with the highest G (reward)\n",
    "            for piece in available_pieces:\n",
    "                for x, y in available_coordinates:\n",
    "                    new_board = deepcopy(board)\n",
    "                    new_board[y, x] = piece\n",
    "                    new_state = board_to_tuple(new_board)\n",
    "\n",
    "                    if new_state not in self.G_choose.keys():\n",
    "                        self.G_choose[new_state] = np.random.uniform(low=1.0, high=0.1)\n",
    "\n",
    "                    if self.G_choose[new_state] >= maxG:\n",
    "                        next_move = piece\n",
    "                        maxG = self.G_choose[new_state]\n",
    "\n",
    "        return next_move\n",
    "\n",
    "    def place_piece(self) -> tuple[int, int]:\n",
    "        maxG = -10e15\n",
    "        next_move = None\n",
    "        randomN = np.random.random()\n",
    "        board = self.get_game().get_board_status()\n",
    "        available_coordinates, _ = get_available_vectors(board, self.get_game().BOARD_SIDE)\n",
    "        if randomN < self.random_factor:\n",
    "            # if random number below random factor, choose random action\n",
    "            next_move = random.choice(available_coordinates)\n",
    "        else:\n",
    "            # if exploiting, gather all possible actions and choose one with the highest G (reward)\n",
    "            for x, y in available_coordinates:\n",
    "                new_board = deepcopy(board)\n",
    "                new_board[y, x] = self.get_game().get_selected_piece()\n",
    "                new_state = board_to_tuple(new_board)\n",
    "\n",
    "                if new_state not in self.G_place.keys():\n",
    "                    self.G_place[new_state] = np.random.uniform(low=1.0, high=0.1)\n",
    "\n",
    "                if self.G_place[new_state] >= maxG:\n",
    "                    next_move = (x, y)\n",
    "                    maxG = self.G_place[new_state]\n",
    "\n",
    "        return next_move\n",
    "    \n",
    "    def update_state_history_choose(self, state, reward):\n",
    "        self.state_history_choose.append((state, reward))\n",
    "\n",
    "    def update_state_history_place(self, state, reward):\n",
    "        self.state_history_place.append((state, reward))\n",
    "\n",
    "    def learn(self):\n",
    "        target = 0\n",
    "        for prev, reward in reversed(self.state_history_choose):\n",
    "            if prev not in self.G_choose.keys():\n",
    "                self.G_choose[prev] = np.random.uniform(low=1.0, high=0.1)\n",
    "            self.G_choose[prev] = self.G_choose[prev] + self.alpha * (target - self.G_choose[prev])\n",
    "            target += reward\n",
    "        \n",
    "        target = 0\n",
    "        for prev, reward in reversed(self.state_history_place):\n",
    "            if prev not in self.G_place.keys():\n",
    "                self.G_place[prev] = np.random.uniform(low=1.0, high=0.1)\n",
    "            self.G_place[prev] = self.G_place[prev] + self.alpha * (target - self.G_place[prev])\n",
    "            target += reward\n",
    "\n",
    "        self.state_history_choose = []\n",
    "        self.state_history_place = []\n",
    "\n",
    "        self.random_factor -= 10e-5  # decrease random factor each episode of play\n",
    "    \n",
    "    def train(self, opponent_class, num_matches=100000, saveGs=False):\n",
    "        opponent_player = opponent_class(self.get_game())\n",
    "        self.get_game().set_players((self, opponent_player))\n",
    "        rateHistory = []\n",
    "        indices = []\n",
    "        won = 0\n",
    "        if saveGs:\n",
    "            self.G_choose, self.G_place = open_pickle()\n",
    "        logging.info(f\"G_place: {len(self.G_place)}\\nG_choose: {len(self.G_choose)}\")\n",
    "\n",
    "        for match in range(num_matches):\n",
    "            self.get_game().reset()\n",
    "\n",
    "            if rl_run(self.get_game(), (self, opponent_player)) == 0:\n",
    "                won += 1\n",
    "            self.learn()\n",
    "            \n",
    "            if match % 100 == 99:\n",
    "                win_ratio = won / 100\n",
    "                rateHistory.append(win_ratio)\n",
    "                indices.append(match)\n",
    "                won = 0\n",
    "                if match % 1000 == 999: logging.info(f\"Match n° {match+1} - Win ratio: {win_ratio}\")\n",
    "        \n",
    "        logging.info(f\"G_place: {len(self.G_place)}\\nG_choose: {len(self.G_choose)}\")\n",
    "        \n",
    "        # save the Gs on file\n",
    "        if saveGs:\n",
    "            dump_pickle(self.G_choose, self.G_place)\n",
    "            self.G_choose = {}\n",
    "            self.G_place = {}\n",
    "\n",
    "        plt.semilogy(indices, rateHistory, \"b\")\n",
    "        plt.show()\n",
    "    \n",
    "    def get_reward(self):\n",
    "        \"\"\"Get a reward of -2 if the opponent win, 1 if I win, -1 if it's adraw, 0 otherwise\"\"\"\n",
    "        if self.get_game().check_finished(): return -1\n",
    "        winner = self.get_game().check_winner()\n",
    "        return -2 if winner == 1 else 1 if winner == 0 else 0"
   ]
  },
  {
   "attachments": {},
   "cell_type": "markdown",
   "metadata": {},
   "source": [
    "### Reinforcement learning against random strategy"
   ]
  },
  {
   "cell_type": "markdown",
   "metadata": {},
   "source": [
    "#### First evaluation"
   ]
  },
  {
   "cell_type": "code",
   "execution_count": 42,
   "metadata": {},
   "outputs": [],
   "source": [
    "game = quarto.Quarto()\n",
    "rl_player = RLPlayer(game)\n",
    "random_player = RandomPlayer(game)\n",
    "game.set_players((rl_player, random_player))"
   ]
  },
  {
   "cell_type": "code",
   "execution_count": 36,
   "metadata": {},
   "outputs": [
    {
     "name": "stderr",
     "output_type": "stream",
     "text": [
      "Win ratio: 0.525\n"
     ]
    }
   ],
   "source": [
    "evaluate(game, rl_player, random_player)"
   ]
  },
  {
   "attachments": {},
   "cell_type": "markdown",
   "metadata": {},
   "source": [
    "#### Training"
   ]
  },
  {
   "cell_type": "code",
   "execution_count": 43,
   "metadata": {},
   "outputs": [
    {
     "name": "stderr",
     "output_type": "stream",
     "text": [
      "G_place: 0\n",
      "G_choose: 0\n",
      "Match n° 1000 - Win ratio: 0.46\n",
      "Match n° 2000 - Win ratio: 0.55\n",
      "Match n° 3000 - Win ratio: 0.51\n",
      "Match n° 4000 - Win ratio: 0.46\n",
      "Match n° 5000 - Win ratio: 0.44\n",
      "Match n° 6000 - Win ratio: 0.57\n",
      "Match n° 7000 - Win ratio: 0.46\n",
      "Match n° 8000 - Win ratio: 0.54\n",
      "Match n° 9000 - Win ratio: 0.5\n",
      "Match n° 10000 - Win ratio: 0.52\n",
      "G_place: 441342\n",
      "G_choose: 4118669\n"
     ]
    },
    {
     "data": {
      "image/png": "[encoded data removed]",
      "text/plain": [
       "<Figure size 640x480 with 1 Axes>"
      ]
     },
     "metadata": {},
     "output_type": "display_data"
    }
   ],
   "source": [
    "rl_player.train(RandomPlayer, num_matches=10000)"
   ]
  },
  {
   "attachments": {},
   "cell_type": "markdown",
   "metadata": {},
   "source": [
    "#### Second evaluation"
   ]
  },
  {
   "cell_type": "code",
   "execution_count": 44,
   "metadata": {},
   "outputs": [
    {
     "name": "stderr",
     "output_type": "stream",
     "text": [
      "Win ratio: 0.523\n"
     ]
    }
   ],
   "source": [
    "evaluate(game, rl_player, RandomPlayer(game))"
   ]
  },
  {
   "attachments": {},
   "cell_type": "markdown",
   "metadata": {},
   "source": [
    "### G length\n",
    "\n",
    "| Train n° | G_place | G_choose | Time    | Win ratio |\n",
    "| :------: | :-----: | :------: | :-----: | :-------: |\n",
    "| 0        | 0       | 0        | -       | -         |\n",
    "| 1        | 50951   | 480879   | 13s     | 0.46      |\n",
    "| 2        | 99623   | 946438   | 13s     | 0.49      |\n",
    "| 3        | 145333  | 1384110  | 16s     | 0.49      |\n",
    "| 4        | 189238  | 1804848  | 15s     | 0.47      |\n",
    "| 5        | 232551  | 2213670  | 14s     | 0.43      |\n",
    "| 6        | 274858  | 2604325  | 14s     | 0.52      |\n",
    "| 7        | 316579  | 2988546  | 15s     | 0.40      |\n",
    "| 8        | 358542  | 3370745  | 16s     | 0.44      |\n",
    "| 9        | 400620  | 3748392  | 17s     | 0.53      |\n",
    "| 10       | 441668  | 4116272  | 24s     | 0.56      |\n",
    "| 11       | 482988  | 4480636  | 24s     | 0.52      |\n",
    "| 12       | 524043  | 4844538  | 21s     | 0.49      |\n",
    "| 13       | 565350  | 5209891  | 36s     | 0.44      |\n",
    "| 14       | 606903  | 5566562  | 41s     | 0.55      |\n",
    "| 15       | 648557  | 5916521  | 57s     | 0.48      |\n",
    "| 16       | 689831  | 6264341  | 2m 32s  | 0.49      |\n",
    "| 17       | 731141  | 6617331  | 1m 25s  | 0.51      |\n",
    "| 18       | 772615  | 6963659  | 2m 1s   | 0.52      |\n",
    "| 19       | 814104  | 7314337  | 3m 31s  | 0.52      |\n",
    "| 20       | 855315  | 7662992  | 2m 29s  | 0.53      |\n",
    "| 21       | 896494  | 8014891  | 3m 17s  | 0.48      |\n",
    "| 22       | 937698  | 8361264  | 3m 50s  | 0.52      |\n",
    "| 23       | 983032  | 8746893  | 9m 26s  | 0.55      |\n",
    "\n",
    "N.B. Each train runs 1000 matches."
   ]
  },
  {
   "cell_type": "code",
   "execution_count": 4,
   "metadata": {},
   "outputs": [],
   "source": [
    "def get_state(board):\n",
    "    quadranti = list()\n",
    "    quadranti.append((board[0, 0] + 5, board[1, 0] + 5, board[0, 1] + 5, board[1, 1] + 5))\n",
    "    quadranti.append((board[0, 3] + 5, board[0, 2] + 5, board[1, 3] + 5, board[1, 2] + 5))\n",
    "    quadranti.append((board[3, 3] + 5, board[2, 3] + 5, board[3, 2] + 5, board[2, 2] + 5))\n",
    "    quadranti.append((board[3, 0] + 5, board[3, 1] + 5, board[2, 0] + 5, board[2, 1] + 5))\n",
    "    \n",
    "    state = [quadranti[0][0], quadranti[0][1], quadranti[0][2], quadranti[0][3], 0]\n",
    "    for index in range(0, 4):\n",
    "        state[index] = state[index] * quadranti[1][index] * quadranti[2][index] * quadranti[3][index]\n",
    "        state[4] += + np.prod(quadranti[index])\n",
    "    return tuple(state)"
   ]
  },
  {
   "cell_type": "code",
   "execution_count": 5,
   "metadata": {},
   "outputs": [],
   "source": [
    "game = quarto.Quarto()\n",
    "game.select(0)\n",
    "game.place(0, 0)\n",
    "game.select(1)\n",
    "game.place(1, 3)\n",
    "board = game.get_board_status()\n",
    "state0 = get_state(board)"
   ]
  },
  {
   "cell_type": "code",
   "execution_count": 6,
   "metadata": {},
   "outputs": [],
   "source": [
    "game = quarto.Quarto()\n",
    "game.select(0)\n",
    "game.place(0, 3)\n",
    "game.select(1)\n",
    "game.place(3, 2)\n",
    "board = game.get_board_status()\n",
    "state1 = get_state(board)"
   ]
  },
  {
   "cell_type": "code",
   "execution_count": 7,
   "metadata": {},
   "outputs": [
    {
     "data": {
      "text/plain": [
       "True"
      ]
     },
     "execution_count": 7,
     "metadata": {},
     "output_type": "execute_result"
    }
   ],
   "source": [
    "state0 == state1"
   ]
  }
 ],
 "metadata": {
  "kernelspec": {
   "display_name": "Python 3",
   "language": "python",
   "name": "python3"
  },
  "language_info": {
   "codemirror_mode": {
    "name": "ipython",
    "version": 3
   },
   "file_extension": ".py",
   "mimetype": "text/x-python",
   "name": "python",
   "nbconvert_exporter": "python",
   "pygments_lexer": "ipython3",
   "version": "3.10.9 (tags/v3.10.9:1dd9be6, Dec  6 2022, 20:01:21) [MSC v.1934 64 bit (AMD64)]"
  },
  "orig_nbformat": 4,
  "vscode": {
   "interpreter": {
    "hash": "9aff9e50adfaa9e30c910fb3872ffdc72747acb5f50803ca0504f00e980f7c25"
   }
  }
 },
 "nbformat": 4,
 "nbformat_minor": 2
}
