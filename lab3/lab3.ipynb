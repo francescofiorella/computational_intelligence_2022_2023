{
 "cells": [
  {
   "cell_type": "markdown",
   "metadata": {},
   "source": [
    "# Lab 3: Policy Search\n",
    "\n",
    "Write agents able to play Nim, with an arbitrary number of rows and an upper bound on the number of objects that can be removed in a turn (a.k.a., subtraction game).\n",
    "\n",
    "- Task3.1: An agent using fixed rules based on nim-sum (i.e., an expert system)\n",
    "- Task3.2: An agent using evolved rules\n",
    "- Task3.3: An agent using minmax\n",
    "- Task3.4: An agent using reinforcement learning"
   ]
  },
  {
   "cell_type": "code",
   "execution_count": 1,
   "metadata": {},
   "outputs": [],
   "source": [
    "import logging\n",
    "from collections import namedtuple\n",
    "import random\n",
    "from copy import deepcopy\n",
    "from itertools import accumulate\n",
    "from operator import xor\n",
    "import math"
   ]
  },
  {
   "cell_type": "code",
   "execution_count": 2,
   "metadata": {},
   "outputs": [],
   "source": [
    "logging.basicConfig(format=\"%(message)s\", level=logging.INFO)"
   ]
  },
  {
   "cell_type": "markdown",
   "metadata": {},
   "source": [
    "### The Nim and Nimply classes"
   ]
  },
  {
   "cell_type": "code",
   "execution_count": 3,
   "metadata": {},
   "outputs": [],
   "source": [
    "Nimply = namedtuple(\"Nimply\", \"row, num_objects\")"
   ]
  },
  {
   "cell_type": "code",
   "execution_count": 4,
   "metadata": {},
   "outputs": [],
   "source": [
    "class Nim:\n",
    "    def __init__(self, num_rows: int, k: int = None) -> None:\n",
    "        self._rows = [i * 2 + 1 for i in range(num_rows)]\n",
    "        self._k = k\n",
    "        self._turn = 0\n",
    "        # 0 indicates that player 1 should move\n",
    "        # 1 indicates that player 2 should move\n",
    "\n",
    "    def __bool__(self):\n",
    "        return sum(self._rows) > 0\n",
    "\n",
    "    def __str__(self):\n",
    "        return \"<\" + \" \".join(str(_) for _ in self._rows) + \">\"\n",
    "\n",
    "    @property\n",
    "    def rows(self) -> tuple:\n",
    "        return tuple(self._rows)\n",
    "\n",
    "    @property\n",
    "    def k(self) -> int:\n",
    "        return self._k\n",
    "\n",
    "    @property\n",
    "    def turn(self) -> int:\n",
    "        return self._turn\n",
    "\n",
    "    def nimming(self, ply: Nimply) -> None:\n",
    "        row, num_objects = ply\n",
    "        assert self._rows[row] >= num_objects\n",
    "        assert self._k is None or num_objects <= self._k\n",
    "        self._rows[row] -= num_objects\n",
    "        self._turn = 1 - self._turn"
   ]
  },
  {
   "cell_type": "code",
   "execution_count": 5,
   "metadata": {},
   "outputs": [],
   "source": [
    "def possible_moves(nim: Nim):\n",
    "    return [Nimply(r, o) for r, c in enumerate(nim.rows) for o in range(1, c + 1) if nim.k is None or o <= nim.k]"
   ]
  },
  {
   "cell_type": "markdown",
   "metadata": {},
   "source": [
    "## An agent using fixed rules"
   ]
  },
  {
   "cell_type": "markdown",
   "metadata": {},
   "source": [
    "### The random strategy\n",
    "\n",
    "The hardcoded agent can use a set of fixed strategies: the first one consists in removing a random number of sticks from a random row, if the row has one or more sticks."
   ]
  },
  {
   "cell_type": "code",
   "execution_count": 6,
   "metadata": {},
   "outputs": [],
   "source": [
    "def random_strategy(nim: Nim, num_law=None, nimming=True):\n",
    "    moves_list = possible_moves(nim)\n",
    "\n",
    "    if len(moves_list) > 0:\n",
    "        move = random.choice(moves_list)\n",
    "        if nimming:\n",
    "            nim.nimming(move)\n",
    "        return move\n",
    "    else:\n",
    "        logging.info(\"No more moves allowed!\")"
   ]
  },
  {
   "cell_type": "markdown",
   "metadata": {},
   "source": [
    "### The nim sum\n",
    "\n",
    "The following description was taken from [here](https://dmf.unicatt.it/~paolini/divulgazione/mateappl/nim/nim.html).\n",
    "\n",
    "In a game of nim that involves nim heaps where you can take as many objects as you want from any one of the heaps during your turn, you need to be able to compute a nim sum, that characterizes the configuration of the game.\n",
    "\n",
    "Here's how to do it:\n",
    "\n",
    "- Express the number of objects in each nim heap as a binary number, with the only digits being 0 and 1.\n",
    "- Fill out the smaller binary numbers with '0's on the left, if necessary, so that all the numbers have the same number of digits.\n",
    "- Sum the binary numbers, but do not carry.\n",
    "- Replace each digit in the sum with the remainder that results when the digit is divided by 2.\n",
    "- This yields the nim sum.\n",
    "- To win at nim, always make a move, when possible, that leaves a configuration with a nim sum of 0. If you cannot do this, your opponent has the advantage, and you have to depend on his or her committing an error in order to win.\n",
    "    - Note that if the configuration you are given has a nim sum not equal to 0, there always is a move that creates a new configuration with a nim sum of 0. However, there are usually also moves that will yield configurations that give nim sums not equal to 0, and you need to avoid making these.\n",
    "    - Also note that if you are given a configuration that has a nim sum of 0, there is no move that will create a configuration that also has a nim sum of 0.\n",
    "\n",
    "In this implementation, the nim sum is calculated as the bitwise xor of the rows."
   ]
  },
  {
   "cell_type": "code",
   "execution_count": 7,
   "metadata": {},
   "outputs": [],
   "source": [
    "def nim_sum(state: Nim) -> int:\n",
    "    *_, result = accumulate(state.rows, xor)\n",
    "    return result"
   ]
  },
  {
   "cell_type": "markdown",
   "metadata": {},
   "source": [
    "### The nim sum strategy\n",
    "\n",
    "The second strategy consists in calculating the nim sum of the current board:\n",
    "- if it is not zero, evaluate some random moves until a zero nim sum is found.\n",
    "- if it is zero, perform a random move."
   ]
  },
  {
   "cell_type": "code",
   "execution_count": 8,
   "metadata": {},
   "outputs": [],
   "source": [
    "def nim_sum_strategy(nim: Nim, num_law=None, nimming=True):\n",
    "    if nim_sum(nim) != 0:\n",
    "        moves_list = possible_moves(nim)\n",
    "        for move in moves_list:\n",
    "            temp_nim = deepcopy(nim)\n",
    "            temp_nim.nimming(move)\n",
    "            if nim_sum(temp_nim) == 0:\n",
    "                if nimming:\n",
    "                    nim.nimming(move)\n",
    "                return move\n",
    "    random_strategy(nim)"
   ]
  },
  {
   "cell_type": "markdown",
   "metadata": {},
   "source": [
    "### The not so smart strategy\n",
    "\n",
    "This strategy emulates an human (that can make errors), and consists in using the nim sum strategy with a 70% probability (by default) or the random strategy otherwise."
   ]
  },
  {
   "cell_type": "code",
   "execution_count": 9,
   "metadata": {},
   "outputs": [],
   "source": [
    "def not_so_smart_strategy(nim: Nim, num_law=None, smartness=0.7, nimming=True):\n",
    "    if random.random() < smartness:\n",
    "        return nim_sum_strategy(nim, nimming=nimming)\n",
    "    else:\n",
    "        return random_strategy(nim, nimming=nimming)"
   ]
  },
  {
   "attachments": {},
   "cell_type": "markdown",
   "metadata": {},
   "source": [
    "## The match\n",
    "\n",
    "The play_nim function takes some parameters:\n",
    "- `n` indicates the number of rows on the board.\n",
    "- `first_strategy` indicates the method used by the first agent to make a move.\n",
    "- `second_strategy` indicates the method used by the second agent to make a move.\n",
    "- `who_starts` indicates who makes the first move; it is an even number (tipically 0) to indicate the first agent and an odd number (tipically 1) to indicate the second agent.\n",
    "- `first_num_law` and `second_num_law` are two special parameters that will be used for the evolved rules.\n",
    "\n",
    "The first agent will always move first."
   ]
  },
  {
   "cell_type": "code",
   "execution_count": 10,
   "metadata": {},
   "outputs": [],
   "source": [
    "def play_nim(n, first_strategy, second_strategy, who_starts, first_num_law=0, second_num_law=0):\n",
    "    nim = Nim(n)\n",
    "    #logging.info(f\"Initial setting: {nim.rows} - Nim sum: {nim_sum(nim)}\")\n",
    "    nim._turn = who_starts % 2\n",
    "    while nim:\n",
    "        if nim.turn == 0: # first agent's turn\n",
    "            first_strategy(nim, num_law=first_num_law)\n",
    "            #logging.info(f\"First agent's turn: {nim.rows} - Nim sum: {nim_sum(nim)}\")\n",
    "        else: # second agent's turn\n",
    "            second_strategy(nim, num_law=second_num_law)\n",
    "            #logging.info(f\"Second agent's turn: {nim.rows} - Nim sum: {nim_sum(nim)}\")\n",
    "    return (1 - nim.turn)\n"
   ]
  },
  {
   "cell_type": "code",
   "execution_count": 11,
   "metadata": {},
   "outputs": [],
   "source": [
    "def single_game(n, first_strategy, second_strategy, who_starts, first_num_law=0, second_num_law=0):\n",
    "    winner = play_nim(n, first_strategy, second_strategy, who_starts, first_num_law, second_num_law)\n",
    "    if winner == 0:\n",
    "        logging.info(\"--- The first agent won! ---\\n\")\n",
    "    else:\n",
    "        logging.info(\"--- The second agent won! ---\\n\")"
   ]
  },
  {
   "cell_type": "markdown",
   "metadata": {},
   "source": [
    "### First version: second agent's random strategy"
   ]
  },
  {
   "cell_type": "code",
   "execution_count": 12,
   "metadata": {},
   "outputs": [
    {
     "name": "stderr",
     "output_type": "stream",
     "text": [
      "Game 1:\n",
      " N = 5\n",
      " Start: First Agent\n",
      " First agent: nim sum strategy\n",
      " Second agent: random strategy\n",
      "--- The first agent won! ---\n",
      "\n",
      "Game 2:\n",
      " N = 5\n",
      " Start: Second Agent\n",
      " First agent: nim sum strategy\n",
      " Second agent: random strategy\n",
      "--- The first agent won! ---\n",
      "\n"
     ]
    }
   ],
   "source": [
    "logging.info(\"Game 1:\\n N = 5\\n Start: First Agent\\n First agent: nim sum strategy\\n Second agent: random strategy\")\n",
    "single_game(5, nim_sum_strategy, random_strategy, 0)\n",
    "\n",
    "logging.info(\"Game 2:\\n N = 5\\n Start: Second Agent\\n First agent: nim sum strategy\\n Second agent: random strategy\")\n",
    "single_game(5, nim_sum_strategy, random_strategy, 1)"
   ]
  },
  {
   "cell_type": "markdown",
   "metadata": {},
   "source": [
    "### Second version: Everyone is using the nim sum strategy"
   ]
  },
  {
   "cell_type": "code",
   "execution_count": 13,
   "metadata": {},
   "outputs": [
    {
     "name": "stderr",
     "output_type": "stream",
     "text": [
      "Game 3:\n",
      " N = 5\n",
      " Start: First Agent\n",
      " First agent: nim sum strategy \n",
      " Second agent: nim sum strategy\n",
      "--- The first agent won! ---\n",
      "\n",
      "Game 4:\n",
      " N = 5\n",
      " Start: Second Agent\n",
      " First agent: nim sum strategy\n",
      " Second agent: nim sum strategy\n",
      "--- The second agent won! ---\n",
      "\n"
     ]
    }
   ],
   "source": [
    "logging.info(\"Game 3:\\n N = 5\\n Start: First Agent\\n First agent: nim sum strategy \\n Second agent: nim sum strategy\")\n",
    "single_game(5, nim_sum_strategy, nim_sum_strategy, 0)\n",
    "\n",
    "logging.info(\"Game 4:\\n N = 5\\n Start: Second Agent\\n First agent: nim sum strategy\\n Second agent: nim sum strategy\")\n",
    "single_game(5, nim_sum_strategy, nim_sum_strategy, 1)"
   ]
  },
  {
   "cell_type": "markdown",
   "metadata": {},
   "source": [
    "### Third version: The agent is using the not so smart strategy\n",
    "\n",
    "This strategy emulates an human (that can make errors), and consists in using the nim sum strategy with a 70% probability or the random strategy otherwise."
   ]
  },
  {
   "cell_type": "code",
   "execution_count": 14,
   "metadata": {},
   "outputs": [
    {
     "name": "stderr",
     "output_type": "stream",
     "text": [
      "Game 5:\n",
      " N = 5\n",
      " Start: First Agent\n",
      " First agent: nim sum strategy\n",
      " Second agent: not so smart strategy\n",
      "--- The first agent won! ---\n",
      "\n",
      "Game 6:\n",
      " N = 5\n",
      " Start: Second Agent\n",
      " First agent: nim sum strategy\n",
      " Second agent: not so smart strategy\n",
      "--- The first agent won! ---\n",
      "\n"
     ]
    }
   ],
   "source": [
    "logging.info(\"Game 5:\\n N = 5\\n Start: First Agent\\n First agent: nim sum strategy\\n Second agent: not so smart strategy\")\n",
    "single_game(5, nim_sum_strategy, not_so_smart_strategy, 0)\n",
    "\n",
    "logging.info(\"Game 6:\\n N = 5\\n Start: Second Agent\\n First agent: nim sum strategy\\n Second agent: not so smart strategy\")\n",
    "single_game(5, nim_sum_strategy, not_so_smart_strategy, 1)"
   ]
  },
  {
   "cell_type": "markdown",
   "metadata": {},
   "source": [
    "## An agent using evolved rules"
   ]
  },
  {
   "cell_type": "markdown",
   "metadata": {},
   "source": [
    "### The new strategies\n",
    "\n",
    "New strategies have been defined; they are based on feasible human moves and each of them can be executed with five variations, by removing either one, half, one-third, two-third or all the items in the chosen row.\n",
    "\n",
    "The strategies are:\n",
    "- shortest row\n",
    "- longest row\n",
    "- first row\n",
    "- last row\n",
    "- middle row"
   ]
  },
  {
   "cell_type": "code",
   "execution_count": 15,
   "metadata": {},
   "outputs": [],
   "source": [
    "def items_to_remove(num_law, num):\n",
    "    assert num > 0\n",
    "    if num_law == 0: # all the item\n",
    "        return num\n",
    "    elif num_law == 1: # one item\n",
    "        return 1\n",
    "    elif num_law == 2: # half of the items\n",
    "        return int((num+1)/2)\n",
    "    elif num_law == 3: # one-third of the items\n",
    "        return int((num+2)/3)\n",
    "    else: # two-third of the items\n",
    "        return int((num+1)/3) + 1\n",
    "\n",
    "def shortest_row_strategy(nim: Nim, num_law=0, nimming=True):\n",
    "    move = min((x for x in enumerate(nim.rows) if x[1] > 0), key=lambda y: y[1])\n",
    "    move = Nimply(move[0], items_to_remove(num_law, move[1]))\n",
    "    if nimming:\n",
    "        nim.nimming(move)\n",
    "    return move\n",
    "\n",
    "\n",
    "def longest_row_strategy(nim: Nim, num_law=0, nimming=True):\n",
    "    move = max((x for x in enumerate(nim.rows)), key=lambda y: y[1])\n",
    "    move = Nimply(move[0], items_to_remove(num_law, move[1]))\n",
    "    if nimming:\n",
    "        nim.nimming(move)\n",
    "    return move\n",
    "\n",
    "\n",
    "def first_row_strategy(nim: Nim, num_law=0, nimming=True):\n",
    "    move = min((x for x in enumerate(nim.rows) if x[1] > 0), key=lambda y: y[0])\n",
    "    move = Nimply(move[0], items_to_remove(num_law, move[1]))\n",
    "    if nimming:\n",
    "        nim.nimming(move)\n",
    "    return move\n",
    "\n",
    "def last_row_strategy(nim: Nim, num_law=0, nimming=True):\n",
    "    move = max((x for x in enumerate(nim.rows) if x[1] > 0), key=lambda y: y[0])\n",
    "    move = Nimply(move[0], items_to_remove(num_law, move[1]))\n",
    "    if nimming:\n",
    "        nim.nimming(move)\n",
    "    return move\n",
    "\n",
    "\n",
    "def middle_row_strategy(nim: Nim, num_law=0, nimming=True):\n",
    "    _list = list(x for x in enumerate(nim.rows) if x[1 > 0])\n",
    "    move = _list[int(len(_list) / 2)]\n",
    "    move = Nimply(move[0], items_to_remove(num_law, move[1]))\n",
    "    if nimming:\n",
    "        nim.nimming(move)\n",
    "    return move\n",
    "    "
   ]
  },
  {
   "cell_type": "markdown",
   "metadata": {},
   "source": [
    "### The population and the individual\n",
    "The population is formed by all the possible rules, an individual is a single rule with a certain \"num_law\"."
   ]
  },
  {
   "cell_type": "code",
   "execution_count": 16,
   "metadata": {},
   "outputs": [],
   "source": [
    "population = [shortest_row_strategy, longest_row_strategy, first_row_strategy, last_row_strategy, middle_row_strategy]\n",
    "num_laws = [0, 1, 2, 3, 4]"
   ]
  },
  {
   "cell_type": "markdown",
   "metadata": {},
   "source": [
    "### Fitness\n",
    "The fitness is obtained by calculated the winning ratio of that individual."
   ]
  },
  {
   "cell_type": "code",
   "execution_count": 17,
   "metadata": {},
   "outputs": [],
   "source": [
    "def fitness(won, total_matches):\n",
    "    return won/total_matches"
   ]
  },
  {
   "cell_type": "markdown",
   "metadata": {},
   "source": [
    "### The rule-finding phase\n",
    "\n",
    "During the rule-finding phase, each strategy (with their variation) is used in a fixed number of matches against the random strategy. Each match is repeated twice, alternating the starting strategy.\n",
    "\n",
    "At the end, all the winning ratios are compared and a winner is decreed."
   ]
  },
  {
   "cell_type": "code",
   "execution_count": 18,
   "metadata": {},
   "outputs": [
    {
     "name": "stderr",
     "output_type": "stream",
     "text": [
      "Best strategy: shortest_row_strategy, law 0 - Fitness: 0.921\n"
     ]
    }
   ],
   "source": [
    "NUM_MATCHES = 1000\n",
    "NUM_SIZE = 10\n",
    "\n",
    "evaluations = dict()\n",
    "\n",
    "for index, individual in enumerate(population):\n",
    "    for law in num_laws:\n",
    "        won = 0\n",
    "        for match in range(NUM_MATCHES):\n",
    "            winner = play_nim(NUM_SIZE, individual, random_strategy, match % 2, first_num_law=law)\n",
    "            won += (1 - winner)\n",
    "        fit = fitness(won, NUM_MATCHES)\n",
    "        evaluations[f\"{population[index].__name__}, law {law}\"] = [index, law, fit]\n",
    "        #logging.info(f\"{population[index].__name__}, law {law} - Fitness: {fit}\")\n",
    "\n",
    "best = max((x for x in evaluations), key=lambda y: evaluations[y][2])\n",
    "evolved_strategy = population[evaluations[best][0]]\n",
    "evolved_strategy_law = evaluations[best][1]\n",
    "logging.info(f\"Best strategy: {best} - Fitness: {evaluations[best][2]}\")"
   ]
  },
  {
   "cell_type": "markdown",
   "metadata": {},
   "source": [
    "### Evaluation phase\n",
    "\n",
    "The winning strategy is evaluated again: new matches are played all the other strategies. At the end the winning ratio is calculated; if it is high enough, then the strategy is the best possible (so far)."
   ]
  },
  {
   "cell_type": "code",
   "execution_count": 19,
   "metadata": {},
   "outputs": [
    {
     "name": "stderr",
     "output_type": "stream",
     "text": [
      "shortest_row_strategy, law 0 - Fitness: 0.9\n"
     ]
    }
   ],
   "source": [
    "won = 0\n",
    "for individual in population:\n",
    "    for law in num_laws:\n",
    "        for match in range(NUM_MATCHES):\n",
    "            winner = play_nim(\n",
    "                NUM_SIZE,\n",
    "                evolved_strategy,\n",
    "                individual,\n",
    "                match % 2,\n",
    "                first_num_law=evolved_strategy_law,\n",
    "                second_num_law=law\n",
    "            )\n",
    "            won += (1 - winner)\n",
    "\n",
    "\n",
    "logging.info(f\"{best} - Fitness: {fitness(won, len(population)*len(num_laws)*NUM_MATCHES)}\")"
   ]
  },
  {
   "attachments": {},
   "cell_type": "markdown",
   "metadata": {},
   "source": [
    "## An agent using minmax"
   ]
  },
  {
   "attachments": {},
   "cell_type": "markdown",
   "metadata": {},
   "source": [
    "I am maximizing my possible reward.<br>\n",
    "My opponent is minimizing my possible reward (so maximizing his reward).\n",
    "\n",
    "When it's my turn:\n",
    "- Calculate all the possible moves.\n",
    "- Calculate all the possible moved for my opponent (for each of my moves)\n",
    "- Keep on calculating, until all the possible combinations end in someone winning.\n",
    "- Alpha beta pruning was included in the implementation.\n",
    "- Pick the path that maximize my reward."
   ]
  },
  {
   "cell_type": "code",
   "execution_count": 20,
   "metadata": {},
   "outputs": [],
   "source": [
    "def minmax(nim: Nim, alpha = -math.inf, beta = math.inf, player = 1, depth = 0):\n",
    "    if depth > 20:\n",
    "        return None, -player\n",
    "    if not nim:\n",
    "        #print(f\"End at depth {depth} - Player {0 if player == 1 else 1}\")\n",
    "        return None, player\n",
    "    evaluations = list()\n",
    "    value = player * math.inf\n",
    "    for ply in possible_moves(nim):\n",
    "        #print(f\"Player {0 if player == 1 else 1} - Move {depth}: {ply}\")\n",
    "        board = deepcopy(nim)\n",
    "        board.nimming(ply)\n",
    "        _, val = minmax(board, alpha=alpha, beta=beta, player=-player, depth=depth+1)\n",
    "        evaluations.append((ply, val))\n",
    "        if player == 1:\n",
    "            value = min(value, val)\n",
    "            if value <= alpha:\n",
    "                break\n",
    "            beta = min(beta, value)\n",
    "        else:\n",
    "            value = max(value, val)\n",
    "            if value >= beta:\n",
    "                break\n",
    "            alpha = max(alpha, value)\n",
    "    if player == 1:\n",
    "        return min(evaluations, key=lambda k: k[1])\n",
    "    else:\n",
    "        return max(evaluations, key=lambda k: k[1])"
   ]
  },
  {
   "cell_type": "code",
   "execution_count": 21,
   "metadata": {},
   "outputs": [],
   "source": [
    "def minmax_strategy(nim: Nim, num_law=None, nimming=True):\n",
    "    best_ply, _ = minmax(nim)\n",
    "    if nimming:\n",
    "        nim.nimming(best_ply)\n",
    "    return best_ply"
   ]
  },
  {
   "attachments": {},
   "cell_type": "markdown",
   "metadata": {},
   "source": [
    "### Match with random strategy"
   ]
  },
  {
   "cell_type": "code",
   "execution_count": 22,
   "metadata": {},
   "outputs": [
    {
     "name": "stderr",
     "output_type": "stream",
     "text": [
      "Win ratio: 0.99\n"
     ]
    }
   ],
   "source": [
    "NUM_MATCHES = 100\n",
    "\n",
    "won = 0\n",
    "for match in range(NUM_MATCHES):\n",
    "    won += (1 - play_nim(3, minmax_strategy, random_strategy, match % 2))\n",
    "logging.info(f\"Win ratio: {won/(NUM_MATCHES)}\")"
   ]
  },
  {
   "attachments": {},
   "cell_type": "markdown",
   "metadata": {},
   "source": [
    "### Match with evolved strategy"
   ]
  },
  {
   "cell_type": "code",
   "execution_count": 23,
   "metadata": {},
   "outputs": [
    {
     "name": "stderr",
     "output_type": "stream",
     "text": [
      "Win ratio: 1.0\n"
     ]
    }
   ],
   "source": [
    "won = 0\n",
    "for match in range(NUM_MATCHES):\n",
    "    won += (1 - play_nim(3, minmax_strategy, evolved_strategy, match % 2, second_num_law=evolved_strategy_law))\n",
    "logging.info(f\"Win ratio: {won/(NUM_MATCHES)}\")"
   ]
  },
  {
   "attachments": {},
   "cell_type": "markdown",
   "metadata": {},
   "source": [
    "### Match with nim sum strategy\n",
    "The win ratio should be 1 if the minmax agent starts first, 0 otherwise"
   ]
  },
  {
   "cell_type": "code",
   "execution_count": 24,
   "metadata": {},
   "outputs": [
    {
     "name": "stderr",
     "output_type": "stream",
     "text": [
      "Win ratio: 1.0\n"
     ]
    }
   ],
   "source": [
    "won = 0\n",
    "for _ in range(NUM_MATCHES):\n",
    "    won += (1 - play_nim(3, minmax_strategy, nim_sum_strategy, 0))\n",
    "logging.info(f\"Win ratio: {won/NUM_MATCHES}\")"
   ]
  },
  {
   "cell_type": "code",
   "execution_count": 25,
   "metadata": {},
   "outputs": [
    {
     "name": "stderr",
     "output_type": "stream",
     "text": [
      "Win ratio: 0.0\n"
     ]
    }
   ],
   "source": [
    "won = 0\n",
    "for _ in range(NUM_MATCHES):\n",
    "    won += (1 - play_nim(3, minmax_strategy, nim_sum_strategy, 1))\n",
    "logging.info(f\"Win ratio: {won/NUM_MATCHES}\")"
   ]
  },
  {
   "attachments": {},
   "cell_type": "markdown",
   "metadata": {},
   "source": [
    "## An agent using reinforcement learning"
   ]
  },
  {
   "cell_type": "code",
   "execution_count": 26,
   "metadata": {},
   "outputs": [],
   "source": [
    "import matplotlib.pyplot as plt\n",
    "import numpy as np"
   ]
  },
  {
   "cell_type": "code",
   "execution_count": 27,
   "metadata": {},
   "outputs": [],
   "source": [
    "class Agent(object):\n",
    "    def __init__(self, states, alpha=0.15, random_factor=0.2):  # 80% explore, 20% exploit\n",
    "        self.state_history = [(states.rows, 0)]  # state, reward\n",
    "        self.alpha = alpha\n",
    "        self.random_factor = random_factor\n",
    "        self.G = {}\n",
    "\n",
    "    def choose_action(self, state, allowedMoves):\n",
    "        maxG = -10e15\n",
    "        next_move = None\n",
    "        randomN = np.random.random()\n",
    "        if randomN < self.random_factor:\n",
    "            # if random number below random factor, choose random action\n",
    "            next_move = random.choice(allowedMoves)\n",
    "\n",
    "            new_state = deepcopy(state)\n",
    "            new_state.nimming(next_move)\n",
    "            if new_state.rows not in self.G.keys():\n",
    "                self.G[new_state.rows] = np.random.uniform(low=1.0, high=0.1)\n",
    "        else:\n",
    "            # if exploiting, gather all possible actions and choose one with the highest G (reward)\n",
    "            for action in allowedMoves:\n",
    "                new_state = deepcopy(state)\n",
    "                new_state.nimming(action)\n",
    "\n",
    "                if new_state.rows not in self.G.keys():\n",
    "                    self.G[new_state.rows] = np.random.uniform(low=1.0, high=0.1)\n",
    "                \n",
    "                if self.G[new_state.rows] >= maxG:\n",
    "                    next_move = action\n",
    "                    maxG = self.G[new_state.rows]\n",
    "\n",
    "        return next_move\n",
    "\n",
    "    def update_state_history(self, state, reward):\n",
    "        self.state_history.append((state.rows, reward))\n",
    "\n",
    "    def learn(self):\n",
    "        target = 0\n",
    "\n",
    "        for prev, reward in reversed(self.state_history):\n",
    "            if prev not in self.G.keys():\n",
    "                self.G[prev] = np.random.uniform(low=1.0, high=0.1)\n",
    "            self.G[prev] = self.G[prev] + self.alpha * (target - self.G[prev])\n",
    "            target += reward\n",
    "\n",
    "        self.state_history = []\n",
    "\n",
    "        self.random_factor -= 10e-5  # decrease random factor each episode of play\n"
   ]
  },
  {
   "attachments": {},
   "cell_type": "markdown",
   "metadata": {},
   "source": [
    "### The reward\n",
    "\n",
    "The agents gets a 1 reward if the move he does is the winning one (the last move of the game), 0 otherwise."
   ]
  },
  {
   "cell_type": "code",
   "execution_count": 28,
   "metadata": {},
   "outputs": [],
   "source": [
    "def get_reward(nim: Nim):\n",
    "    return 0 if nim else 1"
   ]
  },
  {
   "attachments": {},
   "cell_type": "markdown",
   "metadata": {},
   "source": [
    "### The learning phase\n",
    "\n",
    "During the learning phase, the agent is trained against the random strategy. 10000 matches are performed and, at the end, the agent improves significantly."
   ]
  },
  {
   "cell_type": "code",
   "execution_count": 29,
   "metadata": {},
   "outputs": [],
   "source": [
    "def train(agent: Agent, opponent_strategy, opponent_law=None):\n",
    "    NUM_MATCHES = 10000\n",
    "    NIM_NUM = 5\n",
    "    nim = Nim(NIM_NUM)\n",
    "    rateHistory = []\n",
    "    indices = []\n",
    "    win_ratio = 0\n",
    "    for match in range(NUM_MATCHES):\n",
    "        while nim:\n",
    "            action = agent.choose_action(nim, possible_moves(nim))\n",
    "            nim.nimming(action)\n",
    "            reward = get_reward(nim)\n",
    "            agent.update_state_history(nim, reward)\n",
    "            if nim:\n",
    "                opponent_strategy(nim, opponent_law)\n",
    "        if nim.turn == 1:\n",
    "            win_ratio +=1\n",
    "        agent.learn()\n",
    "        if match % 100 == 0:\n",
    "            rateHistory.append(win_ratio / 100)\n",
    "            indices.append(match)\n",
    "            win_ratio = 0\n",
    "        nim = Nim(NIM_NUM)\n",
    "\n",
    "    plt.semilogy(indices, rateHistory, \"b\")\n",
    "    plt.show()"
   ]
  },
  {
   "attachments": {},
   "cell_type": "markdown",
   "metadata": {},
   "source": [
    "### Reinforcement learning against random strategy"
   ]
  },
  {
   "cell_type": "code",
   "execution_count": 30,
   "metadata": {},
   "outputs": [],
   "source": [
    "NIM_NUM = 5\n",
    "nim = Nim(NIM_NUM)\n",
    "rl_agent = Agent(nim, alpha=0.1, random_factor=0.4)"
   ]
  },
  {
   "cell_type": "code",
   "execution_count": 31,
   "metadata": {},
   "outputs": [],
   "source": [
    "def rl_strategy(nim: Nim, num_law=None, nimming=True):\n",
    "    action = rl_agent.choose_action(nim, possible_moves(nim))\n",
    "    if nimming:\n",
    "        nim.nimming(action)\n",
    "    return action"
   ]
  },
  {
   "attachments": {},
   "cell_type": "markdown",
   "metadata": {},
   "source": [
    "#### The first evaluation"
   ]
  },
  {
   "cell_type": "code",
   "execution_count": 32,
   "metadata": {},
   "outputs": [
    {
     "name": "stderr",
     "output_type": "stream",
     "text": [
      "Win ratio: 0.47\n"
     ]
    }
   ],
   "source": [
    "NUM_MATCHES = 100\n",
    "won = 0\n",
    "for _ in range(NUM_MATCHES):\n",
    "    won += (1 - play_nim(NIM_NUM, rl_strategy, random_strategy, 0))\n",
    "logging.info(f\"Win ratio: {won/NUM_MATCHES}\")"
   ]
  },
  {
   "attachments": {},
   "cell_type": "markdown",
   "metadata": {},
   "source": [
    "#### The training phase"
   ]
  },
  {
   "cell_type": "code",
   "execution_count": 33,
   "metadata": {},
   "outputs": [
    {
     "data": {
      "image/png": "[encoded data removed]",
      "text/plain": [
       "<Figure size 640x480 with 1 Axes>"
      ]
     },
     "metadata": {},
     "output_type": "display_data"
    }
   ],
   "source": [
    "NIM_NUM = 5\n",
    "nim = Nim(NIM_NUM)\n",
    "rl_agent = Agent(nim, alpha=0.1, random_factor=0.4)\n",
    "train(rl_agent, random_strategy, None)"
   ]
  },
  {
   "attachments": {},
   "cell_type": "markdown",
   "metadata": {},
   "source": [
    "#### The second evaluation"
   ]
  },
  {
   "cell_type": "code",
   "execution_count": 34,
   "metadata": {},
   "outputs": [
    {
     "name": "stderr",
     "output_type": "stream",
     "text": [
      "Win ratio: 0.89\n"
     ]
    }
   ],
   "source": [
    "NUM_MATCHES = 100\n",
    "won = 0\n",
    "for _ in range(NUM_MATCHES):\n",
    "    won += (1 - play_nim(NIM_NUM, rl_strategy, random_strategy, 0))\n",
    "logging.info(f\"Win ratio: {won/NUM_MATCHES}\")"
   ]
  },
  {
   "attachments": {},
   "cell_type": "markdown",
   "metadata": {},
   "source": [
    "### RL against evolved strategy"
   ]
  },
  {
   "attachments": {},
   "cell_type": "markdown",
   "metadata": {},
   "source": [
    "#### The first evaluation"
   ]
  },
  {
   "cell_type": "code",
   "execution_count": 35,
   "metadata": {},
   "outputs": [
    {
     "name": "stderr",
     "output_type": "stream",
     "text": [
      "Win ratio: 0.0\n"
     ]
    }
   ],
   "source": [
    "NUM_MATCHES = 100\n",
    "won = 0\n",
    "for _ in range(NUM_MATCHES):\n",
    "    won += (1 - play_nim(NIM_NUM, rl_strategy, evolved_strategy, 0, second_num_law=evolved_strategy_law))\n",
    "logging.info(f\"Win ratio: {won/NUM_MATCHES}\")"
   ]
  },
  {
   "attachments": {},
   "cell_type": "markdown",
   "metadata": {},
   "source": [
    "#### The learning phase"
   ]
  },
  {
   "cell_type": "code",
   "execution_count": 36,
   "metadata": {},
   "outputs": [
    {
     "data": {
      "image/png": "[encoded data removed]",
      "text/plain": [
       "<Figure size 640x480 with 1 Axes>"
      ]
     },
     "metadata": {},
     "output_type": "display_data"
    }
   ],
   "source": [
    "NIM_NUM = 5\n",
    "nim = Nim(NIM_NUM)\n",
    "rl_agent = Agent(nim, alpha=0.1, random_factor=0.4)\n",
    "train(rl_agent, evolved_strategy, opponent_law=evolved_strategy_law)"
   ]
  },
  {
   "attachments": {},
   "cell_type": "markdown",
   "metadata": {},
   "source": [
    "#### The second evaluation"
   ]
  },
  {
   "cell_type": "code",
   "execution_count": 37,
   "metadata": {},
   "outputs": [
    {
     "name": "stderr",
     "output_type": "stream",
     "text": [
      "Win ratio: 1.0\n"
     ]
    }
   ],
   "source": [
    "NUM_MATCHES = 100\n",
    "won = 0\n",
    "for _ in range(NUM_MATCHES):\n",
    "    won += (1 - play_nim(NIM_NUM, rl_strategy, evolved_strategy, 0, second_num_law=evolved_strategy_law))\n",
    "logging.info(f\"Win ratio: {won/NUM_MATCHES}\")"
   ]
  },
  {
   "attachments": {},
   "cell_type": "markdown",
   "metadata": {},
   "source": [
    "### RL against nim sum strategy"
   ]
  },
  {
   "attachments": {},
   "cell_type": "markdown",
   "metadata": {},
   "source": [
    "#### The first evaluation"
   ]
  },
  {
   "cell_type": "code",
   "execution_count": 38,
   "metadata": {},
   "outputs": [
    {
     "name": "stderr",
     "output_type": "stream",
     "text": [
      "Win ratio: 0.0\n"
     ]
    }
   ],
   "source": [
    "NUM_MATCHES = 100\n",
    "won = 0\n",
    "for _ in range(NUM_MATCHES):\n",
    "    won += (1 - play_nim(NIM_NUM, rl_strategy, nim_sum_strategy, 0))\n",
    "logging.info(f\"Win ratio: {won/NUM_MATCHES}\")"
   ]
  },
  {
   "attachments": {},
   "cell_type": "markdown",
   "metadata": {},
   "source": [
    "#### The learning phase"
   ]
  },
  {
   "cell_type": "code",
   "execution_count": 39,
   "metadata": {},
   "outputs": [
    {
     "data": {
      "image/png": "[encoded data removed]",
      "text/plain": [
       "<Figure size 640x480 with 1 Axes>"
      ]
     },
     "metadata": {},
     "output_type": "display_data"
    }
   ],
   "source": [
    "NIM_NUM = 5\n",
    "nim = Nim(NIM_NUM)\n",
    "rl_agent = Agent(nim, alpha=0.1, random_factor=0.4)\n",
    "train(rl_agent, nim_sum_strategy)"
   ]
  },
  {
   "attachments": {},
   "cell_type": "markdown",
   "metadata": {},
   "source": [
    "#### The second evaluation"
   ]
  },
  {
   "cell_type": "code",
   "execution_count": 40,
   "metadata": {},
   "outputs": [
    {
     "name": "stderr",
     "output_type": "stream",
     "text": [
      "Win ratio: 0.83\n"
     ]
    }
   ],
   "source": [
    "NUM_MATCHES = 100\n",
    "won = 0\n",
    "for _ in range(NUM_MATCHES):\n",
    "    won += (1 - play_nim(NIM_NUM, rl_strategy, nim_sum_strategy, 0))\n",
    "logging.info(f\"Win ratio: {won/NUM_MATCHES}\")"
   ]
  }
 ],
 "metadata": {
  "kernelspec": {
   "display_name": "Python 3.10.8 64-bit (microsoft store)",
   "language": "python",
   "name": "python3"
  },
  "language_info": {
   "codemirror_mode": {
    "name": "ipython",
    "version": 3
   },
   "file_extension": ".py",
   "mimetype": "text/x-python",
   "name": "python",
   "nbconvert_exporter": "python",
   "pygments_lexer": "ipython3",
   "version": "3.10.9"
  },
  "orig_nbformat": 4,
  "vscode": {
   "interpreter": {
    "hash": "9aff9e50adfaa9e30c910fb3872ffdc72747acb5f50803ca0504f00e980f7c25"
   }
  }
 },
 "nbformat": 4,
 "nbformat_minor": 2
}
