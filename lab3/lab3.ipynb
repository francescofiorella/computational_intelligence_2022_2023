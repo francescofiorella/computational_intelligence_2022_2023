{
 "cells": [
  {
   "cell_type": "markdown",
   "metadata": {},
   "source": [
    "# Lab 3: Policy Search\n",
    "\n",
    "Write agents able to play Nim, with an arbitrary number of rows and an upper bound on the number of objects that can be removed in a turn (a.k.a., subtraction game).\n",
    "\n",
    "- Task3.1: An agent using fixed rules based on nim-sum (i.e., an expert system)\n",
    "- Task3.2: An agent using evolved rules\n",
    "- Task3.3: An agent using minmax\n",
    "- Task3.4: An agent using reinforcement learning"
   ]
  },
  {
   "cell_type": "code",
   "execution_count": 1,
   "metadata": {},
   "outputs": [],
   "source": [
    "import logging\n",
    "from collections import namedtuple\n",
    "import random\n",
    "from copy import deepcopy\n",
    "from itertools import accumulate\n",
    "from operator import xor"
   ]
  },
  {
   "cell_type": "code",
   "execution_count": 2,
   "metadata": {},
   "outputs": [],
   "source": [
    "logging.basicConfig(format=\"%(message)s\", level=logging.INFO)"
   ]
  },
  {
   "cell_type": "markdown",
   "metadata": {},
   "source": [
    "### The Nim and Nimply classes"
   ]
  },
  {
   "cell_type": "code",
   "execution_count": 3,
   "metadata": {},
   "outputs": [],
   "source": [
    "Nimply = namedtuple(\"Nimply\", \"row, num_objects\")"
   ]
  },
  {
   "cell_type": "code",
   "execution_count": 4,
   "metadata": {},
   "outputs": [],
   "source": [
    "class Nim:\n",
    "    def __init__(self, num_rows: int, k: int = None) -> None:\n",
    "        self._rows = [i * 2 + 1 for i in range(num_rows)]\n",
    "        self._k = k\n",
    "\n",
    "    def __bool__(self):\n",
    "        return sum(self._rows) > 0\n",
    "\n",
    "    def __str__(self):\n",
    "        return \"<\" + \" \".join(str(_) for _ in self._rows) + \">\"\n",
    "\n",
    "    @property\n",
    "    def rows(self) -> tuple:\n",
    "        return tuple(self._rows)\n",
    "\n",
    "    @property\n",
    "    def k(self) -> int:\n",
    "        return self._k\n",
    "\n",
    "    def nimming(self, ply: Nimply) -> None:\n",
    "        row, num_objects = ply\n",
    "        assert self._rows[row] >= num_objects\n",
    "        assert self._k is None or num_objects <= self._k\n",
    "        self._rows[row] -= num_objects"
   ]
  },
  {
   "cell_type": "code",
   "execution_count": 5,
   "metadata": {},
   "outputs": [],
   "source": [
    "def possible_moves(nim: Nim):\n",
    "    return [Nimply(r, o) for r, c in enumerate(nim.rows) for o in range(1, c + 1) if nim.k is None or o <= nim.k]"
   ]
  },
  {
   "cell_type": "markdown",
   "metadata": {},
   "source": [
    "## An agent using fixed rules"
   ]
  },
  {
   "cell_type": "markdown",
   "metadata": {},
   "source": [
    "### The random strategy\n",
    "\n",
    "The hardcoded agent can use a set of fixed strategies: the first one consists in removing a random number of sticks from a random row, if the row has one or more sticks."
   ]
  },
  {
   "cell_type": "code",
   "execution_count": 6,
   "metadata": {},
   "outputs": [],
   "source": [
    "def random_strategy(nim: Nim, nimming=True):\n",
    "    moves_list = possible_moves(nim)\n",
    "\n",
    "    if len(moves_list) > 0:\n",
    "        move = random.choice(moves_list)\n",
    "        if nimming:\n",
    "            nim.nimming(move)\n",
    "        return move\n",
    "    else:\n",
    "        logging.info(\"No more moves allowed!\")"
   ]
  },
  {
   "cell_type": "markdown",
   "metadata": {},
   "source": [
    "### The nim sum\n",
    "\n",
    "The following description was taken from [here](https://dmf.unicatt.it/~paolini/divulgazione/mateappl/nim/nim.html).\n",
    "\n",
    "In a game of nim that involves nim heaps where you can take as many objects as you want from any one of the heaps during your turn, you need to be able to compute a nim sum, that characterizes the configuration of the game.\n",
    "\n",
    "Here's how to do it:\n",
    "\n",
    "- Express the number of objects in each nim heap as a binary number, with the only digits being 0 and 1.\n",
    "- Fill out the smaller binary numbers with '0's on the left, if necessary, so that all the numbers have the same number of digits.\n",
    "- Sum the binary numbers, but do not carry.\n",
    "- Replace each digit in the sum with the remainder that results when the digit is divided by 2.\n",
    "- This yields the nim sum.\n",
    "- To win at nim, always make a move, when possible, that leaves a configuration with a nim sum of 0. If you cannot do this, your opponent has the advantage, and you have to depend on his or her committing an error in order to win.\n",
    "    - Note that if the configuration you are given has a nim sum not equal to 0, there always is a move that creates a new configuration with a nim sum of 0. However, there are usually also moves that will yield configurations that give nim sums not equal to 0, and you need to avoid making these.\n",
    "    - Also note that if you are given a configuration that has a nim sum of 0, there is no move that will create a configuration that also has a nim sum of 0.\n",
    "\n",
    "In this implementation, the nim sum is calculated as the bitwise xor of the rows."
   ]
  },
  {
   "cell_type": "code",
   "execution_count": 7,
   "metadata": {},
   "outputs": [],
   "source": [
    "def nim_sum(state: Nim) -> int:\n",
    "    *_, result = accumulate(state.rows, xor)\n",
    "    return result"
   ]
  },
  {
   "cell_type": "markdown",
   "metadata": {},
   "source": [
    "### The nim sum strategy\n",
    "\n",
    "The second strategy consists in calculating the nim sum of the current board:\n",
    "- if it is not zero, evaluate some random moves until a zero nim sum is found.\n",
    "- if it is zero, perform a random move."
   ]
  },
  {
   "cell_type": "code",
   "execution_count": 8,
   "metadata": {},
   "outputs": [],
   "source": [
    "def nim_sum_strategy(nim: Nim, nimming=True):\n",
    "    if nim_sum(nim) != 0:\n",
    "        moves_list = possible_moves(nim)\n",
    "        for move in moves_list:\n",
    "            temp_nim = deepcopy(nim)\n",
    "            temp_nim.nimming(move)\n",
    "            if nim_sum(temp_nim) == 0:\n",
    "                if nimming:\n",
    "                    nim.nimming(move)\n",
    "                return move\n",
    "    random_strategy(nim)"
   ]
  },
  {
   "cell_type": "markdown",
   "metadata": {},
   "source": [
    "### The not so smart strategy\n",
    "\n",
    "This strategy emulates an human (that can make errors), and consists in using the nim sum strategy with a 70% probability (by default) or the random strategy otherwise."
   ]
  },
  {
   "cell_type": "code",
   "execution_count": 9,
   "metadata": {},
   "outputs": [],
   "source": [
    "def not_so_smart_strategy(nim: Nim, smartness=0.7, nimming=True):\n",
    "    if random.random() < smartness:\n",
    "        return nim_sum_strategy(nim, nimming=nimming)\n",
    "    else:\n",
    "        return random_strategy(nim, nimming=nimming)"
   ]
  },
  {
   "cell_type": "markdown",
   "metadata": {},
   "source": [
    "## The match\n",
    "\n",
    "The play_nim function takes four parameters:\n",
    "- `n` indicates the number of rows on the board.\n",
    "- `first_strategy` indicates the method used by the first agent to make a move.\n",
    "- `second_strategy` indicates the method used by the second agent to make a move.\n",
    "- `who_starts` indicates who makes the first move; it is an even number (tipically 0) to indicate the first agent and an odd number (tipically 1) to indicate the second agent."
   ]
  },
  {
   "cell_type": "code",
   "execution_count": 10,
   "metadata": {},
   "outputs": [],
   "source": [
    "def play_nim(n, first_strategy, second_strategy, who_starts):\n",
    "    nim = Nim(n)\n",
    "    #logging.info(f\"Initial setting: {nim._rows} - Nim sum: {nim_sum(nim)}\")\n",
    "    step = 1 - (who_starts % 2)\n",
    "    while nim:\n",
    "        step = 1 - step\n",
    "        if step == 0: # first agent's turn\n",
    "            first_strategy(nim)\n",
    "            #logging.info(f\"First agent's turn: {nim._rows} - Nim sum: {nim_sum(nim)}\")\n",
    "        else: # second agent's turn\n",
    "            second_strategy(nim)\n",
    "            #logging.info(f\"Second agent's turn: {nim._rows} - Nim sum: {nim_sum(nim)}\")\n",
    "    if step == 0:\n",
    "        logging.info(\"--- The first agent won! ---\\n\")\n",
    "    else:\n",
    "        logging.info(\"--- The second agent won! ---\\n\")\n"
   ]
  },
  {
   "cell_type": "markdown",
   "metadata": {},
   "source": [
    "### First version: second agent's random strategy"
   ]
  },
  {
   "cell_type": "code",
   "execution_count": 11,
   "metadata": {},
   "outputs": [
    {
     "name": "stderr",
     "output_type": "stream",
     "text": [
      "Game 1:\n",
      " N = 5\n",
      " Start: First Agent\n",
      " First agent: nim sum strategy\n",
      " Second agent: random strategy\n",
      "--- The first agent won! ---\n",
      "\n",
      "Game 2:\n",
      " N = 5\n",
      " Start: Second Agent\n",
      " First agent: nim sum strategy\n",
      " Second agent: random strategy\n",
      "--- The first agent won! ---\n",
      "\n"
     ]
    }
   ],
   "source": [
    "logging.info(\"Game 1:\\n N = 5\\n Start: First Agent\\n First agent: nim sum strategy\\n Second agent: random strategy\")\n",
    "play_nim(5, nim_sum_strategy, random_strategy, 0)\n",
    "\n",
    "logging.info(\"Game 2:\\n N = 5\\n Start: Second Agent\\n First agent: nim sum strategy\\n Second agent: random strategy\")\n",
    "play_nim(5, nim_sum_strategy, random_strategy, 1)"
   ]
  },
  {
   "cell_type": "markdown",
   "metadata": {},
   "source": [
    "### Second version: Everyone is using the nim sum strategy"
   ]
  },
  {
   "cell_type": "code",
   "execution_count": 12,
   "metadata": {},
   "outputs": [
    {
     "name": "stderr",
     "output_type": "stream",
     "text": [
      "Game 3:\n",
      " N = 5\n",
      " Start: First Agent\n",
      " First agent: nim sum strategy \n",
      " Second agent: nim sum strategy\n",
      "--- The first agent won! ---\n",
      "\n",
      "Game 4:\n",
      " N = 5\n",
      " Start: Second Agent\n",
      " First agent: nim sum strategy\n",
      " Second agent: nim sum strategy\n",
      "--- The second agent won! ---\n",
      "\n"
     ]
    }
   ],
   "source": [
    "logging.info(\"Game 3:\\n N = 5\\n Start: First Agent\\n First agent: nim sum strategy \\n Second agent: nim sum strategy\")\n",
    "play_nim(5, nim_sum_strategy, nim_sum_strategy, 0)\n",
    "\n",
    "logging.info(\"Game 4:\\n N = 5\\n Start: Second Agent\\n First agent: nim sum strategy\\n Second agent: nim sum strategy\")\n",
    "play_nim(5, nim_sum_strategy, nim_sum_strategy, 1)"
   ]
  },
  {
   "cell_type": "markdown",
   "metadata": {},
   "source": [
    "### Third version: The agent is using the not so smart strategy\n",
    "\n",
    "This strategy emulates an human (that can make errors), and consists in using the nim sum strategy with a 70% probability or the random strategy otherwise."
   ]
  },
  {
   "cell_type": "code",
   "execution_count": 13,
   "metadata": {},
   "outputs": [
    {
     "name": "stderr",
     "output_type": "stream",
     "text": [
      "Game 5:\n",
      " N = 5\n",
      " Start: First Agent\n",
      " First agent: nim sum strategy\n",
      " Second agent: not so smart strategy\n",
      "--- The first agent won! ---\n",
      "\n",
      "Game 6:\n",
      " N = 5\n",
      " Start: Second Agent\n",
      " First agent: nim sum strategy\n",
      " Second agent: not so smart strategy\n",
      "--- The first agent won! ---\n",
      "\n"
     ]
    }
   ],
   "source": [
    "logging.info(\"Game 5:\\n N = 5\\n Start: First Agent\\n First agent: nim sum strategy\\n Second agent: not so smart strategy\")\n",
    "play_nim(5, nim_sum_strategy, not_so_smart_strategy, 0)\n",
    "\n",
    "logging.info(\"Game 6:\\n N = 5\\n Start: Second Agent\\n First agent: nim sum strategy\\n Second agent: not so smart strategy\")\n",
    "play_nim(5, nim_sum_strategy, not_so_smart_strategy, 1)"
   ]
  },
  {
   "cell_type": "markdown",
   "metadata": {},
   "source": [
    "## An agent using evolved rules"
   ]
  },
  {
   "cell_type": "markdown",
   "metadata": {},
   "source": [
    "### The cook status\n",
    "\n",
    "It is a dictionary containing some current data, like the list of possible moves and the number of active rows; it also contains the possible strategies like:\n",
    "- random\n",
    "- nim sum\n",
    "- not so smart\n",
    "- shortest row\n",
    "- longest row\n",
    "- first row\n",
    "- last row\n",
    "- middle row"
   ]
  },
  {
   "cell_type": "code",
   "execution_count": 92,
   "metadata": {},
   "outputs": [],
   "source": [
    "def items_to_remove(num_law, num):\n",
    "    assert num > 0\n",
    "    if num_law == 0: # all the item\n",
    "        return num\n",
    "    elif num_law == 1: # one item\n",
    "        return 1\n",
    "    elif num_law == 2: # half of the items\n",
    "        return int((num+1)/2)\n",
    "    elif num_law == 3: # one/third of the items\n",
    "        return int((num+2)/3)\n",
    "    else: # two/third of the items\n",
    "        return int((num+2)/3) + 1\n",
    "\n",
    "def shortest_row_strategy(nim: Nim, num_law=0, nimming=True):\n",
    "    move = min((x for x in enumerate(nim.rows) if x[1] > 0), key=lambda y: y[1])\n",
    "    move = Nimply(move[0], items_to_remove(num_law, move[1]))\n",
    "    if nimming:\n",
    "        nim.nimming(move)\n",
    "    return move\n",
    "\n",
    "\n",
    "def longest_row_strategy(nim: Nim, num_law=0, nimming=True):\n",
    "    move = max((x for x in enumerate(nim.rows)), key=lambda y: y[1])\n",
    "    move = Nimply(move[0], items_to_remove(num_law, move[1]))\n",
    "    if nimming:\n",
    "        nim.nimming(move)\n",
    "    return move\n",
    "\n",
    "\n",
    "def first_row_strategy(nim: Nim, num_law=0, nimming=True):\n",
    "    move = min((x for x in enumerate(nim.rows) if x[1] > 0), key=lambda y: y[0])\n",
    "    move = Nimply(move[0], items_to_remove(num_law, move[1]))\n",
    "    if nimming:\n",
    "        nim.nimming(move)\n",
    "    return move\n",
    "\n",
    "def last_row_strategy(nim: Nim, num_law=0, nimming=True):\n",
    "    move = max((x for x in enumerate(nim.rows) if x[1] > 0), key=lambda y: y[0])\n",
    "    move = Nimply(move[0], items_to_remove(num_law, move[1]))\n",
    "    if nimming:\n",
    "        nim.nimming(move)\n",
    "    return move\n",
    "\n",
    "\n",
    "def middle_row_strategy(nim: Nim, num_law=0, nimming=True):\n",
    "    _list = list(x for x in enumerate(nim.rows) if x[1 > 0])\n",
    "    move = _list[int(len(_list) / 2)]\n",
    "    move = Nimply(move[0], items_to_remove(num_law, move[1]))\n",
    "    if nimming:\n",
    "        nim.nimming(move)\n",
    "    return move\n",
    "    "
   ]
  },
  {
   "cell_type": "code",
   "execution_count": 15,
   "metadata": {},
   "outputs": [],
   "source": [
    "def cook_status(nim: Nim) -> dict:\n",
    "    cooked = dict()\n",
    "    cooked[\"possible_moves\"] = possible_moves(nim)\n",
    "    cooked[\"active_rows_number\"] = sum(o > 0 for o in nim.rows)\n",
    "\n",
    "    cooked[\"nim_sum\"] = nim_sum_strategy(nim, nimming=False)\n",
    "    cooked[\"random\"] = random_strategy(nim, nimming=False)\n",
    "    cooked[\"not_so_smart\"] = not_so_smart_strategy(nim, nimming=False)\n",
    "    cooked[\"shortest_row\"] = shortest_row_strategy(nim, nimming=False)\n",
    "    cooked[\"longest_row\"] = longest_row_strategy(nim, nimming=False)\n",
    "    cooked[\"first_row\"] = first_row_strategy(nim, nimming=False)\n",
    "    cooked[\"last_row\"] = last_row_strategy(nim, nimming=False)\n",
    "    cooked[\"middle_row\"] = middle_row_strategy(nim, nimming=False)\n",
    "\n",
    "    return cooked"
   ]
  },
  {
   "cell_type": "code",
   "execution_count": 95,
   "metadata": {},
   "outputs": [
    {
     "name": "stdout",
     "output_type": "stream",
     "text": [
      "<1 3 5 7 9>\n",
      "<0 3 5 7 0>\n"
     ]
    },
    {
     "data": {
      "text/plain": [
       "(2, 5)"
      ]
     },
     "execution_count": 95,
     "metadata": {},
     "output_type": "execute_result"
    }
   ],
   "source": [
    "x = Nim(5)\n",
    "print(x)\n",
    "x.nimming((0, 1))\n",
    "x.nimming((4, 9))\n",
    "print(x)\n",
    "a = cook_status(x)\n",
    "middle_row_strategy(x)\n"
   ]
  }
 ],
 "metadata": {
  "kernelspec": {
   "display_name": "Python 3.10.8 64-bit (microsoft store)",
   "language": "python",
   "name": "python3"
  },
  "language_info": {
   "codemirror_mode": {
    "name": "ipython",
    "version": 3
   },
   "file_extension": ".py",
   "mimetype": "text/x-python",
   "name": "python",
   "nbconvert_exporter": "python",
   "pygments_lexer": "ipython3",
   "version": "3.10.8"
  },
  "orig_nbformat": 4,
  "vscode": {
   "interpreter": {
    "hash": "9aff9e50adfaa9e30c910fb3872ffdc72747acb5f50803ca0504f00e980f7c25"
   }
  }
 },
 "nbformat": 4,
 "nbformat_minor": 2
}
