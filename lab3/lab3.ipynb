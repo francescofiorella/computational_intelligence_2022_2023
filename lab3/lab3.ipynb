{
 "cells": [
  {
   "cell_type": "markdown",
   "metadata": {},
   "source": [
    "# Lab 3: Policy Search\n",
    "\n",
    "Write agents able to play Nim, with an arbitrary number of rows and an upper bound on the number of objects that can be removed in a turn (a.k.a., subtraction game).\n",
    "\n",
    "- Task3.1: An agent using fixed rules based on nim-sum (i.e., an expert system)\n",
    "- Task3.2: An agent using evolved rules\n",
    "- Task3.3: An agent using minmax\n",
    "- Task3.4: An agent using reinforcement learning"
   ]
  },
  {
   "cell_type": "code",
   "execution_count": 1,
   "metadata": {},
   "outputs": [],
   "source": [
    "import logging\n",
    "import random\n",
    "from copy import deepcopy"
   ]
  },
  {
   "cell_type": "code",
   "execution_count": 2,
   "metadata": {},
   "outputs": [],
   "source": [
    "logging.basicConfig(format=\"%(message)s\", level=logging.INFO)"
   ]
  },
  {
   "cell_type": "code",
   "execution_count": 3,
   "metadata": {},
   "outputs": [],
   "source": [
    "class Nim:\n",
    "    def __init__(self, num_rows: int, k: int = None) -> None:\n",
    "        self._rows = [i*2 + 1 for i in range(num_rows)]\n",
    "        self._k = k\n",
    "\n",
    "    def nimming(self, row: int, num_objects: int) -> None:\n",
    "        assert self._rows[row] >= num_objects\n",
    "        assert self._k is None or num_objects <= self._k\n",
    "        self._rows[row] -= num_objects\n",
    "        #if sum(self._rows) == 0:\n",
    "            #logging.info(\"Yeuch\")"
   ]
  },
  {
   "cell_type": "code",
   "execution_count": 4,
   "metadata": {},
   "outputs": [],
   "source": [
    "def has_lost(nim: Nim):\n",
    "    return sum(nim._rows) == 0"
   ]
  },
  {
   "cell_type": "markdown",
   "metadata": {},
   "source": [
    "### The hardcoded opponent\n",
    "\n",
    "The hardcoded opponent removes a random number of sticks from a random row, if the row has one or more sticks."
   ]
  },
  {
   "cell_type": "code",
   "execution_count": 5,
   "metadata": {},
   "outputs": [],
   "source": [
    "def random_move(nim: Nim):\n",
    "    rows = list(filter(lambda r: r > 0, nim._rows))\n",
    "    if len(rows) > 0:\n",
    "        index = nim._rows.index(rows[random.randint(0, len(rows)-1)])\n",
    "        num = random.randint(1, nim._rows[index])\n",
    "        nim.nimming(index, num)\n",
    "        return (index, num)\n",
    "    else:\n",
    "        logging.info(\"No more moves allowed!\")"
   ]
  },
  {
   "cell_type": "markdown",
   "metadata": {},
   "source": [
    "### The nim sum\n",
    "\n",
    "The following description was taken from [here](https://dmf.unicatt.it/~paolini/divulgazione/mateappl/nim/nim.html).\n",
    "\n",
    "In a game of nim that involves nim heaps where you can take as many objects as you want from any one of the heaps during your turn, you need to be able to compute a nim sum, that characterizes the configuration of the game.\n",
    "\n",
    "Here's how to do it:\n",
    "\n",
    "- Express the number of objects in each nim heap as a binary number, with the only digits being 0 and 1.\n",
    "- Fill out the smaller binary numbers with '0's on the left, if necessary, so that all the numbers have the same number of digits.\n",
    "- Sum the binary numbers, but do not carry.\n",
    "- Replace each digit in the sum with the remainder that results when the digit is divided by 2.\n",
    "- This yields the nim sum.\n",
    "- To win at nim, always make a move, when possible, that leaves a configuration with a nim sum of 0. If you cannot do this, your opponent has the advantage, and you have to depend on his or her committing an error in order to win.\n",
    "    - Note that if the configuration you are given has a nim sum not equal to 0, there always is a move that creates a new configuration with a nim sum of 0. However, there are usually also moves that will yield configurations that give nim sums not equal to 0, and you need to avoid making these.\n",
    "    - Also note that if you are given a configuration that has a nim sum of 0, there is no move that will create a configuration that also has a nim sum of 0."
   ]
  },
  {
   "cell_type": "code",
   "execution_count": 6,
   "metadata": {},
   "outputs": [],
   "source": [
    "# Accessory functions\n",
    "def to_binary_list(num: int, n):\n",
    "    _list = []\n",
    "    new_num = num\n",
    "    for _ in range(0, n):\n",
    "        _list.append(new_num % 2)\n",
    "        new_num = int(new_num / 2)\n",
    "    return _list\n",
    "\n",
    "def sum_lists(lists):\n",
    "    new_list = list(0 for _ in range(0, len(lists[0])))\n",
    "    for _list in lists:\n",
    "        for i in range(0, len(_list)):\n",
    "            new_list[i] += _list[i]\n",
    "    return new_list\n",
    "\n",
    "def has_an_odd_element(_list):\n",
    "    for item in _list:\n",
    "        if item % 2 != 0:\n",
    "            return True\n",
    "    return False\n"
   ]
  },
  {
   "cell_type": "code",
   "execution_count": 7,
   "metadata": {},
   "outputs": [],
   "source": [
    "def nim_sum(nim: Nim):\n",
    "    binary_lists = []\n",
    "    num_digit = 1\n",
    "    while (2**num_digit < len(nim._rows)*2):\n",
    "        num_digit += 1\n",
    "    for item in nim._rows:\n",
    "        binary_lists.append(to_binary_list(item, num_digit))\n",
    "    if has_an_odd_element(sum_lists(binary_lists)):\n",
    "        return 1\n",
    "    return 0"
   ]
  },
  {
   "cell_type": "markdown",
   "metadata": {},
   "source": [
    "#### The nim sum strategy\n",
    "\n",
    "Calculate the nim_sum of the current board:\n",
    "- if it is not zero, evaluate some random moves until a zero nim_sum is found\n",
    "- if it is zero, perform a random move"
   ]
  },
  {
   "cell_type": "code",
   "execution_count": 8,
   "metadata": {},
   "outputs": [],
   "source": [
    "def nim_sum_move(nim: Nim):\n",
    "    if nim_sum(nim) != 0:\n",
    "        found = False\n",
    "        while(not found):\n",
    "            temp_nim = deepcopy(nim)\n",
    "            moves = random_move(temp_nim)\n",
    "            if nim_sum(temp_nim) == 0:\n",
    "                nim.nimming(moves[0], moves[1])\n",
    "                found = True\n",
    "        return\n",
    "    random_move(nim)"
   ]
  },
  {
   "cell_type": "markdown",
   "metadata": {},
   "source": [
    "## The game\n",
    "\n",
    "The play_nim function takes three parameters:\n",
    "- `n` indicates the number of rows on the board\n",
    "- `opponent_strategy` indicates the method used by the opponent to make a move\n",
    "- `who_starts` indicates who makes the first move; it is an odd number (tipically 1) to indicate the user and an even number (tipically 0) to indicate the opponent"
   ]
  },
  {
   "cell_type": "code",
   "execution_count": 9,
   "metadata": {},
   "outputs": [],
   "source": [
    "def play_nim(n, opponent_strategy, who_starts):\n",
    "    nim = Nim(n)\n",
    "    logging.info(f\"Initial setting: {nim._rows}\")\n",
    "    step = who_starts\n",
    "    while not has_lost(nim):\n",
    "        step += 1\n",
    "        if step % 2 == 0: # user's turn\n",
    "            nim_sum_move(nim)\n",
    "            #logging.info(f\"User's turn: {nim._rows} - Nim sum: {nim_sum(nim)}\")\n",
    "        else: # opponent's turn\n",
    "            opponent_strategy(nim)\n",
    "            #logging.info(f\"Opponent's turn: {nim._rows} - Nim sum: {nim_sum(nim)}\")\n",
    "    if step % 2 == 0:\n",
    "        logging.info(\"The user won!\")\n",
    "    else:\n",
    "        logging.info(\"The opponent won!\")\n"
   ]
  },
  {
   "cell_type": "markdown",
   "metadata": {},
   "source": [
    "### First version: opponent's random strategy"
   ]
  },
  {
   "cell_type": "code",
   "execution_count": 10,
   "metadata": {},
   "outputs": [
    {
     "name": "stderr",
     "output_type": "stream",
     "text": [
      "Game 1: N = 5\n",
      "I start, the opponent uses the random strategy\n",
      "Initial setting: [1, 3, 5, 7, 9]\n",
      "The user won!\n",
      "Game 2: N = 5\n",
      "The opponent starts and uses the random strategy\n",
      "Initial setting: [1, 3, 5, 7, 9]\n",
      "The user won!\n"
     ]
    }
   ],
   "source": [
    "logging.info(\"Game 1: N = 5\")\n",
    "logging.info(\"I start, the opponent uses the random strategy\")\n",
    "play_nim(5, random_move, 1)\n",
    "\n",
    "logging.info(\"Game 2: N = 5\")\n",
    "logging.info(\"The opponent starts and uses the random strategy\")\n",
    "play_nim(5, random_move, 0)"
   ]
  },
  {
   "cell_type": "markdown",
   "metadata": {},
   "source": [
    "### Second version: Everyone is using the nim sum strategy"
   ]
  },
  {
   "cell_type": "code",
   "execution_count": 11,
   "metadata": {},
   "outputs": [
    {
     "name": "stderr",
     "output_type": "stream",
     "text": [
      "Game 3: N = 5\n",
      "I start, the opponent uses the nim sum strategy\n",
      "Initial setting: [1, 3, 5, 7, 9]\n",
      "The user won!\n",
      "Game 4: N = 5\n",
      "The opponent starts and uses the nim sum strategy\n",
      "Initial setting: [1, 3, 5, 7, 9]\n",
      "The opponent won!\n"
     ]
    }
   ],
   "source": [
    "logging.info(\"Game 3: N = 5\")\n",
    "logging.info(\"I start, the opponent uses the nim sum strategy\")\n",
    "play_nim(5, nim_sum_move, 1)\n",
    "\n",
    "logging.info(\"Game 4: N = 5\")\n",
    "logging.info(\"The opponent starts and uses the nim sum strategy\")\n",
    "play_nim(5, nim_sum_move, 0)"
   ]
  },
  {
   "cell_type": "markdown",
   "metadata": {},
   "source": [
    "### Third version: The opponent is using the nim sum strategy with a 70% probability"
   ]
  },
  {
   "cell_type": "code",
   "execution_count": 12,
   "metadata": {},
   "outputs": [
    {
     "name": "stderr",
     "output_type": "stream",
     "text": [
      "Game 5: N = 5\n",
      "I start, the opponent uses the nim sum strategy\n",
      "Initial setting: [1, 3, 5, 7, 9]\n",
      "The user won!\n",
      "Game 6: N = 5\n",
      "The opponent starts and uses the nim sum strategy\n",
      "Initial setting: [1, 3, 5, 7, 9]\n",
      "The user won!\n"
     ]
    }
   ],
   "source": [
    "def not_so_smart_opponent(nim: Nim):\n",
    "    if random.random() < 0.7:\n",
    "        nim_sum_move(nim)\n",
    "    else:\n",
    "        random_move(nim)\n",
    "\n",
    "logging.info(\"Game 5: N = 5\")\n",
    "logging.info(\"I start, the opponent uses the nim sum strategy\")\n",
    "play_nim(5, not_so_smart_opponent, 1)\n",
    "\n",
    "logging.info(\"Game 6: N = 5\")\n",
    "logging.info(\"The opponent starts and uses the nim sum strategy\")\n",
    "play_nim(5, not_so_smart_opponent, 0)"
   ]
  }
 ],
 "metadata": {
  "kernelspec": {
   "display_name": "Python 3.10.8 64-bit (microsoft store)",
   "language": "python",
   "name": "python3"
  },
  "language_info": {
   "codemirror_mode": {
    "name": "ipython",
    "version": 3
   },
   "file_extension": ".py",
   "mimetype": "text/x-python",
   "name": "python",
   "nbconvert_exporter": "python",
   "pygments_lexer": "ipython3",
   "version": "3.10.8"
  },
  "orig_nbformat": 4,
  "vscode": {
   "interpreter": {
    "hash": "9aff9e50adfaa9e30c910fb3872ffdc72747acb5f50803ca0504f00e980f7c25"
   }
  }
 },
 "nbformat": 4,
 "nbformat_minor": 2
}
