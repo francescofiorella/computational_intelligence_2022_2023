{
 "cells": [
  {
   "cell_type": "markdown",
   "metadata": {},
   "source": [
    "# Lab 3: Policy Search\n",
    "\n",
    "Write agents able to play Nim, with an arbitrary number of rows and an upper bound on the number of objects that can be removed in a turn (a.k.a., subtraction game).\n",
    "\n",
    "- Task3.1: An agent using fixed rules based on nim-sum (i.e., an expert system)\n",
    "- Task3.2: An agent using evolved rules\n",
    "- Task3.3: An agent using minmax\n",
    "- Task3.4: An agent using reinforcement learning"
   ]
  },
  {
   "cell_type": "code",
   "execution_count": 13,
   "metadata": {},
   "outputs": [],
   "source": [
    "import logging\n",
    "from collections import namedtuple\n",
    "import random\n",
    "from copy import deepcopy\n",
    "from itertools import accumulate\n",
    "from operator import xor"
   ]
  },
  {
   "cell_type": "code",
   "execution_count": 14,
   "metadata": {},
   "outputs": [],
   "source": [
    "logging.basicConfig(format=\"%(message)s\", level=logging.INFO)"
   ]
  },
  {
   "cell_type": "markdown",
   "metadata": {},
   "source": [
    "### The Nim and Nimply classes"
   ]
  },
  {
   "cell_type": "code",
   "execution_count": 15,
   "metadata": {},
   "outputs": [],
   "source": [
    "Nimply = namedtuple(\"Nimply\", \"row, num_objects\")"
   ]
  },
  {
   "cell_type": "code",
   "execution_count": 16,
   "metadata": {},
   "outputs": [],
   "source": [
    "class Nim:\n",
    "    def __init__(self, num_rows: int, k: int = None) -> None:\n",
    "        self._rows = [i * 2 + 1 for i in range(num_rows)]\n",
    "        self._k = k\n",
    "\n",
    "    def __bool__(self):\n",
    "        return sum(self._rows) > 0\n",
    "\n",
    "    def __str__(self):\n",
    "        return \"<\" + \" \".join(str(_) for _ in self._rows) + \">\"\n",
    "\n",
    "    @property\n",
    "    def rows(self) -> tuple:\n",
    "        return tuple(self._rows)\n",
    "\n",
    "    @property\n",
    "    def k(self) -> int:\n",
    "        return self._k\n",
    "\n",
    "    def nimming(self, ply: Nimply) -> None:\n",
    "        row, num_objects = ply\n",
    "        assert self._rows[row] >= num_objects\n",
    "        assert self._k is None or num_objects <= self._k\n",
    "        self._rows[row] -= num_objects"
   ]
  },
  {
   "cell_type": "code",
   "execution_count": 17,
   "metadata": {},
   "outputs": [],
   "source": [
    "def possible_moves(nim: Nim):\n",
    "    return [Nimply(r, o) for r, c in enumerate(nim.rows) for o in range(1, c + 1) if nim.k is None or o <= nim.k]"
   ]
  },
  {
   "cell_type": "markdown",
   "metadata": {},
   "source": [
    "### The hardcoded opponent\n",
    "\n",
    "The hardcoded opponent removes a random number of sticks from a random row, if the row has one or more sticks."
   ]
  },
  {
   "cell_type": "code",
   "execution_count": 18,
   "metadata": {},
   "outputs": [],
   "source": [
    "def random_strategy(nim: Nim):\n",
    "    moves_list = possible_moves(nim)\n",
    "\n",
    "    if len(moves_list) > 0:\n",
    "        move = random.choice(moves_list)\n",
    "        nim.nimming(move)\n",
    "        return move\n",
    "    else:\n",
    "        logging.info(\"No more moves allowed!\")"
   ]
  },
  {
   "cell_type": "markdown",
   "metadata": {},
   "source": [
    "### The nim sum\n",
    "\n",
    "The following description was taken from [here](https://dmf.unicatt.it/~paolini/divulgazione/mateappl/nim/nim.html).\n",
    "\n",
    "In a game of nim that involves nim heaps where you can take as many objects as you want from any one of the heaps during your turn, you need to be able to compute a nim sum, that characterizes the configuration of the game.\n",
    "\n",
    "Here's how to do it:\n",
    "\n",
    "- Express the number of objects in each nim heap as a binary number, with the only digits being 0 and 1.\n",
    "- Fill out the smaller binary numbers with '0's on the left, if necessary, so that all the numbers have the same number of digits.\n",
    "- Sum the binary numbers, but do not carry.\n",
    "- Replace each digit in the sum with the remainder that results when the digit is divided by 2.\n",
    "- This yields the nim sum.\n",
    "- To win at nim, always make a move, when possible, that leaves a configuration with a nim sum of 0. If you cannot do this, your opponent has the advantage, and you have to depend on his or her committing an error in order to win.\n",
    "    - Note that if the configuration you are given has a nim sum not equal to 0, there always is a move that creates a new configuration with a nim sum of 0. However, there are usually also moves that will yield configurations that give nim sums not equal to 0, and you need to avoid making these.\n",
    "    - Also note that if you are given a configuration that has a nim sum of 0, there is no move that will create a configuration that also has a nim sum of 0.\n",
    "\n",
    "In this implementation, the nim sum is calculated as the bitwise xor of the rows."
   ]
  },
  {
   "cell_type": "code",
   "execution_count": 19,
   "metadata": {},
   "outputs": [],
   "source": [
    "def nim_sum(state: Nim) -> int:\n",
    "    *_, result = accumulate(state.rows, xor)\n",
    "    return result"
   ]
  },
  {
   "cell_type": "markdown",
   "metadata": {},
   "source": [
    "#### The nim sum strategy\n",
    "\n",
    "Calculate the nim_sum of the current board:\n",
    "- if it is not zero, evaluate some random moves until a zero nim_sum is found\n",
    "- if it is zero, perform a random move"
   ]
  },
  {
   "cell_type": "code",
   "execution_count": 20,
   "metadata": {},
   "outputs": [],
   "source": [
    "def nim_sum_strategy(nim: Nim):\n",
    "    if nim_sum(nim) != 0:\n",
    "        moves_list = possible_moves(nim)\n",
    "        for move in moves_list:\n",
    "            temp_nim = deepcopy(nim)\n",
    "            temp_nim.nimming(move)\n",
    "            if nim_sum(temp_nim) == 0:\n",
    "                nim.nimming(move)\n",
    "                return\n",
    "    random_strategy(nim)"
   ]
  },
  {
   "cell_type": "markdown",
   "metadata": {},
   "source": [
    "## The game\n",
    "\n",
    "The play_nim function takes four parameters:\n",
    "- `n` indicates the number of rows on the board.\n",
    "- `first_strategy` indicates the method used by the first agent to make a move.\n",
    "- `second_strategy` indicates the method used by the second agent to make a move.\n",
    "- `who_starts` indicates who makes the first move; it is an even number (tipically 0) to indicate the first agent and an odd number (tipically 1) to indicate the second agent."
   ]
  },
  {
   "cell_type": "code",
   "execution_count": 21,
   "metadata": {},
   "outputs": [],
   "source": [
    "def play_nim(n, first_strategy, second_strategy, who_starts):\n",
    "    nim = Nim(n)\n",
    "    #logging.info(f\"Initial setting: {nim._rows} - Nim sum: {nim_sum(nim)}\")\n",
    "    step = 1 - (who_starts % 2)\n",
    "    while nim:\n",
    "        step = 1 - step\n",
    "        if step == 0: # first agent's turn\n",
    "            first_strategy(nim)\n",
    "            #logging.info(f\"First agent's turn: {nim._rows} - Nim sum: {nim_sum(nim)}\")\n",
    "        else: # second agent's turn\n",
    "            second_strategy(nim)\n",
    "            #logging.info(f\"Second agent's turn: {nim._rows} - Nim sum: {nim_sum(nim)}\")\n",
    "    if step == 0:\n",
    "        logging.info(\"--- The first agent won! ---\\n\")\n",
    "    else:\n",
    "        logging.info(\"--- The second agent won! ---\\n\")\n"
   ]
  },
  {
   "cell_type": "markdown",
   "metadata": {},
   "source": [
    "### First version: second agent's random strategy"
   ]
  },
  {
   "cell_type": "code",
   "execution_count": 22,
   "metadata": {},
   "outputs": [
    {
     "name": "stderr",
     "output_type": "stream",
     "text": [
      "Game 1:\n",
      " N = 5\n",
      " Start: First Agent\n",
      " First agent: nim sum strategy\n",
      " Second agent: random strategy\n",
      "--- The first agent won! ---\n",
      "\n",
      "Game 2:\n",
      " N = 5\n",
      " Start: Second Agent\n",
      " First agent: nim sum strategy\n",
      " Second agent: random strategy\n",
      "--- The first agent won! ---\n",
      "\n"
     ]
    }
   ],
   "source": [
    "logging.info(\"Game 1:\\n N = 5\\n Start: First Agent\\n First agent: nim sum strategy\\n Second agent: random strategy\")\n",
    "play_nim(5, nim_sum_strategy, random_strategy, 0)\n",
    "\n",
    "logging.info(\"Game 2:\\n N = 5\\n Start: Second Agent\\n First agent: nim sum strategy\\n Second agent: random strategy\")\n",
    "play_nim(5, nim_sum_strategy, random_strategy, 1)"
   ]
  },
  {
   "cell_type": "markdown",
   "metadata": {},
   "source": [
    "### Second version: Everyone is using the nim sum strategy"
   ]
  },
  {
   "cell_type": "code",
   "execution_count": 23,
   "metadata": {},
   "outputs": [
    {
     "name": "stderr",
     "output_type": "stream",
     "text": [
      "Game 3:\n",
      " N = 5\n",
      " Start: First Agent\n",
      " First agent: nim sum strategy \n",
      " Second agent: nim sum strategy\n",
      "--- The first agent won! ---\n",
      "\n",
      "Game 4:\n",
      " N = 5\n",
      " Start: Second Agent\n",
      " First agent: nim sum strategy\n",
      " Second agent: nim sum strategy\n",
      "--- The second agent won! ---\n",
      "\n"
     ]
    }
   ],
   "source": [
    "logging.info(\"Game 3:\\n N = 5\\n Start: First Agent\\n First agent: nim sum strategy \\n Second agent: nim sum strategy\")\n",
    "play_nim(5, nim_sum_strategy, nim_sum_strategy, 0)\n",
    "\n",
    "logging.info(\"Game 4:\\n N = 5\\n Start: Second Agent\\n First agent: nim sum strategy\\n Second agent: nim sum strategy\")\n",
    "play_nim(5, nim_sum_strategy, nim_sum_strategy, 1)"
   ]
  },
  {
   "cell_type": "markdown",
   "metadata": {},
   "source": [
    "### Third version: The second agent is using the nim sum strategy with a 70% probability\n",
    "\n",
    "This strategy emulates an human (that can make errors)."
   ]
  },
  {
   "cell_type": "code",
   "execution_count": 24,
   "metadata": {},
   "outputs": [
    {
     "name": "stderr",
     "output_type": "stream",
     "text": [
      "Game 5:\n",
      " N = 5\n",
      " Start: First Agent\n",
      " First agent: nim sum strategy\n",
      " Second agent: not so smart strategy\n",
      "--- The first agent won! ---\n",
      "\n",
      "Game 6:\n",
      " N = 5\n",
      " Start: Second Agent\n",
      " First agent: nim sum strategy\n",
      " Second agent: not so smart strategy\n",
      "--- The first agent won! ---\n",
      "\n"
     ]
    }
   ],
   "source": [
    "def not_so_smart_strategy(nim: Nim):\n",
    "    if random.random() < 0.7:\n",
    "        nim_sum_strategy(nim)\n",
    "    else:\n",
    "        random_strategy(nim)\n",
    "\n",
    "logging.info(\"Game 5:\\n N = 5\\n Start: First Agent\\n First agent: nim sum strategy\\n Second agent: not so smart strategy\")\n",
    "play_nim(5, nim_sum_strategy, not_so_smart_strategy, 0)\n",
    "\n",
    "logging.info(\"Game 6:\\n N = 5\\n Start: Second Agent\\n First agent: nim sum strategy\\n Second agent: not so smart strategy\")\n",
    "play_nim(5, nim_sum_strategy, not_so_smart_strategy, 1)"
   ]
  },
  {
   "cell_type": "markdown",
   "metadata": {},
   "source": []
  }
 ],
 "metadata": {
  "kernelspec": {
   "display_name": "Python 3.10.8 64-bit (microsoft store)",
   "language": "python",
   "name": "python3"
  },
  "language_info": {
   "codemirror_mode": {
    "name": "ipython",
    "version": 3
   },
   "file_extension": ".py",
   "mimetype": "text/x-python",
   "name": "python",
   "nbconvert_exporter": "python",
   "pygments_lexer": "ipython3",
   "version": "3.10.8"
  },
  "orig_nbformat": 4,
  "vscode": {
   "interpreter": {
    "hash": "9aff9e50adfaa9e30c910fb3872ffdc72747acb5f50803ca0504f00e980f7c25"
   }
  }
 },
 "nbformat": 4,
 "nbformat_minor": 2
}
