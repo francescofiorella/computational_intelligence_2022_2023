{
 "cells": [
  {
   "cell_type": "markdown",
   "metadata": {},
   "source": [
    "# Lab 3: Policy Search\n",
    "\n",
    "Write agents able to play Nim, with an arbitrary number of rows and an upper bound on the number of objects that can be removed in a turn (a.k.a., subtraction game).\n",
    "\n",
    "- Task 3.1: An agent using fixed rules based on nim-sum (i.e., an expert system)\n",
    "- Task 3.2: An agent using evolved rules\n",
    "- Task 3.3: An agent using minmax\n",
    "- Task 3.4: An agent using reinforcement learning"
   ]
  },
  {
   "cell_type": "code",
   "execution_count": 1,
   "metadata": {},
   "outputs": [],
   "source": [
    "import logging\n",
    "from collections import namedtuple\n",
    "import random\n",
    "from copy import deepcopy\n",
    "from itertools import accumulate\n",
    "from operator import xor\n",
    "import math\n",
    "import matplotlib.pyplot as plt\n",
    "import numpy as np"
   ]
  },
  {
   "cell_type": "code",
   "execution_count": 2,
   "metadata": {},
   "outputs": [],
   "source": [
    "logging.basicConfig(format=\"%(message)s\", level=logging.INFO)"
   ]
  },
  {
   "cell_type": "markdown",
   "metadata": {},
   "source": [
    "### The Nim and Nimply classes"
   ]
  },
  {
   "cell_type": "code",
   "execution_count": 3,
   "metadata": {},
   "outputs": [],
   "source": [
    "Nimply = namedtuple(\"Nimply\", \"row, num_objects\")"
   ]
  },
  {
   "cell_type": "code",
   "execution_count": 4,
   "metadata": {},
   "outputs": [],
   "source": [
    "class Nim:\n",
    "    def __init__(self, num_rows: int, k: int = None) -> None:\n",
    "        self._rows = [i * 2 + 1 for i in range(num_rows)]\n",
    "        self._k = k\n",
    "        self._turn = 0\n",
    "        # 0 indicates that player 1 should move\n",
    "        # 1 indicates that player 2 should move\n",
    "\n",
    "    def __bool__(self):\n",
    "        return sum(self._rows) > 0\n",
    "\n",
    "    def __str__(self):\n",
    "        return \"<\" + \" \".join(str(_) for _ in self._rows) + \">\"\n",
    "\n",
    "    @property\n",
    "    def rows(self) -> tuple:\n",
    "        return tuple(self._rows)\n",
    "\n",
    "    @property\n",
    "    def k(self) -> int:\n",
    "        return self._k\n",
    "\n",
    "    @property\n",
    "    def turn(self) -> int:\n",
    "        return self._turn\n",
    "\n",
    "    def nimming(self, ply: Nimply) -> None:\n",
    "        row, num_objects = ply\n",
    "        assert self._rows[row] >= num_objects\n",
    "        assert self._k is None or num_objects <= self._k\n",
    "        self._rows[row] -= num_objects\n",
    "        self._turn = 1 - self._turn"
   ]
  },
  {
   "cell_type": "code",
   "execution_count": 5,
   "metadata": {},
   "outputs": [],
   "source": [
    "def possible_moves(nim: Nim):\n",
    "    return [Nimply(r, o) for r, c in enumerate(nim.rows) for o in range(1, c + 1) if nim.k is None or o <= nim.k]"
   ]
  },
  {
   "cell_type": "markdown",
   "metadata": {},
   "source": [
    "## An agent using fixed rules"
   ]
  },
  {
   "cell_type": "markdown",
   "metadata": {},
   "source": [
    "### The random strategy\n",
    "\n",
    "The hardcoded agent can use a set of fixed strategies: the first one consists in removing a random number of sticks from a random row, if the row has one or more sticks."
   ]
  },
  {
   "cell_type": "code",
   "execution_count": 6,
   "metadata": {},
   "outputs": [],
   "source": [
    "def random_strategy(nim: Nim, num_law=None, nimming=True):\n",
    "    moves_list = possible_moves(nim)\n",
    "    if len(moves_list) > 0:\n",
    "        move = random.choice(moves_list)\n",
    "        if nimming: nim.nimming(move)\n",
    "        return move\n",
    "    logging.info(\"No more moves allowed!\")"
   ]
  },
  {
   "attachments": {},
   "cell_type": "markdown",
   "metadata": {},
   "source": [
    "### The nim sum\n",
    "\n",
    "The following description was taken from [here](https://dmf.unicatt.it/~paolini/divulgazione/mateappl/nim/nim.html).\n",
    "\n",
    "In a game of nim that involves nim heaps where you can take as many objects as you want from any one of the heaps during your turn, you need to be able to compute a nim sum, that characterizes the configuration of the game.\n",
    "\n",
    "Here's how to do it:\n",
    "\n",
    "- Express the number of objects in each nim heap as a binary number, with the only digits being 0 and 1.\n",
    "- Fill out the smaller binary numbers with '0's on the left, if necessary, so that all the numbers have the same number of digits.\n",
    "- Sum the binary numbers, but do not carry.\n",
    "- Replace each digit in the sum with the remainder that results when the digit is divided by 2.\n",
    "- This yields the nim sum.\n",
    "- To win at nim, always make a move, when possible, that leaves a configuration with a nim sum of 0. If you cannot do this, your opponent has the advantage, and you have to depend on his or her committing an error in order to win.\n",
    "    - Note that if the configuration you are given has a nim sum not equal to 0, there always is a move that creates a new configuration with a nim sum of 0. However, there are usually also moves that will yield configurations that give nim sums not equal to 0, and you need to avoid making these.\n",
    "    - Also note that if you are given a configuration that has a nim sum of 0, there is no move that will create a configuration that also has a nim sum of 0.\n",
    "\n",
    "> In this implementation, the nim sum is calculated as the bitwise xor of the rows."
   ]
  },
  {
   "cell_type": "code",
   "execution_count": 7,
   "metadata": {},
   "outputs": [],
   "source": [
    "def nim_sum(state: Nim) -> int:\n",
    "    *_, result = accumulate(state.rows, xor)\n",
    "    return result"
   ]
  },
  {
   "cell_type": "markdown",
   "metadata": {},
   "source": [
    "### The nim sum strategy\n",
    "\n",
    "The second strategy consists in calculating the nim sum of the current board:\n",
    "- if it is not zero, evaluate some random moves until a zero nim sum is found.\n",
    "- if it is zero, perform a random move."
   ]
  },
  {
   "cell_type": "code",
   "execution_count": 8,
   "metadata": {},
   "outputs": [],
   "source": [
    "def nim_sum_strategy(nim: Nim, num_law=None, nimming=True):\n",
    "    if nim_sum(nim) != 0:\n",
    "        moves_list = possible_moves(nim)\n",
    "        for move in moves_list:\n",
    "            temp_nim = deepcopy(nim)\n",
    "            temp_nim.nimming(move)\n",
    "            if nim_sum(temp_nim) == 0:\n",
    "                if nimming: nim.nimming(move)\n",
    "                return move\n",
    "    random_strategy(nim)"
   ]
  },
  {
   "cell_type": "markdown",
   "metadata": {},
   "source": [
    "### The not so smart strategy\n",
    "\n",
    "This strategy emulates an human (that can make errors), and consists in using the nim sum strategy with a 70% probability (by default) or the random strategy otherwise."
   ]
  },
  {
   "cell_type": "code",
   "execution_count": 9,
   "metadata": {},
   "outputs": [],
   "source": [
    "def not_so_smart_strategy(nim: Nim, num_law=None, smartness=0.7, nimming=True):\n",
    "    if random.random() < smartness:\n",
    "        return nim_sum_strategy(nim, nimming=nimming)\n",
    "    else:\n",
    "        return random_strategy(nim, nimming=nimming)"
   ]
  },
  {
   "attachments": {},
   "cell_type": "markdown",
   "metadata": {},
   "source": [
    "## The matches\n",
    "\n",
    "The `play_nim` function takes some parameters:\n",
    "- `n` indicates the number of rows on the board.\n",
    "- `first_strategy` indicates the method used by the first agent to make a move.\n",
    "- `second_strategy` indicates the method used by the second agent to make a move.\n",
    "- `who_starts` indicates who makes the first move; it is an even number (tipically 0) to indicate the first agent and an odd number (tipically 1) to indicate the second agent.\n",
    "- `first_num_law` and `second_num_law` are two special parameters that will be used for the evolved rules."
   ]
  },
  {
   "cell_type": "code",
   "execution_count": 10,
   "metadata": {},
   "outputs": [],
   "source": [
    "def play_nim(n, first_strategy, second_strategy, who_starts, first_num_law=0, second_num_law=0):\n",
    "    nim = Nim(n)\n",
    "    #logging.info(f\"Initial setting: {nim.rows} - Nim sum: {nim_sum(nim)}\")\n",
    "    nim._turn = who_starts % 2\n",
    "    while nim:\n",
    "        if nim.turn == 0: # first agent's turn\n",
    "            first_strategy(nim, num_law=first_num_law)\n",
    "            #logging.info(f\"First agent's turn: {nim.rows} - Nim sum: {nim_sum(nim)}\")\n",
    "        else: # second agent's turn\n",
    "            second_strategy(nim, num_law=second_num_law)\n",
    "            #logging.info(f\"Second agent's turn: {nim.rows} - Nim sum: {nim_sum(nim)}\")\n",
    "    return (1 - nim.turn)\n"
   ]
  },
  {
   "cell_type": "code",
   "execution_count": 11,
   "metadata": {},
   "outputs": [],
   "source": [
    "def single_game(n, first_strategy, second_strategy, who_starts, first_num_law=0, second_num_law=0):\n",
    "    winner = play_nim(n, first_strategy, second_strategy, who_starts, first_num_law, second_num_law)\n",
    "    if winner == 0:\n",
    "        logging.info(\"--- The first agent won! ---\\n\")\n",
    "    else:\n",
    "        logging.info(\"--- The second agent won! ---\\n\")"
   ]
  },
  {
   "cell_type": "markdown",
   "metadata": {},
   "source": [
    "### First version: second agent's random strategy"
   ]
  },
  {
   "cell_type": "code",
   "execution_count": 12,
   "metadata": {},
   "outputs": [],
   "source": [
    "NUM_ROWS = 5"
   ]
  },
  {
   "cell_type": "code",
   "execution_count": 13,
   "metadata": {},
   "outputs": [
    {
     "name": "stderr",
     "output_type": "stream",
     "text": [
      "Game 1:\n",
      " N = 5\n",
      " Start: First Agent\n",
      " First agent: nim sum strategy\n",
      " Second agent: random strategy\n",
      "--- The first agent won! ---\n",
      "\n",
      "Game 2:\n",
      " N = 5\n",
      " Start: Second Agent\n",
      " First agent: nim sum strategy\n",
      " Second agent: random strategy\n",
      "--- The first agent won! ---\n",
      "\n"
     ]
    }
   ],
   "source": [
    "logging.info(\"Game 1:\\n N = 5\\n Start: First Agent\\n First agent: nim sum strategy\\n Second agent: random strategy\")\n",
    "single_game(NUM_ROWS, nim_sum_strategy, random_strategy, 0)\n",
    "\n",
    "logging.info(\"Game 2:\\n N = 5\\n Start: Second Agent\\n First agent: nim sum strategy\\n Second agent: random strategy\")\n",
    "single_game(NUM_ROWS, nim_sum_strategy, random_strategy, 1)"
   ]
  },
  {
   "cell_type": "markdown",
   "metadata": {},
   "source": [
    "### Second version: Everyone is using the nim sum strategy"
   ]
  },
  {
   "cell_type": "code",
   "execution_count": 14,
   "metadata": {},
   "outputs": [
    {
     "name": "stderr",
     "output_type": "stream",
     "text": [
      "Game 3:\n",
      " N = 5\n",
      " Start: First Agent\n",
      " First agent: nim sum strategy \n",
      " Second agent: nim sum strategy\n",
      "--- The first agent won! ---\n",
      "\n",
      "Game 4:\n",
      " N = 5\n",
      " Start: Second Agent\n",
      " First agent: nim sum strategy\n",
      " Second agent: nim sum strategy\n",
      "--- The second agent won! ---\n",
      "\n"
     ]
    }
   ],
   "source": [
    "logging.info(\"Game 3:\\n N = 5\\n Start: First Agent\\n First agent: nim sum strategy \\n Second agent: nim sum strategy\")\n",
    "single_game(NUM_ROWS, nim_sum_strategy, nim_sum_strategy, 0)\n",
    "\n",
    "logging.info(\"Game 4:\\n N = 5\\n Start: Second Agent\\n First agent: nim sum strategy\\n Second agent: nim sum strategy\")\n",
    "single_game(NUM_ROWS, nim_sum_strategy, nim_sum_strategy, 1)"
   ]
  },
  {
   "cell_type": "markdown",
   "metadata": {},
   "source": [
    "### Third version: The agent is using the not so smart strategy\n",
    "\n",
    "This strategy emulates an human (that can make errors), and consists in using the nim sum strategy with a 70% probability or the random strategy otherwise."
   ]
  },
  {
   "cell_type": "code",
   "execution_count": 15,
   "metadata": {},
   "outputs": [
    {
     "name": "stderr",
     "output_type": "stream",
     "text": [
      "Game 5:\n",
      " N = 5\n",
      " Start: First Agent\n",
      " First agent: nim sum strategy\n",
      " Second agent: not so smart strategy\n",
      "--- The first agent won! ---\n",
      "\n",
      "Game 6:\n",
      " N = 5\n",
      " Start: Second Agent\n",
      " First agent: nim sum strategy\n",
      " Second agent: not so smart strategy\n",
      "--- The first agent won! ---\n",
      "\n"
     ]
    }
   ],
   "source": [
    "logging.info(\"Game 5:\\n N = 5\\n Start: First Agent\\n First agent: nim sum strategy\\n Second agent: not so smart strategy\")\n",
    "single_game(NUM_ROWS, nim_sum_strategy, not_so_smart_strategy, 0)\n",
    "\n",
    "logging.info(\"Game 6:\\n N = 5\\n Start: Second Agent\\n First agent: nim sum strategy\\n Second agent: not so smart strategy\")\n",
    "single_game(NUM_ROWS, nim_sum_strategy, not_so_smart_strategy, 1)"
   ]
  },
  {
   "attachments": {},
   "cell_type": "markdown",
   "metadata": {},
   "source": [
    "### Some human-like strategies\n",
    "\n",
    "New strategies have been defined: they are based on feasible human moves and each of them can be executed with five variations, by removing either one, half, one-third, two-third or all the sticks in the chosen row.\n",
    "\n",
    "The strategies are:\n",
    "- shortest row\n",
    "- longest row\n",
    "- first row\n",
    "- last row\n",
    "- middle row"
   ]
  },
  {
   "cell_type": "code",
   "execution_count": 16,
   "metadata": {},
   "outputs": [],
   "source": [
    "def items_to_remove(num_law, num):\n",
    "    assert num > 0\n",
    "    # all the item\n",
    "    if num_law == 0: return num\n",
    "    # one item\n",
    "    elif num_law == 1: return 1\n",
    "    # half of the items\n",
    "    elif num_law == 2: return int((num+1)/2)\n",
    "    # one-third of the items\n",
    "    elif num_law == 3: return int((num+2)/3)\n",
    "    # two-third of the items\n",
    "    else: return int((num+1)/3) + 1\n",
    "\n",
    "\n",
    "def shortest_row_strategy(nim: Nim, num_law=0, nimming=True):\n",
    "    move = min((x for x in enumerate(nim.rows) if x[1] > 0), key=lambda y: y[1])\n",
    "    move = Nimply(move[0], items_to_remove(num_law, move[1]))\n",
    "    if nimming: nim.nimming(move)\n",
    "    return move\n",
    "\n",
    "\n",
    "def longest_row_strategy(nim: Nim, num_law=0, nimming=True):\n",
    "    move = max((x for x in enumerate(nim.rows)), key=lambda y: y[1])\n",
    "    move = Nimply(move[0], items_to_remove(num_law, move[1]))\n",
    "    if nimming: nim.nimming(move)\n",
    "    return move\n",
    "\n",
    "\n",
    "def first_row_strategy(nim: Nim, num_law=0, nimming=True):\n",
    "    move = min((x for x in enumerate(nim.rows) if x[1] > 0), key=lambda y: y[0])\n",
    "    move = Nimply(move[0], items_to_remove(num_law, move[1]))\n",
    "    if nimming: nim.nimming(move)\n",
    "    return move\n",
    "\n",
    "\n",
    "def last_row_strategy(nim: Nim, num_law=0, nimming=True):\n",
    "    move = max((x for x in enumerate(nim.rows) if x[1] > 0), key=lambda y: y[0])\n",
    "    move = Nimply(move[0], items_to_remove(num_law, move[1]))\n",
    "    if nimming: nim.nimming(move)\n",
    "    return move\n",
    "\n",
    "\n",
    "def middle_row_strategy(nim: Nim, num_law=0, nimming=True):\n",
    "    _list = list(x for x in enumerate(nim.rows) if x[1 > 0])\n",
    "    move = _list[int(len(_list) / 2)]\n",
    "    move = Nimply(move[0], items_to_remove(num_law, move[1]))\n",
    "    if nimming: nim.nimming(move)\n",
    "    return move"
   ]
  },
  {
   "attachments": {},
   "cell_type": "markdown",
   "metadata": {},
   "source": [
    "### The tournament\n",
    "\n",
    "During the tournament, each strategy (with their variation) is used in a fixed number of matches against the random strategy. Each match is repeated twice, alternating the starting strategy.\n",
    "\n",
    "At the end, all the winning ratios are compared and a winner is decreed."
   ]
  },
  {
   "cell_type": "code",
   "execution_count": 17,
   "metadata": {},
   "outputs": [
    {
     "name": "stderr",
     "output_type": "stream",
     "text": [
      "Best strategy: shortest_row_strategy, law 0 - Win ratio: 0.836\n"
     ]
    }
   ],
   "source": [
    "NUM_MATCHES = 1000\n",
    "NUM_ROWS = 5\n",
    "\n",
    "rules = [shortest_row_strategy, longest_row_strategy, first_row_strategy, last_row_strategy, middle_row_strategy]\n",
    "num_laws = [0, 1, 2, 3, 4]\n",
    "\n",
    "evaluations = dict()\n",
    "\n",
    "for index, rule in enumerate(rules):\n",
    "    for law in num_laws:\n",
    "        won = 0\n",
    "        for match in range(NUM_MATCHES):\n",
    "            winner = play_nim(NUM_ROWS, rule, random_strategy, match % 2, first_num_law=law)\n",
    "            won += (1 - winner)\n",
    "        ratio = won/NUM_MATCHES\n",
    "        evaluations[f\"{rules[index].__name__}, law {law}\"] = [index, law, ratio]\n",
    "        #logging.info(f\"{population[index].__name__}, law {law} - Fitness: {fit}\")\n",
    "\n",
    "best = max((x for x in evaluations), key=lambda y: evaluations[y][2])\n",
    "best_human_strategy = (rules[evaluations[best][0]], evaluations[best][1])\n",
    "logging.info(f\"Best strategy: {best} - Win ratio: {evaluations[best][2]}\")"
   ]
  },
  {
   "attachments": {},
   "cell_type": "markdown",
   "metadata": {},
   "source": [
    "### Evaluation phase\n",
    "\n",
    "The winning strategy is evaluated again: new matches are played against all the other strategies. At the end, the winning ratio is calculated; if it is high enough, then the strategy is the best possible (so far)."
   ]
  },
  {
   "cell_type": "code",
   "execution_count": 18,
   "metadata": {},
   "outputs": [
    {
     "name": "stderr",
     "output_type": "stream",
     "text": [
      "N = 2 - Win ratio: 0.9\n",
      "N = 3 - Win ratio: 0.9\n",
      "N = 4 - Win ratio: 0.9\n",
      "N = 5 - Win ratio: 0.9\n"
     ]
    }
   ],
   "source": [
    "for num_rows in [2, 3, 4, 5]:\n",
    "    won = 0\n",
    "    for individual in rules:\n",
    "        for law in num_laws:\n",
    "            for match in range(NUM_MATCHES):\n",
    "                winner = play_nim(\n",
    "                    NUM_ROWS,\n",
    "                    best_human_strategy[0],\n",
    "                    individual,\n",
    "                    match % 2,\n",
    "                    first_num_law=best_human_strategy[1],\n",
    "                    second_num_law=law\n",
    "                )\n",
    "                won += (1 - winner)\n",
    "    logging.info(f\"N = {num_rows} - Win ratio: {won/(len(rules)*len(num_laws)*NUM_MATCHES)}\")"
   ]
  },
  {
   "attachments": {},
   "cell_type": "markdown",
   "metadata": {},
   "source": [
    "## An agent using evolved rules"
   ]
  },
  {
   "attachments": {},
   "cell_type": "markdown",
   "metadata": {},
   "source": [
    "#### Individual\n",
    "An individual is formed by a set of four genes, each gene contains the strategy to use in a certain phase of the game."
   ]
  },
  {
   "cell_type": "code",
   "execution_count": 19,
   "metadata": {},
   "outputs": [],
   "source": [
    "Individual = namedtuple(\"Individual\", [\"genome\", \"fitness\"])\n",
    "\n",
    "# init the best individual, so that the evolved_strategy function works fine\n",
    "best_individual = list()\n",
    "for _ in range(4):\n",
    "    best_individual.append((random.choice(rules), random.choice(num_laws)))"
   ]
  },
  {
   "attachments": {},
   "cell_type": "markdown",
   "metadata": {},
   "source": [
    "#### Gene\n",
    "A gene is formed by a tuple of `(rule, law)`, previously defined in the human-like strategies."
   ]
  },
  {
   "cell_type": "code",
   "execution_count": 20,
   "metadata": {},
   "outputs": [],
   "source": [
    "def random_gene():\n",
    "    return (random.choice(rules), random.choice(num_laws))"
   ]
  },
  {
   "cell_type": "markdown",
   "metadata": {},
   "source": [
    "#### Cross-over\n",
    "Given two individual, merge them by taking a random $num$ of genes of the first one and `NUM_ROWS - num` genes of the second one."
   ]
  },
  {
   "cell_type": "code",
   "execution_count": 21,
   "metadata": {},
   "outputs": [],
   "source": [
    "# return individuals with max fitness (the fittest) but still random\n",
    "def tournament(population, tournament_size=2):\n",
    "    return max(random.choices(population, k=tournament_size), key=lambda i: i.fitness)\n",
    "\n",
    "\n",
    "# merge two individuals\n",
    "def cross_over(g1, g2):\n",
    "    cut = random.randint(0, len(g1))\n",
    "    return g1[:cut] + g2[cut:]"
   ]
  },
  {
   "attachments": {},
   "cell_type": "markdown",
   "metadata": {},
   "source": [
    "#### Mutation\n",
    "Replace a random gene of the individual with another random gene."
   ]
  },
  {
   "cell_type": "code",
   "execution_count": 22,
   "metadata": {},
   "outputs": [],
   "source": [
    "# replace a gene of the individual with a random one\n",
    "def mutation(g):\n",
    "    point = random.randint(0, len(g) - 1)\n",
    "    return g[:point] + ([random_gene()]) + g[point + 1 :]"
   ]
  },
  {
   "attachments": {},
   "cell_type": "markdown",
   "metadata": {},
   "source": [
    "### The evolved strategy\n",
    "The evolved strategy exploits the four genes of the individual.<br>\n",
    "As we said, each gene represents a rule:\n",
    "- The first rule is used if the board contains less then a quarter of the total sticks.\n",
    "- The second rule is used if the board contains between a quarter and half of the total sticks.\n",
    "- the third rule is used if the board contains between half and three-quarters of the total sticks.\n",
    "- the fourth rule is used if the board contains more then three-quarters of the total sticks."
   ]
  },
  {
   "cell_type": "code",
   "execution_count": 23,
   "metadata": {},
   "outputs": [],
   "source": [
    "def get_rule(nim: Nim, individual):\n",
    "    tot_sticks = sum(Nim(len(nim.rows)).rows)\n",
    "    current_sticks = sum(nim.rows)\n",
    "    if current_sticks <= tot_sticks/4:\n",
    "        return individual[0]\n",
    "    elif current_sticks <= tot_sticks/2:\n",
    "        return individual[1]\n",
    "    elif current_sticks <= tot_sticks*3/4:\n",
    "        return individual[2]\n",
    "    else:\n",
    "        return individual[3]\n",
    "\n",
    "\n",
    "def evolved_strategy(nim: Nim, num_law=0, nimming=True):\n",
    "    rule = get_rule(nim, best_individual)\n",
    "    law = rule[1]\n",
    "    rule = rule[0]\n",
    "    move = rule(nim, num_law=law, nimming=False)\n",
    "    if nimming: nim.nimming(move)\n",
    "    return move"
   ]
  },
  {
   "attachments": {},
   "cell_type": "markdown",
   "metadata": {},
   "source": [
    "#### Fitness\n",
    "The fitness is obtained by summing the winning ratio of the individual against the random strategy and the best human strategy, using boards with 2, 3, 4, and 5 rows."
   ]
  },
  {
   "cell_type": "code",
   "execution_count": 24,
   "metadata": {},
   "outputs": [],
   "source": [
    "# remember to insert the individual you are evaluating into the best_individual variable\n",
    "def get_fitness():\n",
    "    NUM_MATCHES = 200\n",
    "    fitness = 0\n",
    "    for num_rows in [2, 3, 4, 5]:\n",
    "        won = 0\n",
    "        for match in range(NUM_MATCHES):\n",
    "            winner = play_nim(\n",
    "                num_rows,\n",
    "                evolved_strategy,\n",
    "                random_strategy if match < NUM_MATCHES/2 else best_human_strategy[0],\n",
    "                match % 2,\n",
    "                second_num_law=best_human_strategy[1]\n",
    "            )\n",
    "            won += (1 - winner)\n",
    "        fitness += won/NUM_MATCHES\n",
    "    return fitness"
   ]
  },
  {
   "attachments": {},
   "cell_type": "markdown",
   "metadata": {},
   "source": [
    "### Initial Population"
   ]
  },
  {
   "cell_type": "code",
   "execution_count": 25,
   "metadata": {},
   "outputs": [],
   "source": [
    "POPULATION_SIZE = 50\n",
    "OFFSPRING_SIZE = 17\n",
    "\n",
    "NUM_GENERATIONS = 500"
   ]
  },
  {
   "cell_type": "code",
   "execution_count": 26,
   "metadata": {},
   "outputs": [
    {
     "name": "stderr",
     "output_type": "stream",
     "text": [
      "init: pop_size=50; max=2.5849999999999995\n"
     ]
    }
   ],
   "source": [
    "# init the best individual, so that the evolved_strategy function works fine\n",
    "best_individual = list()\n",
    "for _ in range(4):\n",
    "    best_individual.append((random.choice(rules), random.choice(num_laws)))\n",
    "\n",
    "population = list()\n",
    "for index in range(POPULATION_SIZE):\n",
    "    individual = list()\n",
    "    for _ in range(4):\n",
    "        individual.append(random_gene())\n",
    "    \n",
    "    temp = best_individual\n",
    "    best_individual = individual\n",
    "    population.append(Individual(individual, get_fitness()))\n",
    "    best_individual = temp\n",
    "\n",
    "logging.info(f\"init: pop_size={len(population)}; max={max(population, key=lambda i: i.fitness)[1]}\")"
   ]
  },
  {
   "attachments": {},
   "cell_type": "markdown",
   "metadata": {},
   "source": [
    "### Evolution Algorithm"
   ]
  },
  {
   "cell_type": "code",
   "execution_count": 27,
   "metadata": {},
   "outputs": [
    {
     "name": "stderr",
     "output_type": "stream",
     "text": [
      "Number of generations: 500\n",
      "Population size: 50\n",
      "Offspring size: 17\n",
      "\n",
      "Best strategy:\n",
      "Rule 0: (shortest_row_strategy, 0)\n",
      "Rule 1: (shortest_row_strategy, 0)\n",
      "Rule 2: (first_row_strategy, 0)\n",
      "Rule 3: (middle_row_strategy, 4)\n",
      "Fitness: 3.1399999999999997\n"
     ]
    }
   ],
   "source": [
    "fitness_log = [(0, i.fitness) for i in population]\n",
    "\n",
    "for g in range(NUM_GENERATIONS):\n",
    "    offspring = list()\n",
    "    for i in range(OFFSPRING_SIZE):\n",
    "        if random.random() < 0.3:\n",
    "            p = tournament(population)\n",
    "            o = mutation(p.genome)\n",
    "        else:\n",
    "            p1 = tournament(population)\n",
    "            p2 = tournament(population)\n",
    "            o = cross_over(p1.genome, p2.genome)\n",
    "        temp = best_individual\n",
    "        best_individual = o\n",
    "        f = get_fitness()\n",
    "        best_individual = temp\n",
    "        fitness_log.append((g + 1, f))\n",
    "        offspring.append(Individual(o, f))\n",
    "    for goff in offspring:\n",
    "        if goff not in population:\n",
    "            population.append(goff)\n",
    "    population = sorted(population, key=lambda i: -i.fitness)[:POPULATION_SIZE]\n",
    "\n",
    "best_individual = max(population, key=lambda i: i.fitness)\n",
    "best_fitness = best_individual[1]\n",
    "best_individual = best_individual[0]\n",
    "\n",
    "logging.info(f\"Number of generations: {NUM_GENERATIONS}\")\n",
    "logging.info(f\"Population size: {POPULATION_SIZE}\")\n",
    "logging.info(f\"Offspring size: {OFFSPRING_SIZE}\\n\")\n",
    "\n",
    "logging.info(\"Best strategy:\")\n",
    "for index, rule in enumerate(best_individual):\n",
    "    logging.info(f\"Rule {index}: ({rule[0].__name__}, {rule[1]})\")\n",
    "logging.info(f\"Fitness: {best_fitness}\")"
   ]
  },
  {
   "attachments": {},
   "cell_type": "markdown",
   "metadata": {},
   "source": [
    "### Performance Evaluation"
   ]
  },
  {
   "cell_type": "code",
   "execution_count": 28,
   "metadata": {},
   "outputs": [
    {
     "data": {
      "text/plain": [
       "[<matplotlib.lines.Line2D at 0x1c2678139d0>]"
      ]
     },
     "execution_count": 28,
     "metadata": {},
     "output_type": "execute_result"
    },
    {
     "data": {
      "image/png": "[encoded data removed]",
      "text/plain": [
       "<Figure size 1500x600 with 1 Axes>"
      ]
     },
     "metadata": {},
     "output_type": "display_data"
    }
   ],
   "source": [
    "off_line = [max(f[1] for f in fitness_log if f[0] == x) / (x + 1) for x in range(NUM_GENERATIONS)]\n",
    "on_line = [max(f[1] for f in fitness_log if f[0] <= x) / (x + 1) for x in range(NUM_GENERATIONS)]\n",
    "gen_best = [max(f[1] for f in fitness_log if f[0] == x) for x in range(NUM_GENERATIONS)]\n",
    "\n",
    "plt.figure(figsize=(15, 6))\n",
    "plt.scatter([x for x, _ in fitness_log], [y for _, y in fitness_log], marker=\".\")\n",
    "plt.plot([x for x, _ in enumerate(gen_best)], [y for _, y in enumerate(gen_best)])\n",
    "plt.plot([x for x, _ in enumerate(on_line)], [y for _, y in enumerate(on_line)])\n",
    "plt.plot([x for x, _ in enumerate(off_line)], [y for _, y in enumerate(off_line)])"
   ]
  },
  {
   "attachments": {},
   "cell_type": "markdown",
   "metadata": {},
   "source": [
    "### The evaluation"
   ]
  },
  {
   "cell_type": "code",
   "execution_count": 29,
   "metadata": {},
   "outputs": [],
   "source": [
    "def evaluate(first_strategy, second_strategy, first_num_law=0, second_num_law=0, rows=[2, 3, 4, 5], num_matches=100, starter=2):\n",
    "    for num_rows in rows:\n",
    "        won = 0\n",
    "        for match in range(num_matches):\n",
    "            won += (1 - play_nim(num_rows, first_strategy, second_strategy, match % 2 if starter == 2 else starter % 2, first_num_law, second_num_law))\n",
    "        logging.info(f\"N = {num_rows} - Win ratio: {won/num_matches}\")"
   ]
  },
  {
   "attachments": {},
   "cell_type": "markdown",
   "metadata": {},
   "source": [
    "#### Match against the random strategy"
   ]
  },
  {
   "cell_type": "code",
   "execution_count": 30,
   "metadata": {},
   "outputs": [
    {
     "name": "stderr",
     "output_type": "stream",
     "text": [
      "N = 2 - Win ratio: 0.77\n",
      "N = 3 - Win ratio: 0.61\n",
      "N = 4 - Win ratio: 0.72\n",
      "N = 5 - Win ratio: 0.81\n"
     ]
    }
   ],
   "source": [
    "evaluate(evolved_strategy, random_strategy)"
   ]
  },
  {
   "attachments": {},
   "cell_type": "markdown",
   "metadata": {},
   "source": [
    "#### Match against the best human strategy"
   ]
  },
  {
   "cell_type": "code",
   "execution_count": 31,
   "metadata": {},
   "outputs": [
    {
     "name": "stderr",
     "output_type": "stream",
     "text": [
      "N = 2 - Win ratio: 1.0\n",
      "N = 3 - Win ratio: 0.5\n",
      "N = 4 - Win ratio: 0.5\n",
      "N = 5 - Win ratio: 1.0\n"
     ]
    }
   ],
   "source": [
    "evaluate(evolved_strategy, best_human_strategy[0], second_num_law=best_human_strategy[1])"
   ]
  },
  {
   "attachments": {},
   "cell_type": "markdown",
   "metadata": {},
   "source": [
    "## An agent using minmax"
   ]
  },
  {
   "attachments": {},
   "cell_type": "markdown",
   "metadata": {},
   "source": [
    "I am maximizing my possible reward, while my opponent is minimizing my possible reward (so maximizing his reward).\n",
    "\n",
    "When it's my turn:\n",
    "- Calculate all the possible moves.\n",
    "- Calculate all the possible moved for my opponent (for each of my moves)\n",
    "- Keep on calculating, until all the possible combinations end in someone winning.\n",
    "- Alpha beta pruning was included in the implementation.\n",
    "- Pick the path that maximize my reward."
   ]
  },
  {
   "cell_type": "code",
   "execution_count": 32,
   "metadata": {},
   "outputs": [],
   "source": [
    "cache = {}\n",
    "cache['hit'] = 0\n",
    "def minmax(nim: Nim, alpha = -1, beta = 1, player = 1, depth = 0):\n",
    "    if not nim:\n",
    "        #print(f\"End at depth {depth} - Player {0 if player == 1 else 1}\")\n",
    "        return None, player\n",
    "    key_ = f\"{nim.rows} {player}\"\n",
    "    if key_ in cache.keys():\n",
    "        cache['hit'] += 1\n",
    "        return cache[key_]\n",
    "    evaluations = list()\n",
    "    for ply in possible_moves(nim):\n",
    "        #print(f\"Player {0 if player == 1 else 1} - Move {depth}: {ply}\")\n",
    "        board = deepcopy(nim)\n",
    "        board.nimming(ply)\n",
    "        _, val = minmax(board, alpha=alpha, beta=beta, player=-player, depth=depth+1)\n",
    "        evaluations.append((ply, val))\n",
    "        if player == 1:\n",
    "            beta = min(beta, val)\n",
    "        else:\n",
    "            alpha = max(alpha, val)\n",
    "        if beta <= alpha:\n",
    "            break\n",
    "    if player == 1:\n",
    "        val = min(evaluations, key=lambda k: k[1])\n",
    "    else:\n",
    "        val = max(evaluations, key=lambda k: k[1])\n",
    "    cache[key_] = val\n",
    "    return val"
   ]
  },
  {
   "cell_type": "code",
   "execution_count": 33,
   "metadata": {},
   "outputs": [],
   "source": [
    "def minmax_strategy(nim: Nim, num_law=None, nimming=True):\n",
    "    best_ply, _ = minmax(nim)\n",
    "    if nimming: nim.nimming(best_ply)\n",
    "    return best_ply"
   ]
  },
  {
   "attachments": {},
   "cell_type": "markdown",
   "metadata": {},
   "source": [
    "#### An iterative version of MinMax"
   ]
  },
  {
   "cell_type": "code",
   "execution_count": null,
   "metadata": {},
   "outputs": [],
   "source": [
    "class StackEntry:\n",
    "    def __init__(self, board: Nim, alpha: int, beta: int, player: int, depth: int, plyIndex: int, stackIndex: int, evaluations: list, result: tuple) -> None:\n",
    "        self.board = board\n",
    "        self.alpha = alpha\n",
    "        self.beta = beta\n",
    "        self.player = player\n",
    "        self.depth = depth\n",
    "        self.plyIndex = plyIndex\n",
    "        self.stackIndex = stackIndex\n",
    "        self.evaluations = evaluations\n",
    "        self.result = result\n",
    "    \n",
    "    def get(self) -> tuple:\n",
    "        return self.board, self.alpha, self.beta, self.player, self.depth, self.plyIndex, self.stackIndex, self.evaluations, self.result"
   ]
  },
  {
   "cell_type": "code",
   "execution_count": null,
   "metadata": {},
   "outputs": [],
   "source": [
    "def minmax(nim: Nim):\n",
    "    stack: list[StackEntry] = list()\n",
    "    # stack: board, alpha, beta, player, depth, plyIndex, stackIndex, evaluations, result\n",
    "    stack.append(StackEntry(None, None, None, None, None, None, None, None, None))\n",
    "    stack.append(StackEntry(deepcopy(nim), -1, 1, 1, 0, -1, len(stack) - 1, list(), None))\n",
    "    while len(stack) > 1:\n",
    "        board, alpha, beta, player, depth, plyIndex, stackIndex, evaluations, result = stack.pop().get()\n",
    "        if depth > 10:\n",
    "            stack[stackIndex].result = (None, -player)\n",
    "            continue\n",
    "        if not board:\n",
    "            stack[stackIndex].result = (None, player)\n",
    "            continue\n",
    "        moves = possible_moves(board)\n",
    "        if plyIndex != -1:\n",
    "            ply = moves[plyIndex]\n",
    "            evaluations.append((ply, result[1]))\n",
    "            if player == 1:\n",
    "                beta = min(beta, result[1])\n",
    "            else:\n",
    "                alpha = max(alpha, result[1])\n",
    "            if plyIndex == len(moves) - 1 or beta <= alpha:\n",
    "                if player == 1:\n",
    "                    stack[stackIndex].result = min(evaluations, key = lambda k : k[1])\n",
    "                else:\n",
    "                    stack[stackIndex].result = max(evaluations, key = lambda k : k[1])\n",
    "                continue\n",
    "        ply = moves[plyIndex+1]\n",
    "        new_board = deepcopy(board)\n",
    "        new_board.nimming(ply)\n",
    "        stack.append(StackEntry(board, alpha, beta, player, depth, plyIndex+1, stackIndex, evaluations, result))\n",
    "        stack.append(StackEntry(new_board, alpha, beta, -player, depth + 1, -1, len(stack) - 1, list(), None))\n",
    "    return stack.pop().result"
   ]
  },
  {
   "attachments": {},
   "cell_type": "markdown",
   "metadata": {},
   "source": [
    "### The evaluation"
   ]
  },
  {
   "attachments": {},
   "cell_type": "markdown",
   "metadata": {},
   "source": [
    "#### Match against random strategy"
   ]
  },
  {
   "cell_type": "code",
   "execution_count": 44,
   "metadata": {},
   "outputs": [
    {
     "name": "stderr",
     "output_type": "stream",
     "text": [
      "N = 2 - Win ratio: 0.92\n",
      "N = 3 - Win ratio: 1.0\n",
      "N = 4 - Win ratio: 1.0\n",
      "N = 5 - Win ratio: 1.0\n"
     ]
    }
   ],
   "source": [
    "evaluate(minmax_strategy, random_strategy)"
   ]
  },
  {
   "attachments": {},
   "cell_type": "markdown",
   "metadata": {},
   "source": [
    "#### Match against best human strategy"
   ]
  },
  {
   "cell_type": "code",
   "execution_count": 45,
   "metadata": {},
   "outputs": [
    {
     "name": "stderr",
     "output_type": "stream",
     "text": [
      "N = 2 - Win ratio: 1.0\n",
      "N = 3 - Win ratio: 1.0\n",
      "N = 4 - Win ratio: 1.0\n",
      "N = 5 - Win ratio: 1.0\n"
     ]
    }
   ],
   "source": [
    "evaluate(minmax_strategy, best_human_strategy[0], second_num_law=best_human_strategy[1])"
   ]
  },
  {
   "attachments": {},
   "cell_type": "markdown",
   "metadata": {},
   "source": [
    "#### Match against evolved strategy"
   ]
  },
  {
   "cell_type": "code",
   "execution_count": 76,
   "metadata": {},
   "outputs": [
    {
     "name": "stderr",
     "output_type": "stream",
     "text": [
      "N = 2 - Win ratio: 0.5\n",
      "N = 3 - Win ratio: 1.0\n",
      "N = 4 - Win ratio: 1.0\n",
      "N = 5 - Win ratio: 1.0\n"
     ]
    }
   ],
   "source": [
    "evaluate(minmax_strategy, evolved_strategy)"
   ]
  },
  {
   "attachments": {},
   "cell_type": "markdown",
   "metadata": {},
   "source": [
    "#### Match against nim sum strategy\n",
    "\n",
    "The minmax strategy makes the first move:"
   ]
  },
  {
   "cell_type": "code",
   "execution_count": 50,
   "metadata": {},
   "outputs": [
    {
     "name": "stderr",
     "output_type": "stream",
     "text": [
      "N = 2 - Win ratio: 1.0\n",
      "N = 3 - Win ratio: 1.0\n",
      "N = 4 - Win ratio: 0.0\n",
      "N = 5 - Win ratio: 1.0\n"
     ]
    }
   ],
   "source": [
    "evaluate(minmax_strategy, nim_sum_strategy, starter=0)"
   ]
  },
  {
   "attachments": {},
   "cell_type": "markdown",
   "metadata": {},
   "source": [
    "The nimsum strategy makes the first move:"
   ]
  },
  {
   "cell_type": "code",
   "execution_count": 52,
   "metadata": {},
   "outputs": [
    {
     "name": "stderr",
     "output_type": "stream",
     "text": [
      "N = 2 - Win ratio: 0.0\n",
      "N = 3 - Win ratio: 0.0\n",
      "N = 4 - Win ratio: 1.0\n",
      "N = 5 - Win ratio: 0.0\n"
     ]
    }
   ],
   "source": [
    "evaluate(minmax_strategy, nim_sum_strategy, starter=1)"
   ]
  },
  {
   "attachments": {},
   "cell_type": "markdown",
   "metadata": {},
   "source": [
    "## An agent using reinforcement learning"
   ]
  },
  {
   "cell_type": "code",
   "execution_count": 54,
   "metadata": {},
   "outputs": [],
   "source": [
    "class Agent(object):\n",
    "    def __init__(self, states, alpha=0.15, random_factor=0.2):  # 80% explore, 20% exploit\n",
    "        self.state_history = [(states.rows, 0)]  # state, reward\n",
    "        self.alpha = alpha\n",
    "        self.random_factor = random_factor\n",
    "        self.G = {}\n",
    "\n",
    "    def choose_action(self, state, allowedMoves):\n",
    "        maxG = -10e15\n",
    "        next_move = None\n",
    "        randomN = np.random.random()\n",
    "        if randomN < self.random_factor:\n",
    "            # if random number below random factor, choose random action\n",
    "            next_move = random.choice(allowedMoves)\n",
    "        else:\n",
    "            # if exploiting, gather all possible actions and choose one with the highest G (reward)\n",
    "            for action in allowedMoves:\n",
    "                new_state = deepcopy(state)\n",
    "                new_state.nimming(action)\n",
    "\n",
    "                if new_state.rows not in self.G.keys():\n",
    "                    self.G[new_state.rows] = np.random.uniform(low=1.0, high=0.1)\n",
    "                \n",
    "                if self.G[new_state.rows] >= maxG:\n",
    "                    next_move = action\n",
    "                    maxG = self.G[new_state.rows]\n",
    "\n",
    "        return next_move\n",
    "\n",
    "    def update_state_history(self, state, reward):\n",
    "        self.state_history.append((state.rows, reward))\n",
    "\n",
    "    def learn(self):\n",
    "        target = 0\n",
    "\n",
    "        for prev, reward in reversed(self.state_history):\n",
    "            if prev not in self.G.keys():\n",
    "                self.G[prev] = np.random.uniform(low=1.0, high=0.1)\n",
    "            self.G[prev] = self.G[prev] + self.alpha * (target - self.G[prev])\n",
    "            target += reward\n",
    "\n",
    "        self.state_history = []\n",
    "\n",
    "        self.random_factor -= 10e-5  # decrease random factor each episode of play\n"
   ]
  },
  {
   "attachments": {},
   "cell_type": "markdown",
   "metadata": {},
   "source": [
    "### The reward\n",
    "\n",
    "The agents gets a 1 reward if the move he does is the winning one (the last move of the game), 0 otherwise."
   ]
  },
  {
   "cell_type": "code",
   "execution_count": 55,
   "metadata": {},
   "outputs": [],
   "source": [
    "def get_reward(nim: Nim):\n",
    "    return 0 if nim else 1"
   ]
  },
  {
   "attachments": {},
   "cell_type": "markdown",
   "metadata": {},
   "source": [
    "### The learning phase\n",
    "\n",
    "During the learning phase, the agent is trained against the random strategy. 10000 matches are performed and, at the end, the agent improves significantly."
   ]
  },
  {
   "cell_type": "code",
   "execution_count": 56,
   "metadata": {},
   "outputs": [],
   "source": [
    "def train(agent: Agent, opponent_strategy, opponent_law=None):\n",
    "    NUM_MATCHES = 10000\n",
    "    NUM_ROWS = 5\n",
    "    nim = Nim(NUM_ROWS)\n",
    "    rateHistory = []\n",
    "    indices = []\n",
    "    won = 0\n",
    "    for match in range(NUM_MATCHES):\n",
    "        while nim:\n",
    "            action = agent.choose_action(nim, possible_moves(nim))\n",
    "            nim.nimming(action)\n",
    "            reward = get_reward(nim)\n",
    "            agent.update_state_history(nim, reward)\n",
    "            if nim:\n",
    "                opponent_strategy(nim, opponent_law)\n",
    "        if nim.turn == 1:\n",
    "            won +=1\n",
    "        agent.learn()\n",
    "        if match % 100 == 99:\n",
    "            rateHistory.append(won / 100)\n",
    "            indices.append(match)\n",
    "            won = 0\n",
    "        nim = Nim(NUM_ROWS)\n",
    "\n",
    "    plt.semilogy(indices, rateHistory, \"b\")\n",
    "    plt.show()"
   ]
  },
  {
   "attachments": {},
   "cell_type": "markdown",
   "metadata": {},
   "source": [
    "### The opponents\n",
    "\n",
    "The reinforcement learning algorithm has been trained against:\n",
    "- Random strategy\n",
    "- Best human-like strategy\n",
    "- Evolved strategy\n",
    "- Nim sum strategy"
   ]
  },
  {
   "cell_type": "code",
   "execution_count": 57,
   "metadata": {},
   "outputs": [],
   "source": [
    "# remember to initialize the rl_agent before using this function\n",
    "def rl_strategy(nim: Nim, num_law=None, nimming=True):\n",
    "    action = rl_agent.choose_action(nim, possible_moves(nim))\n",
    "    if nimming: nim.nimming(action)\n",
    "    return action"
   ]
  },
  {
   "attachments": {},
   "cell_type": "markdown",
   "metadata": {},
   "source": [
    "#### Reinforcement learning against random strategy"
   ]
  },
  {
   "cell_type": "code",
   "execution_count": 58,
   "metadata": {},
   "outputs": [],
   "source": [
    "NUM_ROWS = 5\n",
    "nim = Nim(NUM_ROWS)\n",
    "rl_agent = Agent(nim, alpha=0.1, random_factor=0.4)"
   ]
  },
  {
   "attachments": {},
   "cell_type": "markdown",
   "metadata": {},
   "source": [
    "##### The first evaluation"
   ]
  },
  {
   "cell_type": "code",
   "execution_count": 59,
   "metadata": {},
   "outputs": [
    {
     "name": "stderr",
     "output_type": "stream",
     "text": [
      "N = 5 - Win ratio: 0.5\n"
     ]
    }
   ],
   "source": [
    "evaluate(rl_strategy, random_strategy, rows=[NUM_ROWS], starter=0)"
   ]
  },
  {
   "attachments": {},
   "cell_type": "markdown",
   "metadata": {},
   "source": [
    "##### The training phase"
   ]
  },
  {
   "cell_type": "code",
   "execution_count": 60,
   "metadata": {},
   "outputs": [
    {
     "data": {
      "image/png": "[encoded data removed]",
      "text/plain": [
       "<Figure size 640x480 with 1 Axes>"
      ]
     },
     "metadata": {},
     "output_type": "display_data"
    }
   ],
   "source": [
    "train(rl_agent, random_strategy, None)"
   ]
  },
  {
   "attachments": {},
   "cell_type": "markdown",
   "metadata": {},
   "source": [
    "##### The second evaluation"
   ]
  },
  {
   "cell_type": "code",
   "execution_count": 61,
   "metadata": {},
   "outputs": [
    {
     "name": "stderr",
     "output_type": "stream",
     "text": [
      "N = 5 - Win ratio: 0.97\n"
     ]
    }
   ],
   "source": [
    "evaluate(rl_strategy, random_strategy, rows=[NUM_ROWS], starter=0)"
   ]
  },
  {
   "attachments": {},
   "cell_type": "markdown",
   "metadata": {},
   "source": [
    "#### RL against best human strategy"
   ]
  },
  {
   "cell_type": "code",
   "execution_count": 62,
   "metadata": {},
   "outputs": [],
   "source": [
    "nim = Nim(NUM_ROWS)\n",
    "rl_agent = Agent(nim, alpha=0.1, random_factor=0.4)"
   ]
  },
  {
   "attachments": {},
   "cell_type": "markdown",
   "metadata": {},
   "source": [
    "##### The first evaluation"
   ]
  },
  {
   "cell_type": "code",
   "execution_count": 63,
   "metadata": {},
   "outputs": [
    {
     "name": "stderr",
     "output_type": "stream",
     "text": [
      "N = 5 - Win ratio: 0.15\n"
     ]
    }
   ],
   "source": [
    "evaluate(rl_strategy, best_human_strategy[0], second_num_law=best_human_strategy[1], rows=[NUM_ROWS], starter=0)"
   ]
  },
  {
   "attachments": {},
   "cell_type": "markdown",
   "metadata": {},
   "source": [
    "##### The learning phase"
   ]
  },
  {
   "cell_type": "code",
   "execution_count": 64,
   "metadata": {},
   "outputs": [
    {
     "data": {
      "image/png": "[encoded data removed]",
      "text/plain": [
       "<Figure size 640x480 with 1 Axes>"
      ]
     },
     "metadata": {},
     "output_type": "display_data"
    }
   ],
   "source": [
    "train(rl_agent, best_human_strategy[0], opponent_law=best_human_strategy[1])"
   ]
  },
  {
   "attachments": {},
   "cell_type": "markdown",
   "metadata": {},
   "source": [
    "##### The second evaluation"
   ]
  },
  {
   "cell_type": "code",
   "execution_count": 65,
   "metadata": {},
   "outputs": [
    {
     "name": "stderr",
     "output_type": "stream",
     "text": [
      "N = 5 - Win ratio: 1.0\n"
     ]
    }
   ],
   "source": [
    "evaluate(rl_strategy, best_human_strategy[0], second_num_law=best_human_strategy[1], rows=[NUM_ROWS], starter=0)"
   ]
  },
  {
   "attachments": {},
   "cell_type": "markdown",
   "metadata": {},
   "source": [
    "#### RL against evolved strategy"
   ]
  },
  {
   "cell_type": "code",
   "execution_count": 66,
   "metadata": {},
   "outputs": [],
   "source": [
    "nim = Nim(NUM_ROWS)\n",
    "rl_agent = Agent(nim, alpha=0.1, random_factor=0.4)"
   ]
  },
  {
   "attachments": {},
   "cell_type": "markdown",
   "metadata": {},
   "source": [
    "##### The first evaluation"
   ]
  },
  {
   "cell_type": "code",
   "execution_count": 67,
   "metadata": {},
   "outputs": [
    {
     "name": "stderr",
     "output_type": "stream",
     "text": [
      "N = 5 - Win ratio: 0.19\n"
     ]
    }
   ],
   "source": [
    "evaluate(rl_strategy, evolved_strategy, rows=[NUM_ROWS], starter=0)"
   ]
  },
  {
   "attachments": {},
   "cell_type": "markdown",
   "metadata": {},
   "source": [
    "##### The learning phase"
   ]
  },
  {
   "cell_type": "code",
   "execution_count": 68,
   "metadata": {},
   "outputs": [
    {
     "data": {
      "image/png": "[encoded data removed]",
      "text/plain": [
       "<Figure size 640x480 with 1 Axes>"
      ]
     },
     "metadata": {},
     "output_type": "display_data"
    }
   ],
   "source": [
    "train(rl_agent, evolved_strategy)"
   ]
  },
  {
   "attachments": {},
   "cell_type": "markdown",
   "metadata": {},
   "source": [
    "##### The second evaluation"
   ]
  },
  {
   "cell_type": "code",
   "execution_count": 69,
   "metadata": {},
   "outputs": [
    {
     "name": "stderr",
     "output_type": "stream",
     "text": [
      "N = 5 - Win ratio: 1.0\n"
     ]
    }
   ],
   "source": [
    "evaluate(rl_strategy, evolved_strategy, rows=[NUM_ROWS], starter=0)"
   ]
  },
  {
   "attachments": {},
   "cell_type": "markdown",
   "metadata": {},
   "source": [
    "#### RL against nim sum strategy"
   ]
  },
  {
   "cell_type": "code",
   "execution_count": 70,
   "metadata": {},
   "outputs": [],
   "source": [
    "nim = Nim(NUM_ROWS)\n",
    "rl_agent = Agent(nim, alpha=0.1, random_factor=0.4)"
   ]
  },
  {
   "attachments": {},
   "cell_type": "markdown",
   "metadata": {},
   "source": [
    "##### The first evaluation"
   ]
  },
  {
   "cell_type": "code",
   "execution_count": 71,
   "metadata": {},
   "outputs": [
    {
     "name": "stderr",
     "output_type": "stream",
     "text": [
      "N = 5 - Win ratio: 0.0\n"
     ]
    }
   ],
   "source": [
    "evaluate(rl_strategy, nim_sum_strategy, rows=[NUM_ROWS], starter=0)"
   ]
  },
  {
   "attachments": {},
   "cell_type": "markdown",
   "metadata": {},
   "source": [
    "##### The learning phase"
   ]
  },
  {
   "cell_type": "code",
   "execution_count": 72,
   "metadata": {},
   "outputs": [
    {
     "data": {
      "image/png": "[encoded data removed]",
      "text/plain": [
       "<Figure size 640x480 with 1 Axes>"
      ]
     },
     "metadata": {},
     "output_type": "display_data"
    }
   ],
   "source": [
    "train(rl_agent, nim_sum_strategy)"
   ]
  },
  {
   "attachments": {},
   "cell_type": "markdown",
   "metadata": {},
   "source": [
    "##### The second evaluation"
   ]
  },
  {
   "cell_type": "code",
   "execution_count": 73,
   "metadata": {},
   "outputs": [
    {
     "name": "stderr",
     "output_type": "stream",
     "text": [
      "N = 5 - Win ratio: 0.82\n"
     ]
    }
   ],
   "source": [
    "evaluate(rl_strategy, nim_sum_strategy, rows=[NUM_ROWS], starter=0)"
   ]
  }
 ],
 "metadata": {
  "kernelspec": {
   "display_name": "Python 3.10.8 64-bit (microsoft store)",
   "language": "python",
   "name": "python3"
  },
  "language_info": {
   "codemirror_mode": {
    "name": "ipython",
    "version": 3
   },
   "file_extension": ".py",
   "mimetype": "text/x-python",
   "name": "python",
   "nbconvert_exporter": "python",
   "pygments_lexer": "ipython3",
   "version": "3.10.9"
  },
  "orig_nbformat": 4,
  "vscode": {
   "interpreter": {
    "hash": "9aff9e50adfaa9e30c910fb3872ffdc72747acb5f50803ca0504f00e980f7c25"
   }
  }
 },
 "nbformat": 4,
 "nbformat_minor": 2
}
