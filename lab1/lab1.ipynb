{
 "cells": [
  {
   "cell_type": "markdown",
   "metadata": {},
   "source": [
    "# Lab 1: Set Covering\n",
    "\n",
    "Given a number $N$ and some lists of integers $P = (L_0, L_1, L_2, ..., L_n)$, <br>\n",
    "determine, if possible, $S = (L_{s_0}, L_{s_1}, L_{s_2}, ..., L_{s_n})$<br>\n",
    "such that each number between $0$ and $N-1$ appears in at least one list<br>\n",
    "<br>\n",
    "$forall \\ n \\ in \\ [0, N-1] \\ exists \\ i : n \\ in \\ L_{s_i}$<br>\n",
    "<br>\n",
    "and that the total numbers of elements in all $L_{s_i}$ is minimum."
   ]
  },
  {
   "cell_type": "code",
   "execution_count": 1,
   "metadata": {},
   "outputs": [],
   "source": [
    "import random\n",
    "from gx_utils import *\n",
    "from copy import deepcopy\n",
    "import numpy as np\n",
    "import logging\n",
    "from random import seed, choice\n",
    "from typing import Callable"
   ]
  },
  {
   "cell_type": "code",
   "execution_count": 2,
   "metadata": {},
   "outputs": [],
   "source": [
    "def problem(N, seed=None):\n",
    "    random.seed(seed)\n",
    "    return [\n",
    "        list(set(random.randint(0, N - 1) for n in range(random.randint(N // 5, N // 2))))\n",
    "        for n in range(random.randint(N, N * 5))\n",
    "    ]"
   ]
  },
  {
   "cell_type": "code",
   "execution_count": 3,
   "metadata": {},
   "outputs": [],
   "source": [
    "logging.basicConfig(format=\"%(message)s\", level=logging.INFO)"
   ]
  },
  {
   "cell_type": "code",
   "execution_count": 4,
   "metadata": {},
   "outputs": [],
   "source": [
    "class State:\n",
    "    def __init__(self, data: np.array):\n",
    "        self._data = data.copy()\n",
    "        self._data.flags.writeable = False\n",
    "\n",
    "    def __hash__(self):\n",
    "        return hash(bytes(self._data))\n",
    "\n",
    "    def __eq__(self, other):\n",
    "        return bytes(self._data) == bytes(other._data)\n",
    "\n",
    "    def __lt__(self, other):\n",
    "        return bytes(self._data) < bytes(other._data)\n",
    "\n",
    "    def __str__(self):\n",
    "        return str(self._data)\n",
    "\n",
    "    def __repr__(self):\n",
    "        return repr(self._data)\n",
    "\n",
    "    @property\n",
    "    def data(self):\n",
    "        return self._data\n",
    "\n",
    "    def copy_data(self):\n",
    "        return self._data.copy()"
   ]
  },
  {
   "cell_type": "code",
   "execution_count": 5,
   "metadata": {},
   "outputs": [],
   "source": [
    "def search(\n",
    "    N,\n",
    "    initial_state: State,\n",
    "    goal_test: Callable,\n",
    "    state_cost: dict,\n",
    "    priority_function: Callable,\n",
    "    unit_cost: Callable,\n",
    "    beam = 0,\n",
    "):\n",
    "    frontier = PriorityQueue()\n",
    "    state_cost.clear()\n",
    "\n",
    "    state = initial_state\n",
    "    state_cost[state] = 0\n",
    "\n",
    "    while state is not None and not goal_test(state, N):\n",
    "        count = 0\n",
    "        for a in possible_actions(state, N):\n",
    "            count +=1\n",
    "            if beam and count >= beam:\n",
    "                break\n",
    "            new_state = result(state, a)\n",
    "            cost = unit_cost(a)\n",
    "            if new_state not in state_cost and new_state not in frontier:\n",
    "                state_cost[new_state] = state_cost[state] + cost\n",
    "                frontier.push(new_state, p=priority_function(new_state))\n",
    "                logging.debug(f\"Added new node to frontier (cost={state_cost[new_state]})\")\n",
    "            elif new_state in frontier and state_cost[new_state] > state_cost[state] + cost:\n",
    "                old_cost = state_cost[new_state]\n",
    "                state_cost[new_state] = state_cost[state] + cost\n",
    "                logging.debug(f\"Updated node cost in frontier: {old_cost} -> {state_cost[new_state]}\")\n",
    "        if frontier:\n",
    "            state = frontier.pop()\n",
    "        else:\n",
    "            state = None\n",
    "\n",
    "    if state:\n",
    "        logging.info(f\"Found a solution for N={N}: w={state_cost[state]:,}; visited {len(state_cost):,} nodes\")\n",
    "    else:\n",
    "        logging.info(\"Solution not found!\")\n",
    "    \n",
    "    return 1 if state else 0"
   ]
  },
  {
   "cell_type": "code",
   "execution_count": 6,
   "metadata": {},
   "outputs": [],
   "source": [
    "SEED = 42\n",
    "seed(SEED)"
   ]
  },
  {
   "cell_type": "code",
   "execution_count": 7,
   "metadata": {},
   "outputs": [],
   "source": [
    "INITIAL_STATE = State(np.array([]))\n",
    "\n",
    "GOAL = dict()\n",
    "for N in (5, 10, 20, 100, 500, 1000):\n",
    "    GOAL[N] = State(np.array(list(set(range(N)))))\n",
    "    #logging.info(f\"Goal:\\n{GOAL[N]}\")\n",
    "\n",
    "\n",
    "def goal_test(state, N):\n",
    "    return state == GOAL[N]"
   ]
  },
  {
   "cell_type": "code",
   "execution_count": 8,
   "metadata": {},
   "outputs": [],
   "source": [
    "def is_valid(state: list, action: list):\n",
    "    valid = not all(item in state for item in action)\n",
    "    return valid\n",
    "\n",
    "all_lists = dict()\n",
    "for N in (5, 10, 20, 100, 500, 1000):\n",
    "    all_lists[N] = problem(N, seed=SEED)\n",
    "\n",
    "def possible_actions(state: State, N):\n",
    "    return (m for m in all_lists[N] if is_valid(list(state._data), m))\n",
    "\n",
    "\n",
    "def result(state: State, action: list):\n",
    "    return State(np.array(list(set(state.copy_data()).union(action))))"
   ]
  },
  {
   "cell_type": "markdown",
   "metadata": {},
   "source": [
    "## Breadth-First"
   ]
  },
  {
   "cell_type": "code",
   "execution_count": 9,
   "metadata": {},
   "outputs": [
    {
     "name": "stderr",
     "output_type": "stream",
     "text": [
      "Found a solution for N=5: w=5; visited 32 nodes\n",
      "Found a solution for N=10: w=10; visited 743 nodes\n",
      "Found a solution for N=20: w=23; visited 15,935 nodes\n",
      "Breadth-First was too slow to find a solution for N=100\n",
      "Breadth-First was too slow to find a solution for N=500\n",
      "Breadth-First was too slow to find a solution for N=1000\n"
     ]
    }
   ],
   "source": [
    "for N in (5, 10, 20, 100, 500, 1000):\n",
    "    if N < 100:\n",
    "        state_cost = dict()\n",
    "\n",
    "        final = search(\n",
    "            N,\n",
    "            INITIAL_STATE,\n",
    "            goal_test=goal_test,\n",
    "            state_cost=state_cost,\n",
    "            priority_function=lambda s: len(s._data),\n",
    "            unit_cost=lambda a: len(a),\n",
    "        )\n",
    "    else:\n",
    "        logging.info(f\"Breadth-First was too slow to find a solution for N={N}\")"
   ]
  },
  {
   "cell_type": "markdown",
   "metadata": {},
   "source": [
    "## Depth-First"
   ]
  },
  {
   "cell_type": "code",
   "execution_count": 10,
   "metadata": {},
   "outputs": [
    {
     "name": "stderr",
     "output_type": "stream",
     "text": [
      "Found a solution for N=5: w=5; visited 17 nodes\n",
      "Found a solution for N=10: w=11; visited 62 nodes\n",
      "Found a solution for N=20: w=28; visited 74 nodes\n",
      "Found a solution for N=100: w=173; visited 1,603 nodes\n",
      "Found a solution for N=500: w=1,304; visited 10,778 nodes\n",
      "Found a solution for N=1000: w=2,893; visited 24,238 nodes\n"
     ]
    }
   ],
   "source": [
    "for N in (5, 10, 20, 100, 500, 1000):\n",
    "    state_cost = dict()\n",
    "\n",
    "    final = search(\n",
    "        N,\n",
    "        INITIAL_STATE,\n",
    "        goal_test=goal_test,\n",
    "        state_cost=state_cost,\n",
    "        priority_function=lambda s: -len(s._data),\n",
    "        unit_cost=lambda a: len(a),\n",
    "    )"
   ]
  },
  {
   "cell_type": "markdown",
   "metadata": {},
   "source": [
    "## A*"
   ]
  },
  {
   "cell_type": "code",
   "execution_count": 11,
   "metadata": {},
   "outputs": [
    {
     "name": "stderr",
     "output_type": "stream",
     "text": [
      "Found a solution for N=5: w=5; visited 32 nodes\n",
      "Found a solution for N=10: w=10; visited 743 nodes\n",
      "Found a solution for N=20: w=23; visited 15,935 nodes\n",
      "Found a solution for N=100: w=214; visited 2,163 nodes\n",
      "Found a solution for N=500: w=1,489; visited 14,368 nodes\n",
      "Found a solution for N=1000: w=3,717; visited 255,965 nodes\n"
     ]
    }
   ],
   "source": [
    "for N in (5, 10, 20, 100, 500, 1000):\n",
    "    def h(state):\n",
    "        if N < 100:\n",
    "            return int(N / (N + 1 - len(state)))\n",
    "        return N - len(state)\n",
    "        \n",
    "\n",
    "    state_cost = dict()\n",
    "\n",
    "    final = search(\n",
    "        N,\n",
    "        INITIAL_STATE,\n",
    "        goal_test=goal_test,\n",
    "        state_cost=state_cost,\n",
    "        priority_function=lambda s: len(s._data) + h(s._data),\n",
    "        unit_cost=lambda a: len(a),\n",
    "    )"
   ]
  }
 ],
 "metadata": {
  "kernelspec": {
   "display_name": "Python 3.10.8 64-bit (microsoft store)",
   "language": "python",
   "name": "python3"
  },
  "language_info": {
   "codemirror_mode": {
    "name": "ipython",
    "version": 3
   },
   "file_extension": ".py",
   "mimetype": "text/x-python",
   "name": "python",
   "nbconvert_exporter": "python",
   "pygments_lexer": "ipython3",
   "version": "3.10.8"
  },
  "orig_nbformat": 4,
  "vscode": {
   "interpreter": {
    "hash": "9aff9e50adfaa9e30c910fb3872ffdc72747acb5f50803ca0504f00e980f7c25"
   }
  }
 },
 "nbformat": 4,
 "nbformat_minor": 2
}
